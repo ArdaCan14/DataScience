{
 "cells": [
  {
   "cell_type": "markdown",
   "id": "f7770356-a91b-426b-a7bc-5b2a2add2417",
   "metadata": {},
   "source": [
    "# sqlite3"
   ]
  },
  {
   "cell_type": "code",
   "execution_count": 6,
   "id": "b8284331-711a-4bec-9f3a-e6d10f12e81d",
   "metadata": {},
   "outputs": [],
   "source": [
    "import sqlite3\n",
    "import pandas as pd"
   ]
  },
  {
   "cell_type": "code",
   "execution_count": 2,
   "id": "cd72d991-8736-434b-b391-1b4be156a210",
   "metadata": {},
   "outputs": [],
   "source": [
    "conn = sqlite3.connect('learnsql.db')"
   ]
  },
  {
   "cell_type": "code",
   "execution_count": 3,
   "id": "610f48dc-a68f-4d5c-a3d0-164006b8eb30",
   "metadata": {},
   "outputs": [
    {
     "data": {
      "text/plain": [
       "\u001b[1;31mCall signature:\u001b[0m \u001b[0mconn\u001b[0m\u001b[1;33m(\u001b[0m\u001b[1;33m*\u001b[0m\u001b[0margs\u001b[0m\u001b[1;33m,\u001b[0m \u001b[1;33m**\u001b[0m\u001b[0mkwargs\u001b[0m\u001b[1;33m)\u001b[0m\u001b[1;33m\u001b[0m\u001b[1;33m\u001b[0m\u001b[0m\n",
       "\u001b[1;31mType:\u001b[0m           Connection\n",
       "\u001b[1;31mString form:\u001b[0m    <sqlite3.Connection object at 0x0000022F2C00B790>\n",
       "\u001b[1;31mFile:\u001b[0m           d:\\admindisk\\anaconda3\\lib\\sqlite3\\__init__.py\n",
       "\u001b[1;31mDocstring:\u001b[0m      SQLite database connection object."
      ]
     },
     "metadata": {},
     "output_type": "display_data"
    }
   ],
   "source": [
    "?conn"
   ]
  },
  {
   "cell_type": "code",
   "execution_count": 4,
   "id": "65d399f2-57eb-47d0-bf1e-8d3503964348",
   "metadata": {},
   "outputs": [],
   "source": [
    "c = conn.cursor()"
   ]
  },
  {
   "cell_type": "code",
   "execution_count": 5,
   "id": "dccaa584-d08d-4ff5-aaf6-95f64c64216b",
   "metadata": {},
   "outputs": [
    {
     "data": {
      "text/plain": [
       "\u001b[1;31mType:\u001b[0m        Cursor\n",
       "\u001b[1;31mString form:\u001b[0m <sqlite3.Cursor object at 0x0000022F2EFFABC0>\n",
       "\u001b[1;31mFile:\u001b[0m        d:\\admindisk\\anaconda3\\lib\\sqlite3\\__init__.py\n",
       "\u001b[1;31mDocstring:\u001b[0m   SQLite database cursor class."
      ]
     },
     "metadata": {},
     "output_type": "display_data"
    }
   ],
   "source": [
    "?c"
   ]
  },
  {
   "cell_type": "code",
   "execution_count": 7,
   "id": "496e1465-1efe-4727-a1d7-9acd8df96120",
   "metadata": {
    "collapsed": true,
    "jupyter": {
     "outputs_hidden": true
    },
    "scrolled": true
   },
   "outputs": [
    {
     "data": {
      "text/plain": [
       "\u001b[1;31mSignature:\u001b[0m\n",
       "\u001b[0mpd\u001b[0m\u001b[1;33m.\u001b[0m\u001b[0mread_sql\u001b[0m\u001b[1;33m(\u001b[0m\u001b[1;33m\n",
       "\u001b[0m    \u001b[0msql\u001b[0m\u001b[1;33m,\u001b[0m\u001b[1;33m\n",
       "\u001b[0m    \u001b[0mcon\u001b[0m\u001b[1;33m,\u001b[0m\u001b[1;33m\n",
       "\u001b[0m    \u001b[0mindex_col\u001b[0m\u001b[1;33m:\u001b[0m \u001b[1;34m'str | list[str] | None'\u001b[0m \u001b[1;33m=\u001b[0m \u001b[1;32mNone\u001b[0m\u001b[1;33m,\u001b[0m\u001b[1;33m\n",
       "\u001b[0m    \u001b[0mcoerce_float\u001b[0m\u001b[1;33m:\u001b[0m \u001b[1;34m'bool'\u001b[0m \u001b[1;33m=\u001b[0m \u001b[1;32mTrue\u001b[0m\u001b[1;33m,\u001b[0m\u001b[1;33m\n",
       "\u001b[0m    \u001b[0mparams\u001b[0m\u001b[1;33m=\u001b[0m\u001b[1;32mNone\u001b[0m\u001b[1;33m,\u001b[0m\u001b[1;33m\n",
       "\u001b[0m    \u001b[0mparse_dates\u001b[0m\u001b[1;33m=\u001b[0m\u001b[1;32mNone\u001b[0m\u001b[1;33m,\u001b[0m\u001b[1;33m\n",
       "\u001b[0m    \u001b[0mcolumns\u001b[0m\u001b[1;33m:\u001b[0m \u001b[1;34m'list[str] | None'\u001b[0m \u001b[1;33m=\u001b[0m \u001b[1;32mNone\u001b[0m\u001b[1;33m,\u001b[0m\u001b[1;33m\n",
       "\u001b[0m    \u001b[0mchunksize\u001b[0m\u001b[1;33m:\u001b[0m \u001b[1;34m'int | None'\u001b[0m \u001b[1;33m=\u001b[0m \u001b[1;32mNone\u001b[0m\u001b[1;33m,\u001b[0m\u001b[1;33m\n",
       "\u001b[0m    \u001b[0mdtype_backend\u001b[0m\u001b[1;33m:\u001b[0m \u001b[1;34m'DtypeBackend | lib.NoDefault'\u001b[0m \u001b[1;33m=\u001b[0m \u001b[1;33m<\u001b[0m\u001b[0mno_default\u001b[0m\u001b[1;33m>\u001b[0m\u001b[1;33m,\u001b[0m\u001b[1;33m\n",
       "\u001b[0m    \u001b[0mdtype\u001b[0m\u001b[1;33m:\u001b[0m \u001b[1;34m'DtypeArg | None'\u001b[0m \u001b[1;33m=\u001b[0m \u001b[1;32mNone\u001b[0m\u001b[1;33m,\u001b[0m\u001b[1;33m\n",
       "\u001b[0m\u001b[1;33m)\u001b[0m \u001b[1;33m->\u001b[0m \u001b[1;34m'DataFrame | Iterator[DataFrame]'\u001b[0m\u001b[1;33m\u001b[0m\u001b[1;33m\u001b[0m\u001b[0m\n",
       "\u001b[1;31mDocstring:\u001b[0m\n",
       "Read SQL query or database table into a DataFrame.\n",
       "\n",
       "This function is a convenience wrapper around ``read_sql_table`` and\n",
       "``read_sql_query`` (for backward compatibility). It will delegate\n",
       "to the specific function depending on the provided input. A SQL query\n",
       "will be routed to ``read_sql_query``, while a database table name will\n",
       "be routed to ``read_sql_table``. Note that the delegated function might\n",
       "have more specific notes about their functionality not listed here.\n",
       "\n",
       "Parameters\n",
       "----------\n",
       "sql : str or SQLAlchemy Selectable (select or text object)\n",
       "    SQL query to be executed or a table name.\n",
       "con : SQLAlchemy connectable, str, or sqlite3 connection\n",
       "    Using SQLAlchemy makes it possible to use any DB supported by that\n",
       "    library. If a DBAPI2 object, only sqlite3 is supported. The user is responsible\n",
       "    for engine disposal and connection closure for the SQLAlchemy connectable; str\n",
       "    connections are closed automatically. See\n",
       "    `here <https://docs.sqlalchemy.org/en/13/core/connections.html>`_.\n",
       "index_col : str or list of str, optional, default: None\n",
       "    Column(s) to set as index(MultiIndex).\n",
       "coerce_float : bool, default True\n",
       "    Attempts to convert values of non-string, non-numeric objects (like\n",
       "    decimal.Decimal) to floating point, useful for SQL result sets.\n",
       "params : list, tuple or dict, optional, default: None\n",
       "    List of parameters to pass to execute method.  The syntax used\n",
       "    to pass parameters is database driver dependent. Check your\n",
       "    database driver documentation for which of the five syntax styles,\n",
       "    described in PEP 249's paramstyle, is supported.\n",
       "    Eg. for psycopg2, uses %(name)s so use params={'name' : 'value'}.\n",
       "parse_dates : list or dict, default: None\n",
       "    - List of column names to parse as dates.\n",
       "    - Dict of ``{column_name: format string}`` where format string is\n",
       "      strftime compatible in case of parsing string times, or is one of\n",
       "      (D, s, ns, ms, us) in case of parsing integer timestamps.\n",
       "    - Dict of ``{column_name: arg dict}``, where the arg dict corresponds\n",
       "      to the keyword arguments of :func:`pandas.to_datetime`\n",
       "      Especially useful with databases without native Datetime support,\n",
       "      such as SQLite.\n",
       "columns : list, default: None\n",
       "    List of column names to select from SQL table (only used when reading\n",
       "    a table).\n",
       "chunksize : int, default None\n",
       "    If specified, return an iterator where `chunksize` is the\n",
       "    number of rows to include in each chunk.\n",
       "dtype_backend : {'numpy_nullable', 'pyarrow'}, default 'numpy_nullable'\n",
       "    Back-end data type applied to the resultant :class:`DataFrame`\n",
       "    (still experimental). Behaviour is as follows:\n",
       "\n",
       "    * ``\"numpy_nullable\"``: returns nullable-dtype-backed :class:`DataFrame`\n",
       "      (default).\n",
       "    * ``\"pyarrow\"``: returns pyarrow-backed nullable :class:`ArrowDtype`\n",
       "      DataFrame.\n",
       "\n",
       "    .. versionadded:: 2.0\n",
       "dtype : Type name or dict of columns\n",
       "    Data type for data or columns. E.g. np.float64 or\n",
       "    {'a': np.float64, 'b': np.int32, 'c': 'Int64'}.\n",
       "    The argument is ignored if a table is passed instead of a query.\n",
       "\n",
       "    .. versionadded:: 2.0.0\n",
       "\n",
       "Returns\n",
       "-------\n",
       "DataFrame or Iterator[DataFrame]\n",
       "\n",
       "See Also\n",
       "--------\n",
       "read_sql_table : Read SQL database table into a DataFrame.\n",
       "read_sql_query : Read SQL query into a DataFrame.\n",
       "\n",
       "Examples\n",
       "--------\n",
       "Read data from SQL via either a SQL query or a SQL tablename.\n",
       "When using a SQLite database only SQL queries are accepted,\n",
       "providing only the SQL tablename will result in an error.\n",
       "\n",
       ">>> from sqlite3 import connect\n",
       ">>> conn = connect(':memory:')\n",
       ">>> df = pd.DataFrame(data=[[0, '10/11/12'], [1, '12/11/10']],\n",
       "...                   columns=['int_column', 'date_column'])\n",
       ">>> df.to_sql(name='test_data', con=conn)\n",
       "2\n",
       "\n",
       ">>> pd.read_sql('SELECT int_column, date_column FROM test_data', conn)\n",
       "   int_column date_column\n",
       "0           0    10/11/12\n",
       "1           1    12/11/10\n",
       "\n",
       ">>> pd.read_sql('test_data', 'postgres:///db_name')  # doctest:+SKIP\n",
       "\n",
       "Apply date parsing to columns through the ``parse_dates`` argument\n",
       "The ``parse_dates`` argument calls ``pd.to_datetime`` on the provided columns.\n",
       "Custom argument values for applying ``pd.to_datetime`` on a column are specified\n",
       "via a dictionary format:\n",
       "\n",
       ">>> pd.read_sql('SELECT int_column, date_column FROM test_data',\n",
       "...             conn,\n",
       "...             parse_dates={\"date_column\": {\"format\": \"%d/%m/%y\"}})\n",
       "   int_column date_column\n",
       "0           0  2012-11-10\n",
       "1           1  2010-11-12\n",
       "\u001b[1;31mFile:\u001b[0m      d:\\admindisk\\anaconda3\\lib\\site-packages\\pandas\\io\\sql.py\n",
       "\u001b[1;31mType:\u001b[0m      function"
      ]
     },
     "metadata": {},
     "output_type": "display_data"
    }
   ],
   "source": [
    "?pd.read_sql"
   ]
  },
  {
   "cell_type": "code",
   "execution_count": 8,
   "id": "69bb3909-eef2-4a3a-baf3-28717d3fec30",
   "metadata": {},
   "outputs": [],
   "source": [
    "#read_sql"
   ]
  },
  {
   "cell_type": "code",
   "execution_count": 9,
   "id": "767e5744-41cf-42d1-a60b-f67a1c350057",
   "metadata": {},
   "outputs": [
    {
     "data": {
      "text/html": [
       "<div>\n",
       "<style scoped>\n",
       "    .dataframe tbody tr th:only-of-type {\n",
       "        vertical-align: middle;\n",
       "    }\n",
       "\n",
       "    .dataframe tbody tr th {\n",
       "        vertical-align: top;\n",
       "    }\n",
       "\n",
       "    .dataframe thead th {\n",
       "        text-align: right;\n",
       "    }\n",
       "</style>\n",
       "<table border=\"1\" class=\"dataframe\">\n",
       "  <thead>\n",
       "    <tr style=\"text-align: right;\">\n",
       "      <th></th>\n",
       "      <th>Customer_Number</th>\n",
       "      <th>Country</th>\n",
       "    </tr>\n",
       "  </thead>\n",
       "  <tbody>\n",
       "    <tr>\n",
       "      <th>0</th>\n",
       "      <td>3</td>\n",
       "      <td>Argentina</td>\n",
       "    </tr>\n",
       "    <tr>\n",
       "      <th>1</th>\n",
       "      <td>2</td>\n",
       "      <td>Austria</td>\n",
       "    </tr>\n",
       "    <tr>\n",
       "      <th>2</th>\n",
       "      <td>2</td>\n",
       "      <td>Belgium</td>\n",
       "    </tr>\n",
       "    <tr>\n",
       "      <th>3</th>\n",
       "      <td>9</td>\n",
       "      <td>Brazil</td>\n",
       "    </tr>\n",
       "    <tr>\n",
       "      <th>4</th>\n",
       "      <td>3</td>\n",
       "      <td>Canada</td>\n",
       "    </tr>\n",
       "    <tr>\n",
       "      <th>5</th>\n",
       "      <td>2</td>\n",
       "      <td>Denmark</td>\n",
       "    </tr>\n",
       "    <tr>\n",
       "      <th>6</th>\n",
       "      <td>2</td>\n",
       "      <td>Finland</td>\n",
       "    </tr>\n",
       "    <tr>\n",
       "      <th>7</th>\n",
       "      <td>11</td>\n",
       "      <td>France</td>\n",
       "    </tr>\n",
       "    <tr>\n",
       "      <th>8</th>\n",
       "      <td>11</td>\n",
       "      <td>Germany</td>\n",
       "    </tr>\n",
       "    <tr>\n",
       "      <th>9</th>\n",
       "      <td>1</td>\n",
       "      <td>Ireland</td>\n",
       "    </tr>\n",
       "    <tr>\n",
       "      <th>10</th>\n",
       "      <td>3</td>\n",
       "      <td>Italy</td>\n",
       "    </tr>\n",
       "    <tr>\n",
       "      <th>11</th>\n",
       "      <td>5</td>\n",
       "      <td>Mexico</td>\n",
       "    </tr>\n",
       "    <tr>\n",
       "      <th>12</th>\n",
       "      <td>1</td>\n",
       "      <td>Norway</td>\n",
       "    </tr>\n",
       "    <tr>\n",
       "      <th>13</th>\n",
       "      <td>1</td>\n",
       "      <td>Poland</td>\n",
       "    </tr>\n",
       "    <tr>\n",
       "      <th>14</th>\n",
       "      <td>2</td>\n",
       "      <td>Portugal</td>\n",
       "    </tr>\n",
       "    <tr>\n",
       "      <th>15</th>\n",
       "      <td>5</td>\n",
       "      <td>Spain</td>\n",
       "    </tr>\n",
       "    <tr>\n",
       "      <th>16</th>\n",
       "      <td>2</td>\n",
       "      <td>Sweden</td>\n",
       "    </tr>\n",
       "    <tr>\n",
       "      <th>17</th>\n",
       "      <td>2</td>\n",
       "      <td>Switzerland</td>\n",
       "    </tr>\n",
       "    <tr>\n",
       "      <th>18</th>\n",
       "      <td>7</td>\n",
       "      <td>UK</td>\n",
       "    </tr>\n",
       "    <tr>\n",
       "      <th>19</th>\n",
       "      <td>13</td>\n",
       "      <td>USA</td>\n",
       "    </tr>\n",
       "    <tr>\n",
       "      <th>20</th>\n",
       "      <td>4</td>\n",
       "      <td>Venezuela</td>\n",
       "    </tr>\n",
       "  </tbody>\n",
       "</table>\n",
       "</div>"
      ],
      "text/plain": [
       "    Customer_Number      Country\n",
       "0                 3    Argentina\n",
       "1                 2      Austria\n",
       "2                 2      Belgium\n",
       "3                 9       Brazil\n",
       "4                 3       Canada\n",
       "5                 2      Denmark\n",
       "6                 2      Finland\n",
       "7                11       France\n",
       "8                11      Germany\n",
       "9                 1      Ireland\n",
       "10                3        Italy\n",
       "11                5       Mexico\n",
       "12                1       Norway\n",
       "13                1       Poland\n",
       "14                2     Portugal\n",
       "15                5        Spain\n",
       "16                2       Sweden\n",
       "17                2  Switzerland\n",
       "18                7           UK\n",
       "19               13          USA\n",
       "20                4    Venezuela"
      ]
     },
     "execution_count": 9,
     "metadata": {},
     "output_type": "execute_result"
    }
   ],
   "source": [
    "pd.read_sql(\"SELECT COUNT(CustomerID) AS Customer_Number,Country FROM CUSTOMERS GROUP BY Country;\",conn)"
   ]
  },
  {
   "cell_type": "code",
   "execution_count": 10,
   "id": "6b9c571e-39ea-40ff-baa6-9b922689b0bb",
   "metadata": {},
   "outputs": [],
   "source": [
    "ab = pd.read_sql(\"SELECT COUNT(CustomerID) AS Customer_Number,Country FROM CUSTOMERS GROUP BY Country;\",conn)"
   ]
  },
  {
   "cell_type": "code",
   "execution_count": 11,
   "id": "ecf366d7-7ed2-4a23-b704-c993d679394c",
   "metadata": {},
   "outputs": [
    {
     "data": {
      "text/plain": [
       "pandas.core.frame.DataFrame"
      ]
     },
     "execution_count": 11,
     "metadata": {},
     "output_type": "execute_result"
    }
   ],
   "source": [
    "type(ab)"
   ]
  },
  {
   "cell_type": "code",
   "execution_count": 12,
   "id": "b9a45789-0101-449f-a946-06781aedb5ce",
   "metadata": {},
   "outputs": [],
   "source": [
    "#conn.close()"
   ]
  },
  {
   "cell_type": "code",
   "execution_count": 13,
   "id": "be67241d-c8b7-4125-bdae-f697ff03bf54",
   "metadata": {},
   "outputs": [
    {
     "data": {
      "text/plain": [
       "<sqlite3.Cursor at 0x22f2effabc0>"
      ]
     },
     "execution_count": 13,
     "metadata": {},
     "output_type": "execute_result"
    }
   ],
   "source": [
    "c.execute(\"SELECT CustomerName FROM Customers LIMIT 5;\")"
   ]
  },
  {
   "cell_type": "code",
   "execution_count": 14,
   "id": "fa9aa1a3-aa14-4004-adf6-ffc82a290aac",
   "metadata": {},
   "outputs": [
    {
     "data": {
      "text/plain": [
       "('Alfreds Futterkiste',)"
      ]
     },
     "execution_count": 14,
     "metadata": {},
     "output_type": "execute_result"
    }
   ],
   "source": [
    "c.fetchone()"
   ]
  },
  {
   "cell_type": "code",
   "execution_count": 15,
   "id": "74e80588-a65b-46a6-9f93-718d8ddf8b04",
   "metadata": {},
   "outputs": [
    {
     "data": {
      "text/plain": [
       "[('Ana Trujillo Emparedados y helados',),\n",
       " ('Antonio Moreno Taquería',),\n",
       " ('Around the Horn',),\n",
       " ('Berglunds snabbköp',)]"
      ]
     },
     "execution_count": 15,
     "metadata": {},
     "output_type": "execute_result"
    }
   ],
   "source": [
    "c.fetchall()"
   ]
  },
  {
   "cell_type": "code",
   "execution_count": 19,
   "id": "61e2b684-0205-492b-920c-46996e791348",
   "metadata": {},
   "outputs": [
    {
     "name": "stdout",
     "output_type": "stream",
     "text": [
      "('Alfreds Futterkiste',)\n",
      "('Ana Trujillo Emparedados y helados',)\n",
      "('Antonio Moreno Taquería',)\n",
      "('Around the Horn',)\n",
      "('Berglunds snabbköp',)\n"
     ]
    }
   ],
   "source": [
    "for i in c.execute(\"SELECT CustomerName FROM Customers LIMIT 5;\"):\n",
    "    print(i)"
   ]
  },
  {
   "cell_type": "code",
   "execution_count": null,
   "id": "276b0f23-30cc-4b1c-8b6b-875086577a99",
   "metadata": {},
   "outputs": [],
   "source": []
  }
 ],
 "metadata": {
  "kernelspec": {
   "display_name": "Python 3 (ipykernel)",
   "language": "python",
   "name": "python3"
  },
  "language_info": {
   "codemirror_mode": {
    "name": "ipython",
    "version": 3
   },
   "file_extension": ".py",
   "mimetype": "text/x-python",
   "name": "python",
   "nbconvert_exporter": "python",
   "pygments_lexer": "ipython3",
   "version": "3.11.7"
  }
 },
 "nbformat": 4,
 "nbformat_minor": 5
}
