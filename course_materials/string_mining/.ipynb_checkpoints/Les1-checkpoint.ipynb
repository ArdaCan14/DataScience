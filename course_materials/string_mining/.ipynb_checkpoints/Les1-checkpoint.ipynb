{
 "cells": [
  {
   "cell_type": "markdown",
   "id": "f0a0557f-cfc5-4de1-a4c2-090f4d76addf",
   "metadata": {},
   "source": [
    "# Fundamental String Processes"
   ]
  },
  {
   "cell_type": "code",
   "execution_count": 1,
   "id": "9eeb987a-0bbf-4cd7-b32d-8224c6ba0868",
   "metadata": {},
   "outputs": [],
   "source": [
    "isim = \"Arda\""
   ]
  },
  {
   "cell_type": "code",
   "execution_count": 2,
   "id": "c01dae2e-72e0-4ac2-81b3-42a60cb87113",
   "metadata": {},
   "outputs": [
    {
     "data": {
      "text/plain": [
       "'ArdaArdaArda'"
      ]
     },
     "execution_count": 2,
     "metadata": {},
     "output_type": "execute_result"
    }
   ],
   "source": [
    "3*isim"
   ]
  },
  {
   "cell_type": "code",
   "execution_count": 3,
   "id": "9ddaa988-e0c2-4a8f-b089-5e887093a56e",
   "metadata": {},
   "outputs": [
    {
     "data": {
      "text/plain": [
       "'Arda Can'"
      ]
     },
     "execution_count": 3,
     "metadata": {},
     "output_type": "execute_result"
    }
   ],
   "source": [
    "isim + \" Can\""
   ]
  },
  {
   "cell_type": "code",
   "execution_count": 7,
   "id": "04dfbf37-eef9-44a2-b004-061f2ae486b6",
   "metadata": {},
   "outputs": [
    {
     "data": {
      "text/plain": [
       "'Erda'"
      ]
     },
     "execution_count": 7,
     "metadata": {},
     "output_type": "execute_result"
    }
   ],
   "source": [
    "\"E\" + isim[1:]"
   ]
  },
  {
   "cell_type": "code",
   "execution_count": 16,
   "id": "3f4496e9-544b-4f7f-b426-9611256eab01",
   "metadata": {},
   "outputs": [],
   "source": [
    "isimler = [\"Arda\",\"Emre\",\"Can\",\"Mustafa\",\"Kemal\"]"
   ]
  },
  {
   "cell_type": "code",
   "execution_count": 19,
   "id": "b7189d1f-3a90-4f0b-8a04-51e8036533d2",
   "metadata": {},
   "outputs": [
    {
     "name": "stdout",
     "output_type": "stream",
     "text": [
      "İsim:Arda\n",
      "İsim:Emre\n",
      "İsim:Can\n",
      "İsim:Mustafa\n",
      "İsim:Kemal\n"
     ]
    }
   ],
   "source": [
    "for i in isimler:\n",
    "    print(\"İsim:\",i,sep = \"\")"
   ]
  },
  {
   "cell_type": "code",
   "execution_count": 20,
   "id": "a3602776-21a9-4ce9-b04d-40b79df5ea5e",
   "metadata": {},
   "outputs": [
    {
     "name": "stdout",
     "output_type": "stream",
     "text": [
      "İsim:_Arda\n",
      "İsim:_Emre\n",
      "İsim:_Can\n",
      "İsim:_Mustafa\n",
      "İsim:_Kemal\n"
     ]
    }
   ],
   "source": [
    "for i in isimler:\n",
    "    print(\"İsim:\",\"_\",i,sep = \"\")"
   ]
  },
  {
   "cell_type": "code",
   "execution_count": 21,
   "id": "da0ca459-d09a-405f-b5b8-cda94c24e25b",
   "metadata": {},
   "outputs": [
    {
     "name": "stdout",
     "output_type": "stream",
     "text": [
      "İsim:_Arda\n",
      "İsim:_Emre\n",
      "İsim:_Can\n",
      "İsim:_Mustafa\n",
      "İsim:_Kemal\n"
     ]
    }
   ],
   "source": [
    "for i in isimler:\n",
    "    print(\"İsim:\",\"_\",i[:],sep = \"\")"
   ]
  },
  {
   "cell_type": "code",
   "execution_count": 24,
   "id": "e25b641b-31f9-4d20-a99b-7497e4d3392b",
   "metadata": {},
   "outputs": [
    {
     "name": "stdout",
     "output_type": "stream",
     "text": [
      "(0, 'Arda') (1, 'Emre') (2, 'Can') (3, 'Mustafa') (4, 'Kemal')\n"
     ]
    }
   ],
   "source": [
    "print(*enumerate(isimler))"
   ]
  },
  {
   "cell_type": "code",
   "execution_count": 25,
   "id": "80ed0b83-7403-4533-84d4-d8f20211773f",
   "metadata": {},
   "outputs": [
    {
     "name": "stdout",
     "output_type": "stream",
     "text": [
      "(0, 'Arda')\n",
      "(1, 'Emre')\n",
      "(2, 'Can')\n",
      "(3, 'Mustafa')\n",
      "(4, 'Kemal')\n"
     ]
    }
   ],
   "source": [
    "for i in enumerate(isimler):\n",
    "    print(i)"
   ]
  },
  {
   "cell_type": "code",
   "execution_count": 27,
   "id": "07687f21-a46a-4534-bb62-7d0ef4196f02",
   "metadata": {},
   "outputs": [
    {
     "name": "stdout",
     "output_type": "stream",
     "text": [
      "(1, 'A')\n",
      "(2, 'r')\n",
      "(3, 'd')\n",
      "(4, 'a')\n"
     ]
    }
   ],
   "source": [
    "for i in enumerate(\"Arda\",1):\n",
    "    print(i)"
   ]
  },
  {
   "cell_type": "code",
   "execution_count": 29,
   "id": "1d1c28dc-6788-444f-b5c0-9caf66ab3b0d",
   "metadata": {},
   "outputs": [
    {
     "name": "stdout",
     "output_type": "stream",
     "text": [
      "(4, 'A')\n",
      "(5, 'r')\n",
      "(6, 'd')\n",
      "(7, 'a')\n"
     ]
    }
   ],
   "source": [
    "for i in enumerate(\"Arda\",4):\n",
    "    print(i)"
   ]
  },
  {
   "cell_type": "markdown",
   "id": "39ef9eb2-76e3-4419-8e33-e554e3055d27",
   "metadata": {},
   "source": [
    "## Intra-Text Type Queries"
   ]
  },
  {
   "cell_type": "code",
   "execution_count": 31,
   "id": "e9bb8a2a-ba75-446a-9845-911422dded76",
   "metadata": {},
   "outputs": [
    {
     "data": {
      "text/plain": [
       "True"
      ]
     },
     "execution_count": 31,
     "metadata": {},
     "output_type": "execute_result"
    }
   ],
   "source": [
    "\"Arda\".isalpha()"
   ]
  },
  {
   "cell_type": "code",
   "execution_count": 32,
   "id": "919a10fa-4af5-4766-9c1b-bd00d7496abe",
   "metadata": {},
   "outputs": [
    {
     "data": {
      "text/plain": [
       "False"
      ]
     },
     "execution_count": 32,
     "metadata": {},
     "output_type": "execute_result"
    }
   ],
   "source": [
    "\"Arda30\".isalpha()"
   ]
  },
  {
   "cell_type": "code",
   "execution_count": 33,
   "id": "81a5a79e-067d-4b5f-a703-8b0d9a911061",
   "metadata": {},
   "outputs": [
    {
     "data": {
      "text/plain": [
       "True"
      ]
     },
     "execution_count": 33,
     "metadata": {},
     "output_type": "execute_result"
    }
   ],
   "source": [
    "\"123\".isnumeric()"
   ]
  },
  {
   "cell_type": "code",
   "execution_count": 34,
   "id": "64db9180-0ce4-4632-8962-55c476e92121",
   "metadata": {},
   "outputs": [
    {
     "data": {
      "text/plain": [
       "True"
      ]
     },
     "execution_count": 34,
     "metadata": {},
     "output_type": "execute_result"
    }
   ],
   "source": [
    "\"123\".isdigit()"
   ]
  },
  {
   "cell_type": "code",
   "execution_count": 35,
   "id": "bdc14d8a-e4de-4106-baee-578622b4b7d1",
   "metadata": {},
   "outputs": [
    {
     "data": {
      "text/plain": [
       "True"
      ]
     },
     "execution_count": 35,
     "metadata": {},
     "output_type": "execute_result"
    }
   ],
   "source": [
    "\"Arda123\".isalnum()"
   ]
  },
  {
   "cell_type": "markdown",
   "id": "f305dab8-a246-4af6-95a7-ca0ed8db4cae",
   "metadata": {},
   "source": [
    "## Accessing the element and element's index"
   ]
  },
  {
   "cell_type": "code",
   "execution_count": 36,
   "id": "4c451510-274c-4aca-b61f-2750ecd09ae4",
   "metadata": {},
   "outputs": [],
   "source": [
    "isim = \"ardacan\""
   ]
  },
  {
   "cell_type": "code",
   "execution_count": 37,
   "id": "45e2c9e7-eaf0-4354-954c-534299132f5b",
   "metadata": {},
   "outputs": [
    {
     "data": {
      "text/plain": [
       "'a'"
      ]
     },
     "execution_count": 37,
     "metadata": {},
     "output_type": "execute_result"
    }
   ],
   "source": [
    "isim[0]"
   ]
  },
  {
   "cell_type": "code",
   "execution_count": 39,
   "id": "7852c12c-b815-467b-9da6-b6ff75467be0",
   "metadata": {},
   "outputs": [
    {
     "data": {
      "text/plain": [
       "0"
      ]
     },
     "execution_count": 39,
     "metadata": {},
     "output_type": "execute_result"
    }
   ],
   "source": [
    "isim.index(\"a\")"
   ]
  },
  {
   "cell_type": "code",
   "execution_count": 42,
   "id": "26097c78-76a5-487b-9470-19ee75662895",
   "metadata": {},
   "outputs": [
    {
     "data": {
      "text/plain": [
       "3"
      ]
     },
     "execution_count": 42,
     "metadata": {},
     "output_type": "execute_result"
    }
   ],
   "source": [
    "isim.index(\"a\",1) #Bu kullanımın amacı 0.indeks olan a'dan sonra gelen a harfini bulmak"
   ]
  },
  {
   "cell_type": "markdown",
   "id": "5fc9678e-c3fe-4c7f-bd13-63d1b5950ce7",
   "metadata": {},
   "source": [
    "## Initial and end characters Quarries Query "
   ]
  },
  {
   "cell_type": "code",
   "execution_count": 43,
   "id": "412e84e6-e897-4806-b75f-c9cae0904c3e",
   "metadata": {},
   "outputs": [],
   "source": [
    "isim = \"ardacan\""
   ]
  },
  {
   "cell_type": "code",
   "execution_count": 44,
   "id": "7417687c-65dd-41dd-ba30-0a5a94cef20e",
   "metadata": {},
   "outputs": [
    {
     "data": {
      "text/plain": [
       "True"
      ]
     },
     "execution_count": 44,
     "metadata": {},
     "output_type": "execute_result"
    }
   ],
   "source": [
    "isim.startswith(\"a\")"
   ]
  },
  {
   "cell_type": "code",
   "execution_count": 45,
   "id": "92d05f1b-cfbd-43bd-ac66-6e641938877f",
   "metadata": {},
   "outputs": [
    {
     "data": {
      "text/plain": [
       "False"
      ]
     },
     "execution_count": 45,
     "metadata": {},
     "output_type": "execute_result"
    }
   ],
   "source": [
    "isim.endswith(\"c\")"
   ]
  },
  {
   "cell_type": "markdown",
   "id": "83db191f-65f6-4358-8237-805905fca7c8",
   "metadata": {},
   "source": [
    "## Counting "
   ]
  },
  {
   "cell_type": "code",
   "execution_count": 47,
   "id": "21a4c25d-1a89-4e5f-b8c9-b8080717abdc",
   "metadata": {},
   "outputs": [
    {
     "data": {
      "text/plain": [
       "3"
      ]
     },
     "execution_count": 47,
     "metadata": {},
     "output_type": "execute_result"
    }
   ],
   "source": [
    "isim.count(\"a\")"
   ]
  },
  {
   "cell_type": "code",
   "execution_count": 49,
   "id": "1b6d6945-741f-487a-a5ff-5c3fe7f38219",
   "metadata": {},
   "outputs": [
    {
     "data": {
      "text/plain": [
       "['A', 'C', 'a', 'a', 'd', 'n', 'r']"
      ]
     },
     "execution_count": 49,
     "metadata": {},
     "output_type": "execute_result"
    }
   ],
   "source": [
    "sorted(\"ArdaCan\")"
   ]
  },
  {
   "cell_type": "code",
   "execution_count": 52,
   "id": "537ebf47-baaf-4072-aa54-a7f93c9c7fa5",
   "metadata": {},
   "outputs": [
    {
     "name": "stdout",
     "output_type": "stream",
     "text": [
      "ACaadnr\n"
     ]
    }
   ],
   "source": [
    "print(*sorted(\"ArdaCan\"),sep = \"\")"
   ]
  },
  {
   "cell_type": "code",
   "execution_count": 53,
   "id": "9b9daa83-fb53-4b5f-bad1-c940a0df5898",
   "metadata": {},
   "outputs": [],
   "source": [
    "#Sıralama yapılırken ilk olarak büyük harf önceliği uygulanıyor"
   ]
  },
  {
   "cell_type": "markdown",
   "id": "9a73696a-53fd-4d71-9c4b-f4c2753f2ff4",
   "metadata": {},
   "source": [
    "## Characters Divide"
   ]
  },
  {
   "cell_type": "code",
   "execution_count": 54,
   "id": "dab98813-ff35-43d4-a0aa-5b952d86c15c",
   "metadata": {},
   "outputs": [],
   "source": [
    "isim = \"Arda Can\""
   ]
  },
  {
   "cell_type": "code",
   "execution_count": 55,
   "id": "3d243084-4d86-432c-820f-d26461396a6e",
   "metadata": {},
   "outputs": [
    {
     "data": {
      "text/plain": [
       "['Arda', 'Can']"
      ]
     },
     "execution_count": 55,
     "metadata": {},
     "output_type": "execute_result"
    }
   ],
   "source": [
    "isim.split()"
   ]
  },
  {
   "cell_type": "code",
   "execution_count": 56,
   "id": "9f09be19-2085-4bb9-9ed9-8d91a4ba6431",
   "metadata": {},
   "outputs": [
    {
     "data": {
      "text/plain": [
       "['Ard', ' C', 'n']"
      ]
     },
     "execution_count": 56,
     "metadata": {},
     "output_type": "execute_result"
    }
   ],
   "source": [
    "isim.split(\"a\")"
   ]
  },
  {
   "cell_type": "code",
   "execution_count": 57,
   "id": "d42d0ed9-f062-43e3-8595-a04bb65e70fb",
   "metadata": {},
   "outputs": [],
   "source": [
    "isim = \"Arda_Can\""
   ]
  },
  {
   "cell_type": "code",
   "execution_count": 58,
   "id": "049d4384-ec68-486d-b95c-9b173cc988bf",
   "metadata": {},
   "outputs": [
    {
     "data": {
      "text/plain": [
       "['Arda', 'Can']"
      ]
     },
     "execution_count": 58,
     "metadata": {},
     "output_type": "execute_result"
    }
   ],
   "source": [
    "isim.split(\"_\")"
   ]
  },
  {
   "cell_type": "code",
   "execution_count": 60,
   "id": "51128642-2dc5-4697-be33-731f1830225d",
   "metadata": {},
   "outputs": [
    {
     "data": {
      "text/plain": [
       "['Arda_Can']"
      ]
     },
     "execution_count": 60,
     "metadata": {},
     "output_type": "execute_result"
    }
   ],
   "source": [
    "isim.split()"
   ]
  },
  {
   "cell_type": "markdown",
   "id": "e28580e9-1f9c-410d-a347-f30b47ce0ae5",
   "metadata": {},
   "source": [
    "## Uppercase and Lowercase Processes"
   ]
  },
  {
   "cell_type": "code",
   "execution_count": 61,
   "id": "5f28baf9-6c06-4c08-83ac-0b95c36d5eb4",
   "metadata": {},
   "outputs": [],
   "source": [
    "isim = \"Arda Can\""
   ]
  },
  {
   "cell_type": "code",
   "execution_count": 62,
   "id": "9ea4430a-5e7f-46af-bf12-e31058af5777",
   "metadata": {},
   "outputs": [
    {
     "data": {
      "text/plain": [
       "'ARDA CAN'"
      ]
     },
     "execution_count": 62,
     "metadata": {},
     "output_type": "execute_result"
    }
   ],
   "source": [
    "isim.upper()"
   ]
  },
  {
   "cell_type": "code",
   "execution_count": 63,
   "id": "517a1ab3-954c-4876-9d47-e02be8eb9911",
   "metadata": {},
   "outputs": [
    {
     "data": {
      "text/plain": [
       "'arda can'"
      ]
     },
     "execution_count": 63,
     "metadata": {},
     "output_type": "execute_result"
    }
   ],
   "source": [
    "isim.lower()"
   ]
  },
  {
   "cell_type": "code",
   "execution_count": 64,
   "id": "1b89d34b-2d96-48c4-b6e2-2e97c4789599",
   "metadata": {},
   "outputs": [
    {
     "data": {
      "text/plain": [
       "False"
      ]
     },
     "execution_count": 64,
     "metadata": {},
     "output_type": "execute_result"
    }
   ],
   "source": [
    "isim.islower()"
   ]
  },
  {
   "cell_type": "code",
   "execution_count": 65,
   "id": "bc094391-81d6-432b-b9f4-d0b21d37ff67",
   "metadata": {},
   "outputs": [
    {
     "data": {
      "text/plain": [
       "False"
      ]
     },
     "execution_count": 65,
     "metadata": {},
     "output_type": "execute_result"
    }
   ],
   "source": [
    "isim.isupper()"
   ]
  },
  {
   "cell_type": "code",
   "execution_count": 66,
   "id": "bb11b1ba-9bef-48ce-8d2a-8a4e7c5b6907",
   "metadata": {},
   "outputs": [
    {
     "data": {
      "text/plain": [
       "True"
      ]
     },
     "execution_count": 66,
     "metadata": {},
     "output_type": "execute_result"
    }
   ],
   "source": [
    "isim_a = isim.upper()\n",
    "isim_a.isupper()"
   ]
  },
  {
   "cell_type": "code",
   "execution_count": 67,
   "id": "30427393-c770-40d7-94c1-bfdc2de063f0",
   "metadata": {},
   "outputs": [
    {
     "data": {
      "text/plain": [
       "True"
      ]
     },
     "execution_count": 67,
     "metadata": {},
     "output_type": "execute_result"
    }
   ],
   "source": [
    "isim_a = isim.lower()\n",
    "isim_a.islower()"
   ]
  },
  {
   "cell_type": "code",
   "execution_count": 68,
   "id": "8b9f3f11-cec4-40b2-bbba-e8f68125bf18",
   "metadata": {},
   "outputs": [],
   "source": [
    "isim = \"arda can\""
   ]
  },
  {
   "cell_type": "code",
   "execution_count": 70,
   "id": "3bc215a5-5b62-4b13-8282-50a68d2f4abe",
   "metadata": {},
   "outputs": [
    {
     "data": {
      "text/plain": [
       "'Arda can'"
      ]
     },
     "execution_count": 70,
     "metadata": {},
     "output_type": "execute_result"
    }
   ],
   "source": [
    "isim.capitalize()"
   ]
  },
  {
   "cell_type": "code",
   "execution_count": 71,
   "id": "a684236b-d68f-492b-8a71-3dabc19963d5",
   "metadata": {},
   "outputs": [
    {
     "data": {
      "text/plain": [
       "'Arda Can'"
      ]
     },
     "execution_count": 71,
     "metadata": {},
     "output_type": "execute_result"
    }
   ],
   "source": [
    "isim.title()"
   ]
  },
  {
   "cell_type": "code",
   "execution_count": 72,
   "id": "60571154-c3ec-4621-ae18-ff3a28de35bb",
   "metadata": {},
   "outputs": [
    {
     "data": {
      "text/plain": [
       "'ARDA CAN'"
      ]
     },
     "execution_count": 72,
     "metadata": {},
     "output_type": "execute_result"
    }
   ],
   "source": [
    "isim.swapcase()"
   ]
  },
  {
   "cell_type": "code",
   "execution_count": 73,
   "id": "64b5f322-36a7-4381-8573-2e4b1975ea53",
   "metadata": {},
   "outputs": [
    {
     "data": {
      "text/plain": [
       "'arda CAN can'"
      ]
     },
     "execution_count": 73,
     "metadata": {},
     "output_type": "execute_result"
    }
   ],
   "source": [
    "isim = \"ARDA can CAN\"\n",
    "isim.swapcase()"
   ]
  },
  {
   "cell_type": "markdown",
   "id": "88472f6c-05da-427e-9c7c-c50cd7651723",
   "metadata": {},
   "source": [
    "## Croping The Unwanted Characters"
   ]
  },
  {
   "cell_type": "code",
   "execution_count": 74,
   "id": "e79a379a-1a7e-4768-bd34-63716be93f2d",
   "metadata": {},
   "outputs": [],
   "source": [
    "isim = \" Hello \""
   ]
  },
  {
   "cell_type": "code",
   "execution_count": 75,
   "id": "6dc50f6b-4669-4ec8-9009-d924e1413a99",
   "metadata": {},
   "outputs": [
    {
     "data": {
      "text/plain": [
       "'Hello'"
      ]
     },
     "execution_count": 75,
     "metadata": {},
     "output_type": "execute_result"
    }
   ],
   "source": [
    "isim.strip()"
   ]
  },
  {
   "cell_type": "code",
   "execution_count": 76,
   "id": "ac45798d-55c8-4229-b237-18b32f0e859b",
   "metadata": {},
   "outputs": [],
   "source": [
    "isim = \"*Hello*\""
   ]
  },
  {
   "cell_type": "code",
   "execution_count": 77,
   "id": "d20d6760-2fed-4343-9393-1b8bb53445d8",
   "metadata": {},
   "outputs": [
    {
     "data": {
      "text/plain": [
       "'*Hello*'"
      ]
     },
     "execution_count": 77,
     "metadata": {},
     "output_type": "execute_result"
    }
   ],
   "source": [
    "isim.strip()"
   ]
  },
  {
   "cell_type": "code",
   "execution_count": 78,
   "id": "eb225179-ab16-4dea-b5f7-f69dc952d385",
   "metadata": {},
   "outputs": [
    {
     "data": {
      "text/plain": [
       "'Hello'"
      ]
     },
     "execution_count": 78,
     "metadata": {},
     "output_type": "execute_result"
    }
   ],
   "source": [
    "isim.strip(\"*\")"
   ]
  },
  {
   "cell_type": "code",
   "execution_count": 79,
   "id": "32756726-28d1-4385-9c70-ac6569bb49ca",
   "metadata": {},
   "outputs": [],
   "source": [
    "isim = \"lhellol\""
   ]
  },
  {
   "cell_type": "code",
   "execution_count": 80,
   "id": "72746b3c-1b5a-44a7-9467-ac53bd7f562d",
   "metadata": {},
   "outputs": [
    {
     "data": {
      "text/plain": [
       "'hello'"
      ]
     },
     "execution_count": 80,
     "metadata": {},
     "output_type": "execute_result"
    }
   ],
   "source": [
    "isim.strip(\"l\")"
   ]
  },
  {
   "cell_type": "code",
   "execution_count": 81,
   "id": "91b2ee82-80db-4657-8058-bd8938681a17",
   "metadata": {},
   "outputs": [],
   "source": [
    "isim = \"*Hello*\""
   ]
  },
  {
   "cell_type": "code",
   "execution_count": 82,
   "id": "c6a5ce29-502f-45de-ad0f-692981a841d4",
   "metadata": {},
   "outputs": [
    {
     "data": {
      "text/plain": [
       "'Hello*'"
      ]
     },
     "execution_count": 82,
     "metadata": {},
     "output_type": "execute_result"
    }
   ],
   "source": [
    "isim.lstrip(\"*\")"
   ]
  },
  {
   "cell_type": "code",
   "execution_count": 83,
   "id": "b24af939-551a-4963-9795-d49185904f52",
   "metadata": {},
   "outputs": [
    {
     "data": {
      "text/plain": [
       "'*Hello'"
      ]
     },
     "execution_count": 83,
     "metadata": {},
     "output_type": "execute_result"
    }
   ],
   "source": [
    "isim.rstrip(\"*\")"
   ]
  },
  {
   "cell_type": "markdown",
   "id": "10c9713c-d40d-466b-832b-a38ab806811d",
   "metadata": {},
   "source": [
    "## Join: Bölünmüş ya da zaten bölük olan ifadelerin birleştirilmesi"
   ]
  },
  {
   "cell_type": "code",
   "execution_count": 84,
   "id": "46d2991a-e6e1-40db-9465-b60b9c53c108",
   "metadata": {},
   "outputs": [],
   "source": [
    "isim = \"Arda Can Can\""
   ]
  },
  {
   "cell_type": "code",
   "execution_count": 86,
   "id": "e67b699c-5ddc-40cf-a34e-a399a2b63c27",
   "metadata": {},
   "outputs": [],
   "source": [
    "ayrık = isim.split()"
   ]
  },
  {
   "cell_type": "code",
   "execution_count": 87,
   "id": "f10d9fe9-5665-47be-bb74-26404f79f3b7",
   "metadata": {},
   "outputs": [
    {
     "data": {
      "text/plain": [
       "['Arda', 'Can', 'Can']"
      ]
     },
     "execution_count": 87,
     "metadata": {},
     "output_type": "execute_result"
    }
   ],
   "source": [
    "ayrık"
   ]
  },
  {
   "cell_type": "code",
   "execution_count": 88,
   "id": "7130f970-906b-4f64-8324-a0875f1e571d",
   "metadata": {},
   "outputs": [
    {
     "data": {
      "text/plain": [
       "'Arda Can Can'"
      ]
     },
     "execution_count": 88,
     "metadata": {},
     "output_type": "execute_result"
    }
   ],
   "source": [
    "joiner = \" \"\n",
    "joiner.join(ayrık)"
   ]
  },
  {
   "cell_type": "code",
   "execution_count": 89,
   "id": "6a964b10-5d69-4ae5-8836-d81b0b340d49",
   "metadata": {},
   "outputs": [
    {
     "data": {
      "text/plain": [
       "'Arda****Can****Can'"
      ]
     },
     "execution_count": 89,
     "metadata": {},
     "output_type": "execute_result"
    }
   ],
   "source": [
    "joiner = \"****\"\n",
    "joiner.join(ayrık)"
   ]
  },
  {
   "cell_type": "markdown",
   "id": "4308a3c6-4cd7-4c5e-95d4-ebe8c6eeb828",
   "metadata": {},
   "source": [
    "## Replace elements"
   ]
  },
  {
   "cell_type": "code",
   "execution_count": 90,
   "id": "f78722b6-a08b-4a2c-a87a-e406b1ae273c",
   "metadata": {},
   "outputs": [
    {
     "data": {
      "text/plain": [
       "'Arda Can Can'"
      ]
     },
     "execution_count": 90,
     "metadata": {},
     "output_type": "execute_result"
    }
   ],
   "source": [
    "isim"
   ]
  },
  {
   "cell_type": "code",
   "execution_count": 91,
   "id": "1620c3a0-d984-4692-87c2-eb0d2e58da90",
   "metadata": {},
   "outputs": [
    {
     "data": {
      "text/plain": [
       "'Ardc Ccn Ccn'"
      ]
     },
     "execution_count": 91,
     "metadata": {},
     "output_type": "execute_result"
    }
   ],
   "source": [
    "isim.replace(\"a\",\"c\")"
   ]
  },
  {
   "cell_type": "code",
   "execution_count": 93,
   "id": "7b36f957-ad15-4e0c-8d1f-ec9d704caeab",
   "metadata": {},
   "outputs": [
    {
     "data": {
      "text/plain": [
       "'Emda Can Can'"
      ]
     },
     "execution_count": 93,
     "metadata": {},
     "output_type": "execute_result"
    }
   ],
   "source": [
    "isim.replace(\"Ar\",\"Em\")"
   ]
  },
  {
   "cell_type": "code",
   "execution_count": 94,
   "id": "ba737ea0-9cde-43eb-87bd-a47edeb6e1f9",
   "metadata": {},
   "outputs": [],
   "source": [
    "ifade = \"Bu ifade içerisinde bağzı Türkçe karakterler vardır \""
   ]
  },
  {
   "cell_type": "code",
   "execution_count": 96,
   "id": "5f61ce2b-ddf6-469a-b3d1-0d0c4a493055",
   "metadata": {},
   "outputs": [],
   "source": [
    "düzeltilecek_karakterler = \"çÇğĞıİöÖşŞüÜ\"\n",
    "düzeltilmis_karakterler = \"cCgGiIoOsSuU\""
   ]
  },
  {
   "cell_type": "code",
   "execution_count": 99,
   "id": "aa5ef2ff-db5a-4757-a6d0-0488e560f7fe",
   "metadata": {},
   "outputs": [],
   "source": [
    "alfabe_duzeltme = str.maketrans(düzeltilecek_karakterler,düzeltilmis_karakterler)"
   ]
  },
  {
   "cell_type": "code",
   "execution_count": 101,
   "id": "cc553aea-e869-4d6d-9890-8fec7e5a0b44",
   "metadata": {},
   "outputs": [
    {
     "data": {
      "text/plain": [
       "'Bu ifade icerisinde bagzi Turkce karakterler vardir '"
      ]
     },
     "execution_count": 101,
     "metadata": {},
     "output_type": "execute_result"
    }
   ],
   "source": [
    "ifade.translate(alfabe_duzeltme)"
   ]
  },
  {
   "cell_type": "code",
   "execution_count": 107,
   "id": "8f232ca2-344d-41c3-9667-ea94f041c08c",
   "metadata": {},
   "outputs": [],
   "source": [
    "isimler = [\"Arda\",\"Ayşe\",\"Fatma\",\"Arman\",\"Can\",\"Mehmet\",\"Mahmut\"]"
   ]
  },
  {
   "cell_type": "code",
   "execution_count": 108,
   "id": "f0dcfb16-e301-46ba-8987-1bbda6da3c4c",
   "metadata": {},
   "outputs": [],
   "source": [
    "import pandas as pd\n",
    "v = pd.Series(isimler)"
   ]
  },
  {
   "cell_type": "code",
   "execution_count": 109,
   "id": "ea363726-6cc0-4ccc-b3f3-dbaab2a951a2",
   "metadata": {},
   "outputs": [
    {
     "data": {
      "text/plain": [
       "0      Arda\n",
       "1      Ayşe\n",
       "2     Fatma\n",
       "3     Arman\n",
       "4       Can\n",
       "5    Mehmet\n",
       "6    Mahmut\n",
       "dtype: object"
      ]
     },
     "execution_count": 109,
     "metadata": {},
     "output_type": "execute_result"
    }
   ],
   "source": [
    "v"
   ]
  },
  {
   "cell_type": "code",
   "execution_count": 110,
   "id": "9e2e2f1e-c36e-4029-b1e6-72d9b5bb6575",
   "metadata": {},
   "outputs": [
    {
     "data": {
      "text/plain": [
       "0     True\n",
       "1    False\n",
       "2    False\n",
       "3     True\n",
       "4    False\n",
       "5    False\n",
       "6    False\n",
       "dtype: bool"
      ]
     },
     "execution_count": 110,
     "metadata": {},
     "output_type": "execute_result"
    }
   ],
   "source": [
    "v.str.contains(\"Ar\")"
   ]
  },
  {
   "cell_type": "code",
   "execution_count": 111,
   "id": "7ddc3023-2112-4483-91ea-a9bca4a2b02b",
   "metadata": {},
   "outputs": [
    {
     "data": {
      "text/plain": [
       "0     Arda\n",
       "3    Arman\n",
       "dtype: object"
      ]
     },
     "execution_count": 111,
     "metadata": {},
     "output_type": "execute_result"
    }
   ],
   "source": [
    "v[v.str.contains(\"Ar\")]"
   ]
  },
  {
   "cell_type": "code",
   "execution_count": 112,
   "id": "9c5352fd-0468-4996-97a6-a73106efe071",
   "metadata": {},
   "outputs": [
    {
     "data": {
      "text/plain": [
       "2"
      ]
     },
     "execution_count": 112,
     "metadata": {},
     "output_type": "execute_result"
    }
   ],
   "source": [
    "v[v.str.contains(\"Ar\")].count()"
   ]
  },
  {
   "cell_type": "code",
   "execution_count": 113,
   "id": "4485e678-1fc0-40b1-8a07-86eb8b18e5ad",
   "metadata": {},
   "outputs": [
    {
     "data": {
      "text/plain": [
       "2"
      ]
     },
     "execution_count": 113,
     "metadata": {},
     "output_type": "execute_result"
    }
   ],
   "source": [
    "v.str.contains(\"Ar\").sum()"
   ]
  },
  {
   "cell_type": "code",
   "execution_count": null,
   "id": "dd9c1f45-525d-49bb-a60c-1706ca923cca",
   "metadata": {},
   "outputs": [],
   "source": []
  },
  {
   "cell_type": "code",
   "execution_count": 115,
   "id": "aed7cb03-3c01-4932-b1cd-a11c5e00e450",
   "metadata": {},
   "outputs": [
    {
     "data": {
      "text/plain": [
       "2"
      ]
     },
     "execution_count": 115,
     "metadata": {},
     "output_type": "execute_result"
    }
   ],
   "source": [
    "v.str.contains(\"[aA]r\").sum()"
   ]
  },
  {
   "cell_type": "code",
   "execution_count": null,
   "id": "c2986336-aacf-4125-a087-ecf6b2c3849b",
   "metadata": {},
   "outputs": [],
   "source": []
  }
 ],
 "metadata": {
  "kernelspec": {
   "display_name": "Python 3",
   "language": "python",
   "name": "python3"
  },
  "language_info": {
   "codemirror_mode": {
    "name": "ipython",
    "version": 3
   },
   "file_extension": ".py",
   "mimetype": "text/x-python",
   "name": "python",
   "nbconvert_exporter": "python",
   "pygments_lexer": "ipython3",
   "version": "3.8.8"
  }
 },
 "nbformat": 4,
 "nbformat_minor": 5
}
