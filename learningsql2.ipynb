{
 "cells": [
  {
   "cell_type": "code",
   "execution_count": 1,
   "id": "20ba27af-efc4-46b0-905a-dbb59629d757",
   "metadata": {},
   "outputs": [],
   "source": [
    "%load_ext sql"
   ]
  },
  {
   "cell_type": "code",
   "execution_count": 2,
   "id": "454d966b-3c08-4828-995f-56dd35aef3b1",
   "metadata": {},
   "outputs": [],
   "source": [
    "%sql sqlite:///learnsql.db"
   ]
  },
  {
   "cell_type": "code",
   "execution_count": 3,
   "id": "a12bf588-6ee5-41f5-822b-1730be774d43",
   "metadata": {},
   "outputs": [
    {
     "name": "stdout",
     "output_type": "stream",
     "text": [
      " * sqlite:///learnsql.db\n",
      "Done.\n"
     ]
    },
    {
     "data": {
      "text/html": [
       "<table>\n",
       "    <thead>\n",
       "        <tr>\n",
       "            <th>CustomerID</th>\n",
       "            <th>CustomerName</th>\n",
       "            <th>ContactName</th>\n",
       "            <th>Address</th>\n",
       "            <th>City</th>\n",
       "            <th>PostalCode</th>\n",
       "            <th>Country</th>\n",
       "        </tr>\n",
       "    </thead>\n",
       "    <tbody>\n",
       "        <tr>\n",
       "            <td>1</td>\n",
       "            <td>Alfreds Futterkiste</td>\n",
       "            <td>Maria Anders</td>\n",
       "            <td>Obere Str. 57</td>\n",
       "            <td>Berlin</td>\n",
       "            <td>12209</td>\n",
       "            <td>Germany</td>\n",
       "        </tr>\n",
       "        <tr>\n",
       "            <td>2</td>\n",
       "            <td>Ana Trujillo Emparedados y helados</td>\n",
       "            <td>Ana Trujillo</td>\n",
       "            <td>Avda. de la Constitución 2222</td>\n",
       "            <td>México D.F.</td>\n",
       "            <td>5021</td>\n",
       "            <td>Mexico</td>\n",
       "        </tr>\n",
       "        <tr>\n",
       "            <td>3</td>\n",
       "            <td>Antonio Moreno Taquería</td>\n",
       "            <td>Antonio Moreno</td>\n",
       "            <td>Mataderos 2312</td>\n",
       "            <td>México D.F.</td>\n",
       "            <td>5023</td>\n",
       "            <td>Mexico</td>\n",
       "        </tr>\n",
       "    </tbody>\n",
       "</table>"
      ],
      "text/plain": [
       "[(1, 'Alfreds Futterkiste', 'Maria Anders', 'Obere Str. 57', 'Berlin', '12209', 'Germany'),\n",
       " (2, 'Ana Trujillo Emparedados y helados', 'Ana Trujillo', 'Avda. de la Constitución 2222', 'México D.F.', '5021', 'Mexico'),\n",
       " (3, 'Antonio Moreno Taquería', 'Antonio Moreno', 'Mataderos 2312', 'México D.F.', '5023', 'Mexico')]"
      ]
     },
     "execution_count": 3,
     "metadata": {},
     "output_type": "execute_result"
    }
   ],
   "source": [
    "%%sql\n",
    "SELECT * FROM Customers LIMIT 3;"
   ]
  },
  {
   "cell_type": "markdown",
   "id": "94403ea7-355b-4ded-8f82-ad95d997c448",
   "metadata": {},
   "source": [
    "## LIKE gibi seçimler"
   ]
  },
  {
   "cell_type": "raw",
   "id": "f794a45d-1f9c-4f8f-8a80-6681e745cd1e",
   "metadata": {},
   "source": [
    ". 'a%': values start with \"a\"\n",
    ". '%a': values end with \"a\"\n",
    ". '%or%' : herhangi bir yerinde \"or\" olan değerler\n",
    ". '_r%' : ikinci sırasında \"r\" olan değerler\n",
    ". 'a%%' : \"a\" ile başlayıp en az 3 karakterden oluşan değerler\n",
    ". 'a%o' : \"a\" ile başlayıp \"o\" ile biten değerler"
   ]
  },
  {
   "cell_type": "code",
   "execution_count": 4,
   "id": "74db16f2-d635-40f0-b157-3dbff772d940",
   "metadata": {},
   "outputs": [
    {
     "name": "stdout",
     "output_type": "stream",
     "text": [
      " * sqlite:///learnsql.db\n",
      "Done.\n"
     ]
    },
    {
     "data": {
      "text/html": [
       "<table>\n",
       "    <thead>\n",
       "        <tr>\n",
       "            <th>CustomerID</th>\n",
       "            <th>CustomerName</th>\n",
       "            <th>ContactName</th>\n",
       "            <th>Address</th>\n",
       "            <th>City</th>\n",
       "            <th>PostalCode</th>\n",
       "            <th>Country</th>\n",
       "        </tr>\n",
       "    </thead>\n",
       "    <tbody>\n",
       "        <tr>\n",
       "            <td>3</td>\n",
       "            <td>Antonio Moreno Taquería</td>\n",
       "            <td>Antonio Moreno</td>\n",
       "            <td>Mataderos 2312</td>\n",
       "            <td>México D.F.</td>\n",
       "            <td>5023</td>\n",
       "            <td>Mexico</td>\n",
       "        </tr>\n",
       "        <tr>\n",
       "            <td>4</td>\n",
       "            <td>Around the Horn</td>\n",
       "            <td>Thomas Hardy</td>\n",
       "            <td>120 Hanover Sq.</td>\n",
       "            <td>London</td>\n",
       "            <td>WA1 1DP</td>\n",
       "            <td>UK</td>\n",
       "        </tr>\n",
       "        <tr>\n",
       "            <td>36</td>\n",
       "            <td>Hungry Coyote Import Store</td>\n",
       "            <td>Yoshi Latimer</td>\n",
       "            <td>City Center Plaza 516 Main St.</td>\n",
       "            <td>Elgin</td>\n",
       "            <td>97827</td>\n",
       "            <td>USA</td>\n",
       "        </tr>\n",
       "        <tr>\n",
       "            <td>40</td>\n",
       "            <td>La corne d&#x27;abondance</td>\n",
       "            <td>Daniel Tonini</td>\n",
       "            <td>67, avenue de l&#x27;Europe</td>\n",
       "            <td>Versailles</td>\n",
       "            <td>78000</td>\n",
       "            <td>France</td>\n",
       "        </tr>\n",
       "        <tr>\n",
       "            <td>43</td>\n",
       "            <td>Lazy K Kountry Store</td>\n",
       "            <td>John Steel</td>\n",
       "            <td>12 Orchestra Terrace</td>\n",
       "            <td>Walla Walla</td>\n",
       "            <td>99362</td>\n",
       "            <td>USA</td>\n",
       "        </tr>\n",
       "        <tr>\n",
       "            <td>52</td>\n",
       "            <td>Morgenstern Gesundkost</td>\n",
       "            <td>Alexander Feuer</td>\n",
       "            <td>Heerstr. 22</td>\n",
       "            <td>Leipzig</td>\n",
       "            <td>4179</td>\n",
       "            <td>Germany</td>\n",
       "        </tr>\n",
       "        <tr>\n",
       "            <td>53</td>\n",
       "            <td>North/South</td>\n",
       "            <td>Simon Crowther</td>\n",
       "            <td>South House 300 Queensbridge</td>\n",
       "            <td>London</td>\n",
       "            <td>SW7 1RZ</td>\n",
       "            <td>UK</td>\n",
       "        </tr>\n",
       "        <tr>\n",
       "            <td>55</td>\n",
       "            <td>Old World Delicatessen</td>\n",
       "            <td>Rene Phillips</td>\n",
       "            <td>2743 Bering St.</td>\n",
       "            <td>Anchorage</td>\n",
       "            <td>99508</td>\n",
       "            <td>USA</td>\n",
       "        </tr>\n",
       "        <tr>\n",
       "            <td>72</td>\n",
       "            <td>Seven Seas Imports</td>\n",
       "            <td>Hari Kumar</td>\n",
       "            <td>90 Wadhurst Rd.</td>\n",
       "            <td>London</td>\n",
       "            <td>OX15 4NB</td>\n",
       "            <td>UK</td>\n",
       "        </tr>\n",
       "        <tr>\n",
       "            <td>80</td>\n",
       "            <td>Tortuga Restaurante</td>\n",
       "            <td>Miguel Angel Paolino</td>\n",
       "            <td>Avda. Azteca 123</td>\n",
       "            <td>México D.F.</td>\n",
       "            <td>5033</td>\n",
       "            <td>Mexico</td>\n",
       "        </tr>\n",
       "        <tr>\n",
       "            <td>88</td>\n",
       "            <td>Wellington Importadora</td>\n",
       "            <td>Paula Parente</td>\n",
       "            <td>Rua do Mercado, 12</td>\n",
       "            <td>Resende</td>\n",
       "            <td>08737-363</td>\n",
       "            <td>Brazil</td>\n",
       "        </tr>\n",
       "    </tbody>\n",
       "</table>"
      ],
      "text/plain": [
       "[(3, 'Antonio Moreno Taquería', 'Antonio Moreno', 'Mataderos 2312', 'México D.F.', '5023', 'Mexico'),\n",
       " (4, 'Around the Horn', 'Thomas Hardy', '120 Hanover Sq.', 'London', 'WA1 1DP', 'UK'),\n",
       " (36, 'Hungry Coyote Import Store', 'Yoshi Latimer', 'City Center Plaza 516 Main St.', 'Elgin', '97827', 'USA'),\n",
       " (40, \"La corne d'abondance\", 'Daniel Tonini', \"67, avenue de l'Europe\", 'Versailles', '78000', 'France'),\n",
       " (43, 'Lazy K Kountry Store', 'John Steel', '12 Orchestra Terrace', 'Walla Walla', '99362', 'USA'),\n",
       " (52, 'Morgenstern Gesundkost', 'Alexander Feuer', 'Heerstr. 22', 'Leipzig', '4179', 'Germany'),\n",
       " (53, 'North/South', 'Simon Crowther', 'South House 300 Queensbridge', 'London', 'SW7 1RZ', 'UK'),\n",
       " (55, 'Old World Delicatessen', 'Rene Phillips', '2743 Bering St.', 'Anchorage', '99508', 'USA'),\n",
       " (72, 'Seven Seas Imports', 'Hari Kumar', '90 Wadhurst Rd.', 'London', 'OX15 4NB', 'UK'),\n",
       " (80, 'Tortuga Restaurante', 'Miguel Angel Paolino', 'Avda. Azteca 123', 'México D.F.', '5033', 'Mexico'),\n",
       " (88, 'Wellington Importadora', 'Paula Parente', 'Rua do Mercado, 12', 'Resende', '08737-363', 'Brazil')]"
      ]
     },
     "execution_count": 4,
     "metadata": {},
     "output_type": "execute_result"
    }
   ],
   "source": [
    "%%sql\n",
    "SELECT * FROM Customers WHERE CustomerName LIKE '%or%';"
   ]
  },
  {
   "cell_type": "code",
   "execution_count": 5,
   "id": "1ed36439-bfaf-41d0-9b0c-8ac27cbeb880",
   "metadata": {},
   "outputs": [
    {
     "name": "stdout",
     "output_type": "stream",
     "text": [
      " * sqlite:///learnsql.db\n",
      "Done.\n"
     ]
    },
    {
     "data": {
      "text/html": [
       "<table>\n",
       "    <thead>\n",
       "        <tr>\n",
       "            <th>CustomerID</th>\n",
       "            <th>CustomerName</th>\n",
       "            <th>ContactName</th>\n",
       "            <th>Address</th>\n",
       "            <th>City</th>\n",
       "            <th>PostalCode</th>\n",
       "            <th>Country</th>\n",
       "        </tr>\n",
       "    </thead>\n",
       "    <tbody>\n",
       "        <tr>\n",
       "            <td>3</td>\n",
       "            <td>Antonio Moreno Taquería</td>\n",
       "            <td>Antonio Moreno</td>\n",
       "            <td>Mataderos 2312</td>\n",
       "            <td>México D.F.</td>\n",
       "            <td>5023</td>\n",
       "            <td>Mexico</td>\n",
       "        </tr>\n",
       "        <tr>\n",
       "            <td>13</td>\n",
       "            <td>Centro comercial Moctezuma</td>\n",
       "            <td>Francisco Chang</td>\n",
       "            <td>Sierras de Granada 9993</td>\n",
       "            <td>México D.F.</td>\n",
       "            <td>5022</td>\n",
       "            <td>Mexico</td>\n",
       "        </tr>\n",
       "        <tr>\n",
       "            <td>30</td>\n",
       "            <td>Godos Cocina Típica</td>\n",
       "            <td>José Pedro Freyre</td>\n",
       "            <td>C/ Romero, 33</td>\n",
       "            <td>Sevilla</td>\n",
       "            <td>41101</td>\n",
       "            <td>Spain</td>\n",
       "        </tr>\n",
       "        <tr>\n",
       "            <td>61</td>\n",
       "            <td>Que Delícia</td>\n",
       "            <td>Bernardo Batista</td>\n",
       "            <td>Rua da Panificadora, 12</td>\n",
       "            <td>Rio de Janeiro</td>\n",
       "            <td>02389-673</td>\n",
       "            <td>Brazil</td>\n",
       "        </tr>\n",
       "        <tr>\n",
       "            <td>62</td>\n",
       "            <td>Queen Cozinha</td>\n",
       "            <td>Lúcia Carvalho</td>\n",
       "            <td>Alameda dos Canàrios, 891</td>\n",
       "            <td>São Paulo</td>\n",
       "            <td>05487-020</td>\n",
       "            <td>Brazil</td>\n",
       "        </tr>\n",
       "        <tr>\n",
       "            <td>88</td>\n",
       "            <td>Wellington Importadora</td>\n",
       "            <td>Paula Parente</td>\n",
       "            <td>Rua do Mercado, 12</td>\n",
       "            <td>Resende</td>\n",
       "            <td>08737-363</td>\n",
       "            <td>Brazil</td>\n",
       "        </tr>\n",
       "        <tr>\n",
       "            <td>90</td>\n",
       "            <td>Wilman Kala</td>\n",
       "            <td>Matti Karttunen</td>\n",
       "            <td>Keskuskatu 45</td>\n",
       "            <td>Helsinki</td>\n",
       "            <td>21240</td>\n",
       "            <td>Finland</td>\n",
       "        </tr>\n",
       "    </tbody>\n",
       "</table>"
      ],
      "text/plain": [
       "[(3, 'Antonio Moreno Taquería', 'Antonio Moreno', 'Mataderos 2312', 'México D.F.', '5023', 'Mexico'),\n",
       " (13, 'Centro comercial Moctezuma', 'Francisco Chang', 'Sierras de Granada 9993', 'México D.F.', '5022', 'Mexico'),\n",
       " (30, 'Godos Cocina Típica', 'José Pedro Freyre', 'C/ Romero, 33', 'Sevilla', '41101', 'Spain'),\n",
       " (61, 'Que Delícia', 'Bernardo Batista', 'Rua da Panificadora, 12', 'Rio de Janeiro', '02389-673', 'Brazil'),\n",
       " (62, 'Queen Cozinha', 'Lúcia Carvalho', 'Alameda dos Canàrios, 891', 'São Paulo', '05487-020', 'Brazil'),\n",
       " (88, 'Wellington Importadora', 'Paula Parente', 'Rua do Mercado, 12', 'Resende', '08737-363', 'Brazil'),\n",
       " (90, 'Wilman Kala', 'Matti Karttunen', 'Keskuskatu 45', 'Helsinki', '21240', 'Finland')]"
      ]
     },
     "execution_count": 5,
     "metadata": {},
     "output_type": "execute_result"
    }
   ],
   "source": [
    "%%sql\n",
    "SELECT * FROM Customers WHERE CustomerName LIKE '%a';"
   ]
  },
  {
   "cell_type": "code",
   "execution_count": 6,
   "id": "ff077ef4-9650-42df-9bd2-9d74371441f6",
   "metadata": {},
   "outputs": [
    {
     "name": "stdout",
     "output_type": "stream",
     "text": [
      " * sqlite:///learnsql.db\n",
      "Done.\n"
     ]
    },
    {
     "data": {
      "text/html": [
       "<table>\n",
       "    <thead>\n",
       "        <tr>\n",
       "            <th>CustomerID</th>\n",
       "            <th>CustomerName</th>\n",
       "            <th>ContactName</th>\n",
       "            <th>Address</th>\n",
       "            <th>City</th>\n",
       "            <th>PostalCode</th>\n",
       "            <th>Country</th>\n",
       "        </tr>\n",
       "    </thead>\n",
       "    <tbody>\n",
       "        <tr>\n",
       "            <td>2</td>\n",
       "            <td>Ana Trujillo Emparedados y helados</td>\n",
       "            <td>Ana Trujillo</td>\n",
       "            <td>Avda. de la Constitución 2222</td>\n",
       "            <td>México D.F.</td>\n",
       "            <td>5021</td>\n",
       "            <td>Mexico</td>\n",
       "        </tr>\n",
       "        <tr>\n",
       "            <td>3</td>\n",
       "            <td>Antonio Moreno Taquería</td>\n",
       "            <td>Antonio Moreno</td>\n",
       "            <td>Mataderos 2312</td>\n",
       "            <td>México D.F.</td>\n",
       "            <td>5023</td>\n",
       "            <td>Mexico</td>\n",
       "        </tr>\n",
       "    </tbody>\n",
       "</table>"
      ],
      "text/plain": [
       "[(2, 'Ana Trujillo Emparedados y helados', 'Ana Trujillo', 'Avda. de la Constitución 2222', 'México D.F.', '5021', 'Mexico'),\n",
       " (3, 'Antonio Moreno Taquería', 'Antonio Moreno', 'Mataderos 2312', 'México D.F.', '5023', 'Mexico')]"
      ]
     },
     "execution_count": 6,
     "metadata": {},
     "output_type": "execute_result"
    }
   ],
   "source": [
    "%%sql\n",
    "SELECT * FROM Customers WHERE CustomerName LIKE 'A%' AND Country LIKE '%o';"
   ]
  },
  {
   "cell_type": "markdown",
   "id": "9fd20a4d-a1c2-4a06-8281-b20c8c185948",
   "metadata": {},
   "source": [
    "## BETWEEN"
   ]
  },
  {
   "cell_type": "code",
   "execution_count": 7,
   "id": "30cb9935-7491-49bf-8083-7bd22ba088d8",
   "metadata": {},
   "outputs": [
    {
     "name": "stdout",
     "output_type": "stream",
     "text": [
      " * sqlite:///learnsql.db\n",
      "Done.\n"
     ]
    },
    {
     "data": {
      "text/html": [
       "<table>\n",
       "    <thead>\n",
       "        <tr>\n",
       "            <th>ProductID</th>\n",
       "            <th>ProductName</th>\n",
       "            <th>SupplierID</th>\n",
       "            <th>CategoryID</th>\n",
       "            <th>Unit</th>\n",
       "            <th>Price</th>\n",
       "        </tr>\n",
       "    </thead>\n",
       "    <tbody>\n",
       "        <tr>\n",
       "            <td>1</td>\n",
       "            <td>Chais</td>\n",
       "            <td>1</td>\n",
       "            <td>1</td>\n",
       "            <td>10 boxes x 20 bags</td>\n",
       "            <td>18</td>\n",
       "        </tr>\n",
       "        <tr>\n",
       "            <td>2</td>\n",
       "            <td>Chang</td>\n",
       "            <td>1</td>\n",
       "            <td>1</td>\n",
       "            <td>24 - 12 oz bottles</td>\n",
       "            <td>19</td>\n",
       "        </tr>\n",
       "        <tr>\n",
       "            <td>3</td>\n",
       "            <td>Aniseed Syrup</td>\n",
       "            <td>1</td>\n",
       "            <td>2</td>\n",
       "            <td>12 - 550 ml bottles</td>\n",
       "            <td>10</td>\n",
       "        </tr>\n",
       "        <tr>\n",
       "            <td>4</td>\n",
       "            <td>Chef Anton&#x27;s Cajun Seasoning</td>\n",
       "            <td>2</td>\n",
       "            <td>2</td>\n",
       "            <td>48 - 6 oz jars</td>\n",
       "            <td>22</td>\n",
       "        </tr>\n",
       "        <tr>\n",
       "            <td>5</td>\n",
       "            <td>Chef Anton&#x27;s Gumbo Mix</td>\n",
       "            <td>2</td>\n",
       "            <td>2</td>\n",
       "            <td>36 boxes</td>\n",
       "            <td>21</td>\n",
       "        </tr>\n",
       "        <tr>\n",
       "            <td>6</td>\n",
       "            <td>Grandma&#x27;s Boysenberry Spread</td>\n",
       "            <td>3</td>\n",
       "            <td>2</td>\n",
       "            <td>12 - 8 oz jars</td>\n",
       "            <td>25</td>\n",
       "        </tr>\n",
       "        <tr>\n",
       "            <td>7</td>\n",
       "            <td>Uncle Bob&#x27;s Organic Dried Pears</td>\n",
       "            <td>3</td>\n",
       "            <td>7</td>\n",
       "            <td>12 - 1 lb pkgs.</td>\n",
       "            <td>30</td>\n",
       "        </tr>\n",
       "        <tr>\n",
       "            <td>8</td>\n",
       "            <td>Northwoods Cranberry Sauce</td>\n",
       "            <td>3</td>\n",
       "            <td>2</td>\n",
       "            <td>12 - 12 oz jars</td>\n",
       "            <td>40</td>\n",
       "        </tr>\n",
       "        <tr>\n",
       "            <td>9</td>\n",
       "            <td>Mishi Kobe Niku</td>\n",
       "            <td>4</td>\n",
       "            <td>6</td>\n",
       "            <td>18 - 500 g pkgs.</td>\n",
       "            <td>97</td>\n",
       "        </tr>\n",
       "        <tr>\n",
       "            <td>10</td>\n",
       "            <td>Ikura</td>\n",
       "            <td>4</td>\n",
       "            <td>8</td>\n",
       "            <td>12 - 200 ml jars</td>\n",
       "            <td>31</td>\n",
       "        </tr>\n",
       "    </tbody>\n",
       "</table>"
      ],
      "text/plain": [
       "[(1, 'Chais', 1, 1, '10 boxes x 20 bags', 18),\n",
       " (2, 'Chang', 1, 1, '24 - 12 oz bottles', 19),\n",
       " (3, 'Aniseed Syrup', 1, 2, '12 - 550 ml bottles', 10),\n",
       " (4, \"Chef Anton's Cajun Seasoning\", 2, 2, '48 - 6 oz jars', 22),\n",
       " (5, \"Chef Anton's Gumbo Mix\", 2, 2, '36 boxes', 21),\n",
       " (6, \"Grandma's Boysenberry Spread\", 3, 2, '12 - 8 oz jars', 25),\n",
       " (7, \"Uncle Bob's Organic Dried Pears\", 3, 7, '12 - 1 lb pkgs.', 30),\n",
       " (8, 'Northwoods Cranberry Sauce', 3, 2, '12 - 12 oz jars', 40),\n",
       " (9, 'Mishi Kobe Niku', 4, 6, '18 - 500 g pkgs.', 97),\n",
       " (10, 'Ikura', 4, 8, '12 - 200 ml jars', 31)]"
      ]
     },
     "execution_count": 7,
     "metadata": {},
     "output_type": "execute_result"
    }
   ],
   "source": [
    "%%sql\n",
    "SELECT * FROM Products LIMIT 10;"
   ]
  },
  {
   "cell_type": "code",
   "execution_count": 8,
   "id": "f231cab2-c822-428f-9380-ae96ff01e1bc",
   "metadata": {},
   "outputs": [
    {
     "name": "stdout",
     "output_type": "stream",
     "text": [
      " * sqlite:///learnsql.db\n",
      "Done.\n"
     ]
    },
    {
     "data": {
      "text/html": [
       "<table>\n",
       "    <thead>\n",
       "        <tr>\n",
       "            <th>ProductID</th>\n",
       "            <th>ProductName</th>\n",
       "            <th>SupplierID</th>\n",
       "            <th>CategoryID</th>\n",
       "            <th>Unit</th>\n",
       "            <th>Price</th>\n",
       "        </tr>\n",
       "    </thead>\n",
       "    <tbody>\n",
       "        <tr>\n",
       "            <td>9</td>\n",
       "            <td>Mishi Kobe Niku</td>\n",
       "            <td>4</td>\n",
       "            <td>6</td>\n",
       "            <td>18 - 500 g pkgs.</td>\n",
       "            <td>97</td>\n",
       "        </tr>\n",
       "        <tr>\n",
       "            <td>20</td>\n",
       "            <td>Sir Rodney&#x27;s Marmalade</td>\n",
       "            <td>8</td>\n",
       "            <td>3</td>\n",
       "            <td>30 gift boxes</td>\n",
       "            <td>81</td>\n",
       "        </tr>\n",
       "    </tbody>\n",
       "</table>"
      ],
      "text/plain": [
       "[(9, 'Mishi Kobe Niku', 4, 6, '18 - 500 g pkgs.', 97),\n",
       " (20, \"Sir Rodney's Marmalade\", 8, 3, '30 gift boxes', 81)]"
      ]
     },
     "execution_count": 8,
     "metadata": {},
     "output_type": "execute_result"
    }
   ],
   "source": [
    "%%sql\n",
    "SELECT * FROM Products WHERE Price BETWEEN 80 AND 120;"
   ]
  },
  {
   "cell_type": "code",
   "execution_count": 9,
   "id": "9116f43e-89ea-4c7d-b2eb-de788ac4dc41",
   "metadata": {},
   "outputs": [
    {
     "name": "stdout",
     "output_type": "stream",
     "text": [
      " * sqlite:///learnsql.db\n",
      "Done.\n"
     ]
    },
    {
     "data": {
      "text/html": [
       "<table>\n",
       "    <thead>\n",
       "        <tr>\n",
       "            <th>ProductID</th>\n",
       "            <th>ProductName</th>\n",
       "            <th>SupplierID</th>\n",
       "            <th>CategoryID</th>\n",
       "            <th>Unit</th>\n",
       "            <th>Price</th>\n",
       "        </tr>\n",
       "    </thead>\n",
       "    <tbody>\n",
       "        <tr>\n",
       "            <td>1</td>\n",
       "            <td>Chais</td>\n",
       "            <td>1</td>\n",
       "            <td>1</td>\n",
       "            <td>10 boxes x 20 bags</td>\n",
       "            <td>18</td>\n",
       "        </tr>\n",
       "        <tr>\n",
       "            <td>2</td>\n",
       "            <td>Chang</td>\n",
       "            <td>1</td>\n",
       "            <td>1</td>\n",
       "            <td>24 - 12 oz bottles</td>\n",
       "            <td>19</td>\n",
       "        </tr>\n",
       "        <tr>\n",
       "            <td>3</td>\n",
       "            <td>Aniseed Syrup</td>\n",
       "            <td>1</td>\n",
       "            <td>2</td>\n",
       "            <td>12 - 550 ml bottles</td>\n",
       "            <td>10</td>\n",
       "        </tr>\n",
       "        <tr>\n",
       "            <td>4</td>\n",
       "            <td>Chef Anton&#x27;s Cajun Seasoning</td>\n",
       "            <td>2</td>\n",
       "            <td>2</td>\n",
       "            <td>48 - 6 oz jars</td>\n",
       "            <td>22</td>\n",
       "        </tr>\n",
       "        <tr>\n",
       "            <td>5</td>\n",
       "            <td>Chef Anton&#x27;s Gumbo Mix</td>\n",
       "            <td>2</td>\n",
       "            <td>2</td>\n",
       "            <td>36 boxes</td>\n",
       "            <td>21</td>\n",
       "        </tr>\n",
       "        <tr>\n",
       "            <td>6</td>\n",
       "            <td>Grandma&#x27;s Boysenberry Spread</td>\n",
       "            <td>3</td>\n",
       "            <td>2</td>\n",
       "            <td>12 - 8 oz jars</td>\n",
       "            <td>25</td>\n",
       "        </tr>\n",
       "        <tr>\n",
       "            <td>7</td>\n",
       "            <td>Uncle Bob&#x27;s Organic Dried Pears</td>\n",
       "            <td>3</td>\n",
       "            <td>7</td>\n",
       "            <td>12 - 1 lb pkgs.</td>\n",
       "            <td>30</td>\n",
       "        </tr>\n",
       "        <tr>\n",
       "            <td>8</td>\n",
       "            <td>Northwoods Cranberry Sauce</td>\n",
       "            <td>3</td>\n",
       "            <td>2</td>\n",
       "            <td>12 - 12 oz jars</td>\n",
       "            <td>40</td>\n",
       "        </tr>\n",
       "        <tr>\n",
       "            <td>10</td>\n",
       "            <td>Ikura</td>\n",
       "            <td>4</td>\n",
       "            <td>8</td>\n",
       "            <td>12 - 200 ml jars</td>\n",
       "            <td>31</td>\n",
       "        </tr>\n",
       "        <tr>\n",
       "            <td>11</td>\n",
       "            <td>Queso Cabrales</td>\n",
       "            <td>5</td>\n",
       "            <td>4</td>\n",
       "            <td>1 kg pkg.</td>\n",
       "            <td>21</td>\n",
       "        </tr>\n",
       "    </tbody>\n",
       "</table>"
      ],
      "text/plain": [
       "[(1, 'Chais', 1, 1, '10 boxes x 20 bags', 18),\n",
       " (2, 'Chang', 1, 1, '24 - 12 oz bottles', 19),\n",
       " (3, 'Aniseed Syrup', 1, 2, '12 - 550 ml bottles', 10),\n",
       " (4, \"Chef Anton's Cajun Seasoning\", 2, 2, '48 - 6 oz jars', 22),\n",
       " (5, \"Chef Anton's Gumbo Mix\", 2, 2, '36 boxes', 21),\n",
       " (6, \"Grandma's Boysenberry Spread\", 3, 2, '12 - 8 oz jars', 25),\n",
       " (7, \"Uncle Bob's Organic Dried Pears\", 3, 7, '12 - 1 lb pkgs.', 30),\n",
       " (8, 'Northwoods Cranberry Sauce', 3, 2, '12 - 12 oz jars', 40),\n",
       " (10, 'Ikura', 4, 8, '12 - 200 ml jars', 31),\n",
       " (11, 'Queso Cabrales', 5, 4, '1 kg pkg.', 21)]"
      ]
     },
     "execution_count": 9,
     "metadata": {},
     "output_type": "execute_result"
    }
   ],
   "source": [
    "%%sql\n",
    "SELECT * FROM Products WHERE Price NOT BETWEEN 80 AND 120 LIMIT 10;"
   ]
  },
  {
   "cell_type": "code",
   "execution_count": 10,
   "id": "b797c1c7-4a19-4a45-b600-313867c260bf",
   "metadata": {},
   "outputs": [
    {
     "name": "stdout",
     "output_type": "stream",
     "text": [
      " * sqlite:///learnsql.db\n",
      "Done.\n"
     ]
    },
    {
     "data": {
      "text/html": [
       "<table>\n",
       "    <thead>\n",
       "        <tr>\n",
       "            <th>ProductID</th>\n",
       "            <th>ProductName</th>\n",
       "            <th>SupplierID</th>\n",
       "            <th>CategoryID</th>\n",
       "            <th>Unit</th>\n",
       "            <th>Price</th>\n",
       "        </tr>\n",
       "    </thead>\n",
       "    <tbody>\n",
       "        <tr>\n",
       "            <td>36</td>\n",
       "            <td>Inlagd Sill</td>\n",
       "            <td>17</td>\n",
       "            <td>8</td>\n",
       "            <td>24 - 250 g jars</td>\n",
       "            <td>19</td>\n",
       "        </tr>\n",
       "        <tr>\n",
       "            <td>42</td>\n",
       "            <td>Singaporean Hokkien Fried Mee</td>\n",
       "            <td>20</td>\n",
       "            <td>5</td>\n",
       "            <td>32 - 1 kg pkgs.</td>\n",
       "            <td>14</td>\n",
       "        </tr>\n",
       "        <tr>\n",
       "            <td>46</td>\n",
       "            <td>Spegesild</td>\n",
       "            <td>21</td>\n",
       "            <td>8</td>\n",
       "            <td>4 - 450 g glasses</td>\n",
       "            <td>12</td>\n",
       "        </tr>\n",
       "        <tr>\n",
       "            <td>54</td>\n",
       "            <td>Tourtière</td>\n",
       "            <td>25</td>\n",
       "            <td>6</td>\n",
       "            <td>16 pies</td>\n",
       "            <td>16</td>\n",
       "        </tr>\n",
       "        <tr>\n",
       "            <td>58</td>\n",
       "            <td>Escargots de Bourgogne</td>\n",
       "            <td>27</td>\n",
       "            <td>8</td>\n",
       "            <td>24 pieces</td>\n",
       "            <td>13</td>\n",
       "        </tr>\n",
       "        <tr>\n",
       "            <td>73</td>\n",
       "            <td>Röd Kaviar</td>\n",
       "            <td>17</td>\n",
       "            <td>8</td>\n",
       "            <td>24 - 150 g jars</td>\n",
       "            <td>15</td>\n",
       "        </tr>\n",
       "        <tr>\n",
       "            <td>74</td>\n",
       "            <td>Longlife Tofu</td>\n",
       "            <td>4</td>\n",
       "            <td>7</td>\n",
       "            <td>5 kg pkg.</td>\n",
       "            <td>10</td>\n",
       "        </tr>\n",
       "    </tbody>\n",
       "</table>"
      ],
      "text/plain": [
       "[(36, 'Inlagd Sill', 17, 8, '24 - 250 g jars', 19),\n",
       " (42, 'Singaporean Hokkien Fried Mee', 20, 5, '32 - 1 kg pkgs.', 14),\n",
       " (46, 'Spegesild', 21, 8, '4 - 450 g glasses', 12),\n",
       " (54, 'Tourtière', 25, 6, '16 pies', 16),\n",
       " (58, 'Escargots de Bourgogne', 27, 8, '24 pieces', 13),\n",
       " (73, 'Röd Kaviar', 17, 8, '24 - 150 g jars', 15),\n",
       " (74, 'Longlife Tofu', 4, 7, '5 kg pkg.', 10)]"
      ]
     },
     "execution_count": 10,
     "metadata": {},
     "output_type": "execute_result"
    }
   ],
   "source": [
    "%%sql\n",
    "SELECT * FROM Products WHERE Price BETWEEN 10 AND 20 AND CategoryID NOT IN(1,2,3);"
   ]
  },
  {
   "cell_type": "code",
   "execution_count": 11,
   "id": "694a8f81-c155-4472-8fd0-b35186884f5e",
   "metadata": {},
   "outputs": [
    {
     "name": "stdout",
     "output_type": "stream",
     "text": [
      " * sqlite:///learnsql.db\n",
      "Done.\n"
     ]
    },
    {
     "data": {
      "text/html": [
       "<table>\n",
       "    <thead>\n",
       "        <tr>\n",
       "            <th>ProductName</th>\n",
       "        </tr>\n",
       "    </thead>\n",
       "    <tbody>\n",
       "        <tr>\n",
       "            <td>Inlagd Sill</td>\n",
       "        </tr>\n",
       "        <tr>\n",
       "            <td>Singaporean Hokkien Fried Mee</td>\n",
       "        </tr>\n",
       "        <tr>\n",
       "            <td>Spegesild</td>\n",
       "        </tr>\n",
       "        <tr>\n",
       "            <td>Tourtière</td>\n",
       "        </tr>\n",
       "        <tr>\n",
       "            <td>Escargots de Bourgogne</td>\n",
       "        </tr>\n",
       "        <tr>\n",
       "            <td>Röd Kaviar</td>\n",
       "        </tr>\n",
       "        <tr>\n",
       "            <td>Longlife Tofu</td>\n",
       "        </tr>\n",
       "    </tbody>\n",
       "</table>"
      ],
      "text/plain": [
       "[('Inlagd Sill',),\n",
       " ('Singaporean Hokkien Fried Mee',),\n",
       " ('Spegesild',),\n",
       " ('Tourtière',),\n",
       " ('Escargots de Bourgogne',),\n",
       " ('Röd Kaviar',),\n",
       " ('Longlife Tofu',)]"
      ]
     },
     "execution_count": 11,
     "metadata": {},
     "output_type": "execute_result"
    }
   ],
   "source": [
    "%%sql\n",
    "SELECT ProductName FROM Products WHERE Price BETWEEN 10 AND 20 AND CategoryID NOT IN(1,2,3);"
   ]
  },
  {
   "cell_type": "code",
   "execution_count": 12,
   "id": "9371fa1f-d335-496c-add5-3b99e9ef1300",
   "metadata": {},
   "outputs": [
    {
     "name": "stdout",
     "output_type": "stream",
     "text": [
      " * sqlite:///learnsql.db\n",
      "Done.\n"
     ]
    },
    {
     "data": {
      "text/html": [
       "<table>\n",
       "    <thead>\n",
       "        <tr>\n",
       "            <th>ProductID</th>\n",
       "            <th>ProductName</th>\n",
       "            <th>SupplierID</th>\n",
       "            <th>CategoryID</th>\n",
       "            <th>Unit</th>\n",
       "            <th>Price</th>\n",
       "        </tr>\n",
       "    </thead>\n",
       "    <tbody>\n",
       "        <tr>\n",
       "            <td>8</td>\n",
       "            <td>Northwoods Cranberry Sauce</td>\n",
       "            <td>3</td>\n",
       "            <td>2</td>\n",
       "            <td>12 - 12 oz jars</td>\n",
       "            <td>40</td>\n",
       "        </tr>\n",
       "        <tr>\n",
       "            <td>9</td>\n",
       "            <td>Mishi Kobe Niku</td>\n",
       "            <td>4</td>\n",
       "            <td>6</td>\n",
       "            <td>18 - 500 g pkgs.</td>\n",
       "            <td>97</td>\n",
       "        </tr>\n",
       "        <tr>\n",
       "            <td>11</td>\n",
       "            <td>Queso Cabrales</td>\n",
       "            <td>5</td>\n",
       "            <td>4</td>\n",
       "            <td>1 kg pkg.</td>\n",
       "            <td>21</td>\n",
       "        </tr>\n",
       "        <tr>\n",
       "            <td>12</td>\n",
       "            <td>Queso Manchego La Pastora</td>\n",
       "            <td>5</td>\n",
       "            <td>4</td>\n",
       "            <td>10 - 500 g pkgs.</td>\n",
       "            <td>38</td>\n",
       "        </tr>\n",
       "        <tr>\n",
       "            <td>13</td>\n",
       "            <td>Konbu</td>\n",
       "            <td>6</td>\n",
       "            <td>8</td>\n",
       "            <td>2 kg box</td>\n",
       "            <td>6</td>\n",
       "        </tr>\n",
       "        <tr>\n",
       "            <td>16</td>\n",
       "            <td>Pavlova</td>\n",
       "            <td>7</td>\n",
       "            <td>3</td>\n",
       "            <td>32 - 500 g boxes</td>\n",
       "            <td>17</td>\n",
       "        </tr>\n",
       "        <tr>\n",
       "            <td>25</td>\n",
       "            <td>NuNuCa Nuß-Nougat-Creme</td>\n",
       "            <td>11</td>\n",
       "            <td>3</td>\n",
       "            <td>20 - 450 g glasses</td>\n",
       "            <td>14</td>\n",
       "        </tr>\n",
       "        <tr>\n",
       "            <td>30</td>\n",
       "            <td>Nord-Ost Matjeshering</td>\n",
       "            <td>13</td>\n",
       "            <td>8</td>\n",
       "            <td>10 - 200 g glasses</td>\n",
       "            <td>25</td>\n",
       "        </tr>\n",
       "        <tr>\n",
       "            <td>32</td>\n",
       "            <td>Mascarpone Fabioli</td>\n",
       "            <td>14</td>\n",
       "            <td>4</td>\n",
       "            <td>24 - 200 g pkgs.</td>\n",
       "            <td>32</td>\n",
       "        </tr>\n",
       "        <tr>\n",
       "            <td>36</td>\n",
       "            <td>Inlagd Sill</td>\n",
       "            <td>17</td>\n",
       "            <td>8</td>\n",
       "            <td>24 - 250 g jars</td>\n",
       "            <td>19</td>\n",
       "        </tr>\n",
       "        <tr>\n",
       "            <td>41</td>\n",
       "            <td>Jack&#x27;s New England Clam Chowder</td>\n",
       "            <td>19</td>\n",
       "            <td>8</td>\n",
       "            <td>12 - 12 oz cans</td>\n",
       "            <td>23</td>\n",
       "        </tr>\n",
       "        <tr>\n",
       "            <td>43</td>\n",
       "            <td>Ipoh Coffee</td>\n",
       "            <td>20</td>\n",
       "            <td>1</td>\n",
       "            <td>16 - 500 g tins</td>\n",
       "            <td>46</td>\n",
       "        </tr>\n",
       "        <tr>\n",
       "            <td>49</td>\n",
       "            <td>Maxilaku</td>\n",
       "            <td>23</td>\n",
       "            <td>3</td>\n",
       "            <td>24 - 50 g pkgs.</td>\n",
       "            <td>20</td>\n",
       "        </tr>\n",
       "        <tr>\n",
       "            <td>51</td>\n",
       "            <td>Manjimup Dried Apples</td>\n",
       "            <td>24</td>\n",
       "            <td>7</td>\n",
       "            <td>50 - 300 g pkgs.</td>\n",
       "            <td>53</td>\n",
       "        </tr>\n",
       "        <tr>\n",
       "            <td>53</td>\n",
       "            <td>Perth Pasties</td>\n",
       "            <td>24</td>\n",
       "            <td>6</td>\n",
       "            <td>48 pieces</td>\n",
       "            <td>32</td>\n",
       "        </tr>\n",
       "        <tr>\n",
       "            <td>55</td>\n",
       "            <td>Pâté chinois</td>\n",
       "            <td>25</td>\n",
       "            <td>6</td>\n",
       "            <td>24 boxes x 2 pies</td>\n",
       "            <td>24</td>\n",
       "        </tr>\n",
       "        <tr>\n",
       "            <td>57</td>\n",
       "            <td>Ravioli Angelo</td>\n",
       "            <td>26</td>\n",
       "            <td>5</td>\n",
       "            <td>24 - 250 g pkgs.</td>\n",
       "            <td>43</td>\n",
       "        </tr>\n",
       "        <tr>\n",
       "            <td>59</td>\n",
       "            <td>Raclette Courdavault</td>\n",
       "            <td>28</td>\n",
       "            <td>4</td>\n",
       "            <td>5 kg pkg.</td>\n",
       "            <td>55</td>\n",
       "        </tr>\n",
       "        <tr>\n",
       "            <td>65</td>\n",
       "            <td>Louisiana Fiery Hot Pepper Sauce</td>\n",
       "            <td>2</td>\n",
       "            <td>2</td>\n",
       "            <td>32 - 8 oz bottles</td>\n",
       "            <td>43</td>\n",
       "        </tr>\n",
       "        <tr>\n",
       "            <td>66</td>\n",
       "            <td>Louisiana Hot Spiced Okra</td>\n",
       "            <td>2</td>\n",
       "            <td>2</td>\n",
       "            <td>24 - 8 oz jars</td>\n",
       "            <td>17</td>\n",
       "        </tr>\n",
       "        <tr>\n",
       "            <td>67</td>\n",
       "            <td>Laughing Lumberjack Lager</td>\n",
       "            <td>16</td>\n",
       "            <td>1</td>\n",
       "            <td>24 - 12 oz bottles</td>\n",
       "            <td>14</td>\n",
       "        </tr>\n",
       "        <tr>\n",
       "            <td>70</td>\n",
       "            <td>Outback Lager</td>\n",
       "            <td>7</td>\n",
       "            <td>1</td>\n",
       "            <td>24 - 355 ml bottles</td>\n",
       "            <td>15</td>\n",
       "        </tr>\n",
       "        <tr>\n",
       "            <td>72</td>\n",
       "            <td>Mozzarella di Giovanni</td>\n",
       "            <td>14</td>\n",
       "            <td>4</td>\n",
       "            <td>24 - 200 g pkgs.</td>\n",
       "            <td>34</td>\n",
       "        </tr>\n",
       "        <tr>\n",
       "            <td>73</td>\n",
       "            <td>Röd Kaviar</td>\n",
       "            <td>17</td>\n",
       "            <td>8</td>\n",
       "            <td>24 - 150 g jars</td>\n",
       "            <td>15</td>\n",
       "        </tr>\n",
       "        <tr>\n",
       "            <td>74</td>\n",
       "            <td>Longlife Tofu</td>\n",
       "            <td>4</td>\n",
       "            <td>7</td>\n",
       "            <td>5 kg pkg.</td>\n",
       "            <td>10</td>\n",
       "        </tr>\n",
       "        <tr>\n",
       "            <td>75</td>\n",
       "            <td>Rhönbräu Klosterbier</td>\n",
       "            <td>12</td>\n",
       "            <td>1</td>\n",
       "            <td>24 - 0.5 l bottles</td>\n",
       "            <td>27</td>\n",
       "        </tr>\n",
       "        <tr>\n",
       "            <td>76</td>\n",
       "            <td>Lakkalikööri</td>\n",
       "            <td>23</td>\n",
       "            <td>1</td>\n",
       "            <td>500 ml</td>\n",
       "            <td>18</td>\n",
       "        </tr>\n",
       "        <tr>\n",
       "            <td>77</td>\n",
       "            <td>Original Frankfurter grüne Soße</td>\n",
       "            <td>12</td>\n",
       "            <td>2</td>\n",
       "            <td>12 boxes</td>\n",
       "            <td>13</td>\n",
       "        </tr>\n",
       "    </tbody>\n",
       "</table>"
      ],
      "text/plain": [
       "[(8, 'Northwoods Cranberry Sauce', 3, 2, '12 - 12 oz jars', 40),\n",
       " (9, 'Mishi Kobe Niku', 4, 6, '18 - 500 g pkgs.', 97),\n",
       " (11, 'Queso Cabrales', 5, 4, '1 kg pkg.', 21),\n",
       " (12, 'Queso Manchego La Pastora', 5, 4, '10 - 500 g pkgs.', 38),\n",
       " (13, 'Konbu', 6, 8, '2 kg box', 6),\n",
       " (16, 'Pavlova', 7, 3, '32 - 500 g boxes', 17),\n",
       " (25, 'NuNuCa Nuß-Nougat-Creme', 11, 3, '20 - 450 g glasses', 14),\n",
       " (30, 'Nord-Ost Matjeshering', 13, 8, '10 - 200 g glasses', 25),\n",
       " (32, 'Mascarpone Fabioli', 14, 4, '24 - 200 g pkgs.', 32),\n",
       " (36, 'Inlagd Sill', 17, 8, '24 - 250 g jars', 19),\n",
       " (41, \"Jack's New England Clam Chowder\", 19, 8, '12 - 12 oz cans', 23),\n",
       " (43, 'Ipoh Coffee', 20, 1, '16 - 500 g tins', 46),\n",
       " (49, 'Maxilaku', 23, 3, '24 - 50 g pkgs.', 20),\n",
       " (51, 'Manjimup Dried Apples', 24, 7, '50 - 300 g pkgs.', 53),\n",
       " (53, 'Perth Pasties', 24, 6, '48 pieces', 32),\n",
       " (55, 'Pâté chinois', 25, 6, '24 boxes x 2 pies', 24),\n",
       " (57, 'Ravioli Angelo', 26, 5, '24 - 250 g pkgs.', 43),\n",
       " (59, 'Raclette Courdavault', 28, 4, '5 kg pkg.', 55),\n",
       " (65, 'Louisiana Fiery Hot Pepper Sauce', 2, 2, '32 - 8 oz bottles', 43),\n",
       " (66, 'Louisiana Hot Spiced Okra', 2, 2, '24 - 8 oz jars', 17),\n",
       " (67, 'Laughing Lumberjack Lager', 16, 1, '24 - 12 oz bottles', 14),\n",
       " (70, 'Outback Lager', 7, 1, '24 - 355 ml bottles', 15),\n",
       " (72, 'Mozzarella di Giovanni', 14, 4, '24 - 200 g pkgs.', 34),\n",
       " (73, 'Röd Kaviar', 17, 8, '24 - 150 g jars', 15),\n",
       " (74, 'Longlife Tofu', 4, 7, '5 kg pkg.', 10),\n",
       " (75, 'Rhönbräu Klosterbier', 12, 1, '24 - 0.5 l bottles', 27),\n",
       " (76, 'Lakkalikööri', 23, 1, '500 ml', 18),\n",
       " (77, 'Original Frankfurter grüne Soße', 12, 2, '12 boxes', 13)]"
      ]
     },
     "execution_count": 12,
     "metadata": {},
     "output_type": "execute_result"
    }
   ],
   "source": [
    "%%sql\n",
    "SELECT * FROM Products WHERE ProductName BETWEEN 'Inlagd Sill' AND 'Röd Kaviar';"
   ]
  },
  {
   "cell_type": "markdown",
   "id": "23f9b223-f16e-4134-8219-56d5dd332587",
   "metadata": {},
   "source": [
    "## Aggregation Functions : Fundamental Statistical Processes"
   ]
  },
  {
   "cell_type": "code",
   "execution_count": 13,
   "id": "68618ab2-cfc3-42a2-99ec-4d541585d40d",
   "metadata": {},
   "outputs": [
    {
     "name": "stdout",
     "output_type": "stream",
     "text": [
      " * sqlite:///learnsql.db\n",
      "Done.\n"
     ]
    },
    {
     "data": {
      "text/html": [
       "<table>\n",
       "    <thead>\n",
       "        <tr>\n",
       "            <th>ProductID</th>\n",
       "            <th>ProductName</th>\n",
       "            <th>SupplierID</th>\n",
       "            <th>CategoryID</th>\n",
       "            <th>Unit</th>\n",
       "            <th>Price</th>\n",
       "        </tr>\n",
       "    </thead>\n",
       "    <tbody>\n",
       "        <tr>\n",
       "            <td>1</td>\n",
       "            <td>Chais</td>\n",
       "            <td>1</td>\n",
       "            <td>1</td>\n",
       "            <td>10 boxes x 20 bags</td>\n",
       "            <td>18</td>\n",
       "        </tr>\n",
       "        <tr>\n",
       "            <td>2</td>\n",
       "            <td>Chang</td>\n",
       "            <td>1</td>\n",
       "            <td>1</td>\n",
       "            <td>24 - 12 oz bottles</td>\n",
       "            <td>19</td>\n",
       "        </tr>\n",
       "        <tr>\n",
       "            <td>3</td>\n",
       "            <td>Aniseed Syrup</td>\n",
       "            <td>1</td>\n",
       "            <td>2</td>\n",
       "            <td>12 - 550 ml bottles</td>\n",
       "            <td>10</td>\n",
       "        </tr>\n",
       "        <tr>\n",
       "            <td>4</td>\n",
       "            <td>Chef Anton&#x27;s Cajun Seasoning</td>\n",
       "            <td>2</td>\n",
       "            <td>2</td>\n",
       "            <td>48 - 6 oz jars</td>\n",
       "            <td>22</td>\n",
       "        </tr>\n",
       "        <tr>\n",
       "            <td>5</td>\n",
       "            <td>Chef Anton&#x27;s Gumbo Mix</td>\n",
       "            <td>2</td>\n",
       "            <td>2</td>\n",
       "            <td>36 boxes</td>\n",
       "            <td>21</td>\n",
       "        </tr>\n",
       "        <tr>\n",
       "            <td>6</td>\n",
       "            <td>Grandma&#x27;s Boysenberry Spread</td>\n",
       "            <td>3</td>\n",
       "            <td>2</td>\n",
       "            <td>12 - 8 oz jars</td>\n",
       "            <td>25</td>\n",
       "        </tr>\n",
       "        <tr>\n",
       "            <td>7</td>\n",
       "            <td>Uncle Bob&#x27;s Organic Dried Pears</td>\n",
       "            <td>3</td>\n",
       "            <td>7</td>\n",
       "            <td>12 - 1 lb pkgs.</td>\n",
       "            <td>30</td>\n",
       "        </tr>\n",
       "        <tr>\n",
       "            <td>8</td>\n",
       "            <td>Northwoods Cranberry Sauce</td>\n",
       "            <td>3</td>\n",
       "            <td>2</td>\n",
       "            <td>12 - 12 oz jars</td>\n",
       "            <td>40</td>\n",
       "        </tr>\n",
       "        <tr>\n",
       "            <td>9</td>\n",
       "            <td>Mishi Kobe Niku</td>\n",
       "            <td>4</td>\n",
       "            <td>6</td>\n",
       "            <td>18 - 500 g pkgs.</td>\n",
       "            <td>97</td>\n",
       "        </tr>\n",
       "        <tr>\n",
       "            <td>10</td>\n",
       "            <td>Ikura</td>\n",
       "            <td>4</td>\n",
       "            <td>8</td>\n",
       "            <td>12 - 200 ml jars</td>\n",
       "            <td>31</td>\n",
       "        </tr>\n",
       "    </tbody>\n",
       "</table>"
      ],
      "text/plain": [
       "[(1, 'Chais', 1, 1, '10 boxes x 20 bags', 18),\n",
       " (2, 'Chang', 1, 1, '24 - 12 oz bottles', 19),\n",
       " (3, 'Aniseed Syrup', 1, 2, '12 - 550 ml bottles', 10),\n",
       " (4, \"Chef Anton's Cajun Seasoning\", 2, 2, '48 - 6 oz jars', 22),\n",
       " (5, \"Chef Anton's Gumbo Mix\", 2, 2, '36 boxes', 21),\n",
       " (6, \"Grandma's Boysenberry Spread\", 3, 2, '12 - 8 oz jars', 25),\n",
       " (7, \"Uncle Bob's Organic Dried Pears\", 3, 7, '12 - 1 lb pkgs.', 30),\n",
       " (8, 'Northwoods Cranberry Sauce', 3, 2, '12 - 12 oz jars', 40),\n",
       " (9, 'Mishi Kobe Niku', 4, 6, '18 - 500 g pkgs.', 97),\n",
       " (10, 'Ikura', 4, 8, '12 - 200 ml jars', 31)]"
      ]
     },
     "execution_count": 13,
     "metadata": {},
     "output_type": "execute_result"
    }
   ],
   "source": [
    "%%sql\n",
    "SELECT * FROM Products LIMIT 10;"
   ]
  },
  {
   "cell_type": "code",
   "execution_count": 14,
   "id": "ccef6484-474d-446f-b679-8ee4b46deb1b",
   "metadata": {},
   "outputs": [
    {
     "name": "stdout",
     "output_type": "stream",
     "text": [
      " * sqlite:///learnsql.db\n",
      "Done.\n"
     ]
    },
    {
     "data": {
      "text/html": [
       "<table>\n",
       "    <thead>\n",
       "        <tr>\n",
       "            <th>MIN(Price)</th>\n",
       "        </tr>\n",
       "    </thead>\n",
       "    <tbody>\n",
       "        <tr>\n",
       "            <td>6</td>\n",
       "        </tr>\n",
       "    </tbody>\n",
       "</table>"
      ],
      "text/plain": [
       "[(6,)]"
      ]
     },
     "execution_count": 14,
     "metadata": {},
     "output_type": "execute_result"
    }
   ],
   "source": [
    "%%sql\n",
    "SELECT MIN(Price) FROM Products;"
   ]
  },
  {
   "cell_type": "code",
   "execution_count": 15,
   "id": "1841a845-58db-4218-9d0e-5987b9566e6d",
   "metadata": {},
   "outputs": [
    {
     "name": "stdout",
     "output_type": "stream",
     "text": [
      " * sqlite:///learnsql.db\n",
      "Done.\n"
     ]
    },
    {
     "data": {
      "text/html": [
       "<table>\n",
       "    <thead>\n",
       "        <tr>\n",
       "            <th>MAX(Price)</th>\n",
       "        </tr>\n",
       "    </thead>\n",
       "    <tbody>\n",
       "        <tr>\n",
       "            <td>435</td>\n",
       "        </tr>\n",
       "    </tbody>\n",
       "</table>"
      ],
      "text/plain": [
       "[(435,)]"
      ]
     },
     "execution_count": 15,
     "metadata": {},
     "output_type": "execute_result"
    }
   ],
   "source": [
    "%%sql\n",
    "SELECT MAX(Price) FROM Products;"
   ]
  },
  {
   "cell_type": "code",
   "execution_count": 19,
   "id": "ccb8ec9a-5dda-4866-876a-23fa4e00974d",
   "metadata": {},
   "outputs": [
    {
     "name": "stdout",
     "output_type": "stream",
     "text": [
      " * sqlite:///learnsql.db\n",
      "Done.\n"
     ]
    },
    {
     "data": {
      "text/html": [
       "<table>\n",
       "    <thead>\n",
       "        <tr>\n",
       "            <th>min_price</th>\n",
       "            <th>max_price</th>\n",
       "        </tr>\n",
       "    </thead>\n",
       "    <tbody>\n",
       "        <tr>\n",
       "            <td>6</td>\n",
       "            <td>435</td>\n",
       "        </tr>\n",
       "    </tbody>\n",
       "</table>"
      ],
      "text/plain": [
       "[(6, 435)]"
      ]
     },
     "execution_count": 19,
     "metadata": {},
     "output_type": "execute_result"
    }
   ],
   "source": [
    "%%sql\n",
    "SELECT MIN(Price) AS min_price,MAX(Price) AS max_price FROM Products;"
   ]
  },
  {
   "cell_type": "code",
   "execution_count": 20,
   "id": "d6050062-4938-464a-9d8a-763a2fa1b813",
   "metadata": {},
   "outputs": [
    {
     "name": "stdout",
     "output_type": "stream",
     "text": [
      " * sqlite:///learnsql.db\n",
      "Done.\n"
     ]
    },
    {
     "data": {
      "text/html": [
       "<table>\n",
       "    <thead>\n",
       "        <tr>\n",
       "            <th>Avarage</th>\n",
       "        </tr>\n",
       "    </thead>\n",
       "    <tbody>\n",
       "        <tr>\n",
       "            <td>39.15584415584416</td>\n",
       "        </tr>\n",
       "    </tbody>\n",
       "</table>"
      ],
      "text/plain": [
       "[(39.15584415584416,)]"
      ]
     },
     "execution_count": 20,
     "metadata": {},
     "output_type": "execute_result"
    }
   ],
   "source": [
    "%%sql\n",
    "SELECT AVG(Price) AS Avarage FROM Products;"
   ]
  },
  {
   "cell_type": "code",
   "execution_count": 21,
   "id": "1c2ca78b-44ec-4438-8fca-c65a86a412e8",
   "metadata": {},
   "outputs": [
    {
     "name": "stdout",
     "output_type": "stream",
     "text": [
      " * sqlite:///learnsql.db\n",
      "Done.\n"
     ]
    },
    {
     "data": {
      "text/html": [
       "<table>\n",
       "    <thead>\n",
       "        <tr>\n",
       "            <th>Sum</th>\n",
       "        </tr>\n",
       "    </thead>\n",
       "    <tbody>\n",
       "        <tr>\n",
       "            <td>3015</td>\n",
       "        </tr>\n",
       "    </tbody>\n",
       "</table>"
      ],
      "text/plain": [
       "[(3015,)]"
      ]
     },
     "execution_count": 21,
     "metadata": {},
     "output_type": "execute_result"
    }
   ],
   "source": [
    "%%sql\n",
    "SELECT SUM(Price) AS Sum FROM Products;"
   ]
  },
  {
   "cell_type": "code",
   "execution_count": 23,
   "id": "6ab10d2a-4beb-4b6b-8890-525e28b54af4",
   "metadata": {},
   "outputs": [
    {
     "name": "stdout",
     "output_type": "stream",
     "text": [
      " * sqlite:///learnsql.db\n",
      "Done.\n"
     ]
    },
    {
     "data": {
      "text/html": [
       "<table>\n",
       "    <thead>\n",
       "        <tr>\n",
       "            <th>COUNT(Price)</th>\n",
       "            <th>MIN(Price)</th>\n",
       "            <th>MAX(Price)</th>\n",
       "            <th>AVG(Price)</th>\n",
       "            <th>SUM(Price)</th>\n",
       "        </tr>\n",
       "    </thead>\n",
       "    <tbody>\n",
       "        <tr>\n",
       "            <td>77</td>\n",
       "            <td>6</td>\n",
       "            <td>435</td>\n",
       "            <td>39.15584415584416</td>\n",
       "            <td>3015</td>\n",
       "        </tr>\n",
       "    </tbody>\n",
       "</table>"
      ],
      "text/plain": [
       "[(77, 6, 435, 39.15584415584416, 3015)]"
      ]
     },
     "execution_count": 23,
     "metadata": {},
     "output_type": "execute_result"
    }
   ],
   "source": [
    "%%sql\n",
    "SELECT COUNT(Price),MIN(Price),MAX(Price),AVG(Price),SUM(Price) FROM Products;"
   ]
  },
  {
   "cell_type": "code",
   "execution_count": 24,
   "id": "55fe9fc0-bf81-4397-abf6-db20ea282d5f",
   "metadata": {},
   "outputs": [
    {
     "name": "stdout",
     "output_type": "stream",
     "text": [
      " * sqlite:///learnsql.db\n",
      "Done.\n"
     ]
    },
    {
     "data": {
      "text/html": [
       "<table>\n",
       "    <thead>\n",
       "        <tr>\n",
       "            <th>COUNT(*)</th>\n",
       "            <th>MIN(Price)</th>\n",
       "            <th>MAX(Price)</th>\n",
       "            <th>AVG(Price)</th>\n",
       "            <th>SUM(Price)</th>\n",
       "        </tr>\n",
       "    </thead>\n",
       "    <tbody>\n",
       "        <tr>\n",
       "            <td>77</td>\n",
       "            <td>6</td>\n",
       "            <td>435</td>\n",
       "            <td>39.15584415584416</td>\n",
       "            <td>3015</td>\n",
       "        </tr>\n",
       "    </tbody>\n",
       "</table>"
      ],
      "text/plain": [
       "[(77, 6, 435, 39.15584415584416, 3015)]"
      ]
     },
     "execution_count": 24,
     "metadata": {},
     "output_type": "execute_result"
    }
   ],
   "source": [
    "%%sql\n",
    "SELECT COUNT(*),MIN(Price),MAX(Price),AVG(Price),SUM(Price) FROM Products;"
   ]
  },
  {
   "cell_type": "markdown",
   "id": "f711243d-004e-4c21-8744-13686530d92c",
   "metadata": {},
   "source": [
    "## GROUP BY And Aggregation Functions"
   ]
  },
  {
   "cell_type": "code",
   "execution_count": 26,
   "id": "8df69d3d-fe9b-4d93-aadf-f727cd763d43",
   "metadata": {
    "scrolled": true
   },
   "outputs": [
    {
     "name": "stdout",
     "output_type": "stream",
     "text": [
      " * sqlite:///learnsql.db\n",
      "Done.\n"
     ]
    },
    {
     "data": {
      "text/html": [
       "<table>\n",
       "    <thead>\n",
       "        <tr>\n",
       "            <th>CustomerID</th>\n",
       "            <th>CustomerName</th>\n",
       "            <th>ContactName</th>\n",
       "            <th>Address</th>\n",
       "            <th>City</th>\n",
       "            <th>PostalCode</th>\n",
       "            <th>Country</th>\n",
       "        </tr>\n",
       "    </thead>\n",
       "    <tbody>\n",
       "        <tr>\n",
       "            <td>1</td>\n",
       "            <td>Alfreds Futterkiste</td>\n",
       "            <td>Maria Anders</td>\n",
       "            <td>Obere Str. 57</td>\n",
       "            <td>Berlin</td>\n",
       "            <td>12209</td>\n",
       "            <td>Germany</td>\n",
       "        </tr>\n",
       "        <tr>\n",
       "            <td>2</td>\n",
       "            <td>Ana Trujillo Emparedados y helados</td>\n",
       "            <td>Ana Trujillo</td>\n",
       "            <td>Avda. de la Constitución 2222</td>\n",
       "            <td>México D.F.</td>\n",
       "            <td>5021</td>\n",
       "            <td>Mexico</td>\n",
       "        </tr>\n",
       "        <tr>\n",
       "            <td>3</td>\n",
       "            <td>Antonio Moreno Taquería</td>\n",
       "            <td>Antonio Moreno</td>\n",
       "            <td>Mataderos 2312</td>\n",
       "            <td>México D.F.</td>\n",
       "            <td>5023</td>\n",
       "            <td>Mexico</td>\n",
       "        </tr>\n",
       "        <tr>\n",
       "            <td>4</td>\n",
       "            <td>Around the Horn</td>\n",
       "            <td>Thomas Hardy</td>\n",
       "            <td>120 Hanover Sq.</td>\n",
       "            <td>London</td>\n",
       "            <td>WA1 1DP</td>\n",
       "            <td>UK</td>\n",
       "        </tr>\n",
       "        <tr>\n",
       "            <td>5</td>\n",
       "            <td>Berglunds snabbköp</td>\n",
       "            <td>Christina Berglund</td>\n",
       "            <td>Berguvsvägen 8</td>\n",
       "            <td>Luleå</td>\n",
       "            <td>S-958 22</td>\n",
       "            <td>Sweden</td>\n",
       "        </tr>\n",
       "    </tbody>\n",
       "</table>"
      ],
      "text/plain": [
       "[(1, 'Alfreds Futterkiste', 'Maria Anders', 'Obere Str. 57', 'Berlin', '12209', 'Germany'),\n",
       " (2, 'Ana Trujillo Emparedados y helados', 'Ana Trujillo', 'Avda. de la Constitución 2222', 'México D.F.', '5021', 'Mexico'),\n",
       " (3, 'Antonio Moreno Taquería', 'Antonio Moreno', 'Mataderos 2312', 'México D.F.', '5023', 'Mexico'),\n",
       " (4, 'Around the Horn', 'Thomas Hardy', '120 Hanover Sq.', 'London', 'WA1 1DP', 'UK'),\n",
       " (5, 'Berglunds snabbköp', 'Christina Berglund', 'Berguvsvägen 8', 'Luleå', 'S-958 22', 'Sweden')]"
      ]
     },
     "execution_count": 26,
     "metadata": {},
     "output_type": "execute_result"
    }
   ],
   "source": [
    "%%sql\n",
    "SELECT * FROM Customers LIMIT 5;"
   ]
  },
  {
   "cell_type": "code",
   "execution_count": 29,
   "id": "fcd6d504-0aa9-49fe-9986-f0e7ef340548",
   "metadata": {},
   "outputs": [
    {
     "name": "stdout",
     "output_type": "stream",
     "text": [
      " * sqlite:///learnsql.db\n",
      "Done.\n"
     ]
    },
    {
     "data": {
      "text/html": [
       "<table>\n",
       "    <thead>\n",
       "        <tr>\n",
       "            <th>Customer_Number</th>\n",
       "            <th>Country</th>\n",
       "        </tr>\n",
       "    </thead>\n",
       "    <tbody>\n",
       "        <tr>\n",
       "            <td>13</td>\n",
       "            <td>USA</td>\n",
       "        </tr>\n",
       "        <tr>\n",
       "            <td>11</td>\n",
       "            <td>Germany</td>\n",
       "        </tr>\n",
       "        <tr>\n",
       "            <td>11</td>\n",
       "            <td>France</td>\n",
       "        </tr>\n",
       "        <tr>\n",
       "            <td>9</td>\n",
       "            <td>Brazil</td>\n",
       "        </tr>\n",
       "        <tr>\n",
       "            <td>7</td>\n",
       "            <td>UK</td>\n",
       "        </tr>\n",
       "        <tr>\n",
       "            <td>5</td>\n",
       "            <td>Spain</td>\n",
       "        </tr>\n",
       "        <tr>\n",
       "            <td>5</td>\n",
       "            <td>Mexico</td>\n",
       "        </tr>\n",
       "        <tr>\n",
       "            <td>4</td>\n",
       "            <td>Venezuela</td>\n",
       "        </tr>\n",
       "        <tr>\n",
       "            <td>3</td>\n",
       "            <td>Italy</td>\n",
       "        </tr>\n",
       "        <tr>\n",
       "            <td>3</td>\n",
       "            <td>Canada</td>\n",
       "        </tr>\n",
       "        <tr>\n",
       "            <td>3</td>\n",
       "            <td>Argentina</td>\n",
       "        </tr>\n",
       "        <tr>\n",
       "            <td>2</td>\n",
       "            <td>Switzerland</td>\n",
       "        </tr>\n",
       "        <tr>\n",
       "            <td>2</td>\n",
       "            <td>Sweden</td>\n",
       "        </tr>\n",
       "        <tr>\n",
       "            <td>2</td>\n",
       "            <td>Portugal</td>\n",
       "        </tr>\n",
       "        <tr>\n",
       "            <td>2</td>\n",
       "            <td>Finland</td>\n",
       "        </tr>\n",
       "        <tr>\n",
       "            <td>2</td>\n",
       "            <td>Denmark</td>\n",
       "        </tr>\n",
       "        <tr>\n",
       "            <td>2</td>\n",
       "            <td>Belgium</td>\n",
       "        </tr>\n",
       "        <tr>\n",
       "            <td>2</td>\n",
       "            <td>Austria</td>\n",
       "        </tr>\n",
       "        <tr>\n",
       "            <td>1</td>\n",
       "            <td>Poland</td>\n",
       "        </tr>\n",
       "        <tr>\n",
       "            <td>1</td>\n",
       "            <td>Norway</td>\n",
       "        </tr>\n",
       "        <tr>\n",
       "            <td>1</td>\n",
       "            <td>Ireland</td>\n",
       "        </tr>\n",
       "    </tbody>\n",
       "</table>"
      ],
      "text/plain": [
       "[(13, 'USA'),\n",
       " (11, 'Germany'),\n",
       " (11, 'France'),\n",
       " (9, 'Brazil'),\n",
       " (7, 'UK'),\n",
       " (5, 'Spain'),\n",
       " (5, 'Mexico'),\n",
       " (4, 'Venezuela'),\n",
       " (3, 'Italy'),\n",
       " (3, 'Canada'),\n",
       " (3, 'Argentina'),\n",
       " (2, 'Switzerland'),\n",
       " (2, 'Sweden'),\n",
       " (2, 'Portugal'),\n",
       " (2, 'Finland'),\n",
       " (2, 'Denmark'),\n",
       " (2, 'Belgium'),\n",
       " (2, 'Austria'),\n",
       " (1, 'Poland'),\n",
       " (1, 'Norway'),\n",
       " (1, 'Ireland')]"
      ]
     },
     "execution_count": 29,
     "metadata": {},
     "output_type": "execute_result"
    }
   ],
   "source": [
    "%%sql\n",
    "SELECT COUNT(CustomerID) AS Customer_Number,Country FROM Customers GROUP BY(Country) ORDER BY Customer_Number DESC;"
   ]
  },
  {
   "cell_type": "code",
   "execution_count": 30,
   "id": "96812628-7c63-4862-a4a8-fc4d5fe7bc3e",
   "metadata": {},
   "outputs": [
    {
     "name": "stdout",
     "output_type": "stream",
     "text": [
      " * sqlite:///learnsql.db\n",
      "Done.\n"
     ]
    },
    {
     "data": {
      "text/html": [
       "<table>\n",
       "    <thead>\n",
       "        <tr>\n",
       "            <th>ProductID</th>\n",
       "            <th>ProductName</th>\n",
       "            <th>SupplierID</th>\n",
       "            <th>CategoryID</th>\n",
       "            <th>Unit</th>\n",
       "            <th>Price</th>\n",
       "        </tr>\n",
       "    </thead>\n",
       "    <tbody>\n",
       "        <tr>\n",
       "            <td>1</td>\n",
       "            <td>Chais</td>\n",
       "            <td>1</td>\n",
       "            <td>1</td>\n",
       "            <td>10 boxes x 20 bags</td>\n",
       "            <td>18</td>\n",
       "        </tr>\n",
       "        <tr>\n",
       "            <td>2</td>\n",
       "            <td>Chang</td>\n",
       "            <td>1</td>\n",
       "            <td>1</td>\n",
       "            <td>24 - 12 oz bottles</td>\n",
       "            <td>19</td>\n",
       "        </tr>\n",
       "        <tr>\n",
       "            <td>3</td>\n",
       "            <td>Aniseed Syrup</td>\n",
       "            <td>1</td>\n",
       "            <td>2</td>\n",
       "            <td>12 - 550 ml bottles</td>\n",
       "            <td>10</td>\n",
       "        </tr>\n",
       "        <tr>\n",
       "            <td>4</td>\n",
       "            <td>Chef Anton&#x27;s Cajun Seasoning</td>\n",
       "            <td>2</td>\n",
       "            <td>2</td>\n",
       "            <td>48 - 6 oz jars</td>\n",
       "            <td>22</td>\n",
       "        </tr>\n",
       "    </tbody>\n",
       "</table>"
      ],
      "text/plain": [
       "[(1, 'Chais', 1, 1, '10 boxes x 20 bags', 18),\n",
       " (2, 'Chang', 1, 1, '24 - 12 oz bottles', 19),\n",
       " (3, 'Aniseed Syrup', 1, 2, '12 - 550 ml bottles', 10),\n",
       " (4, \"Chef Anton's Cajun Seasoning\", 2, 2, '48 - 6 oz jars', 22)]"
      ]
     },
     "execution_count": 30,
     "metadata": {},
     "output_type": "execute_result"
    }
   ],
   "source": [
    "%%sql\n",
    "SELECT * FROM Products LIMIT 4;"
   ]
  },
  {
   "cell_type": "code",
   "execution_count": 32,
   "id": "a2247f3d-3b59-4cbf-8aeb-1b5064314f83",
   "metadata": {},
   "outputs": [
    {
     "name": "stdout",
     "output_type": "stream",
     "text": [
      " * sqlite:///learnsql.db\n",
      "Done.\n"
     ]
    },
    {
     "data": {
      "text/html": [
       "<table>\n",
       "    <thead>\n",
       "        <tr>\n",
       "            <th>AVG(Price)</th>\n",
       "            <th>CategoryID</th>\n",
       "        </tr>\n",
       "    </thead>\n",
       "    <tbody>\n",
       "        <tr>\n",
       "            <td>42.75</td>\n",
       "            <td>1</td>\n",
       "        </tr>\n",
       "        <tr>\n",
       "            <td>28.25</td>\n",
       "            <td>2</td>\n",
       "        </tr>\n",
       "        <tr>\n",
       "            <td>33.76923076923077</td>\n",
       "            <td>3</td>\n",
       "        </tr>\n",
       "        <tr>\n",
       "            <td>74.9</td>\n",
       "            <td>4</td>\n",
       "        </tr>\n",
       "        <tr>\n",
       "            <td>23.571428571428573</td>\n",
       "            <td>5</td>\n",
       "        </tr>\n",
       "        <tr>\n",
       "            <td>55.166666666666664</td>\n",
       "            <td>6</td>\n",
       "        </tr>\n",
       "        <tr>\n",
       "            <td>32.2</td>\n",
       "            <td>7</td>\n",
       "        </tr>\n",
       "        <tr>\n",
       "            <td>26.5</td>\n",
       "            <td>8</td>\n",
       "        </tr>\n",
       "    </tbody>\n",
       "</table>"
      ],
      "text/plain": [
       "[(42.75, 1),\n",
       " (28.25, 2),\n",
       " (33.76923076923077, 3),\n",
       " (74.9, 4),\n",
       " (23.571428571428573, 5),\n",
       " (55.166666666666664, 6),\n",
       " (32.2, 7),\n",
       " (26.5, 8)]"
      ]
     },
     "execution_count": 32,
     "metadata": {},
     "output_type": "execute_result"
    }
   ],
   "source": [
    "%%sql\n",
    "SELECT AVG(Price),CategoryID FROM Products GROUP BY(CategoryID);"
   ]
  },
  {
   "cell_type": "code",
   "execution_count": null,
   "id": "5e09302b-5a40-45bb-a263-00a2a68f9edb",
   "metadata": {},
   "outputs": [],
   "source": []
  }
 ],
 "metadata": {
  "kernelspec": {
   "display_name": "Python 3 (ipykernel)",
   "language": "python",
   "name": "python3"
  },
  "language_info": {
   "codemirror_mode": {
    "name": "ipython",
    "version": 3
   },
   "file_extension": ".py",
   "mimetype": "text/x-python",
   "name": "python",
   "nbconvert_exporter": "python",
   "pygments_lexer": "ipython3",
   "version": "3.11.7"
  }
 },
 "nbformat": 4,
 "nbformat_minor": 5
}
