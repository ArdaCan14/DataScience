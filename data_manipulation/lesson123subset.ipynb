{
 "cells": [
  {
   "cell_type": "code",
   "execution_count": 1,
   "id": "db2da925-4b25-410e-9960-0bed4ca935e5",
   "metadata": {},
   "outputs": [],
   "source": [
    "import numpy as np"
   ]
  },
  {
   "cell_type": "code",
   "execution_count": 2,
   "id": "fb75d5c2-bffb-4734-9d9a-046b8e7bc260",
   "metadata": {},
   "outputs": [
    {
     "data": {
      "text/plain": [
       "array([20, 21, 22, 23, 24, 25, 26, 27, 28, 29])"
      ]
     },
     "execution_count": 2,
     "metadata": {},
     "output_type": "execute_result"
    }
   ],
   "source": [
    "a = np.arange(20,30)\n",
    "a"
   ]
  },
  {
   "cell_type": "code",
   "execution_count": 3,
   "id": "0fcd6cb3-8fbc-4ced-9dab-44351c93dc1e",
   "metadata": {},
   "outputs": [
    {
     "data": {
      "text/plain": [
       "array([20, 21, 22])"
      ]
     },
     "execution_count": 3,
     "metadata": {},
     "output_type": "execute_result"
    }
   ],
   "source": [
    "a[0:3]"
   ]
  },
  {
   "cell_type": "code",
   "execution_count": 4,
   "id": "a1cb5805-fa38-41e0-93c8-b57888dcd64e",
   "metadata": {},
   "outputs": [
    {
     "data": {
      "text/plain": [
       "array([23, 24, 25, 26, 27, 28, 29])"
      ]
     },
     "execution_count": 4,
     "metadata": {},
     "output_type": "execute_result"
    }
   ],
   "source": [
    "a[3:]"
   ]
  },
  {
   "cell_type": "code",
   "execution_count": 5,
   "id": "88b9d601-7610-4720-9ddd-45792f552998",
   "metadata": {},
   "outputs": [
    {
     "data": {
      "text/plain": [
       "array([21, 23, 25, 27, 29])"
      ]
     },
     "execution_count": 5,
     "metadata": {},
     "output_type": "execute_result"
    }
   ],
   "source": [
    "a[1::2]"
   ]
  },
  {
   "cell_type": "code",
   "execution_count": 6,
   "id": "0f0f112e-63ec-4120-ac8d-cf285190eda1",
   "metadata": {},
   "outputs": [],
   "source": [
    "#slice process in two dimention"
   ]
  },
  {
   "cell_type": "code",
   "execution_count": 7,
   "id": "1e3be9ca-f480-431f-aa5d-e2110f141095",
   "metadata": {},
   "outputs": [],
   "source": [
    "m = np.random.randint(10,size = (5,5))"
   ]
  },
  {
   "cell_type": "code",
   "execution_count": 8,
   "id": "9e97fb64-5a6d-46f1-9eba-41c1bed58531",
   "metadata": {},
   "outputs": [
    {
     "data": {
      "text/plain": [
       "array([[5, 7, 3, 5, 0],\n",
       "       [6, 9, 2, 5, 0],\n",
       "       [3, 8, 6, 8, 7],\n",
       "       [8, 5, 5, 4, 2],\n",
       "       [5, 2, 4, 4, 6]])"
      ]
     },
     "execution_count": 8,
     "metadata": {},
     "output_type": "execute_result"
    }
   ],
   "source": [
    "m"
   ]
  },
  {
   "cell_type": "code",
   "execution_count": 10,
   "id": "c77143cb-a914-4abd-b4b9-9eba0f4ff4e4",
   "metadata": {},
   "outputs": [
    {
     "data": {
      "text/plain": [
       "array([5, 6, 3, 8, 5])"
      ]
     },
     "execution_count": 10,
     "metadata": {},
     "output_type": "execute_result"
    }
   ],
   "source": [
    "m[:,0]"
   ]
  },
  {
   "cell_type": "code",
   "execution_count": 11,
   "id": "668110ac-06a1-4d79-9d8c-d15223497a07",
   "metadata": {},
   "outputs": [
    {
     "data": {
      "text/plain": [
       "array([8, 5, 5, 4, 2])"
      ]
     },
     "execution_count": 11,
     "metadata": {},
     "output_type": "execute_result"
    }
   ],
   "source": [
    "m[3,:]"
   ]
  },
  {
   "cell_type": "code",
   "execution_count": 13,
   "id": "85a1958e-ffe7-4cfd-b86e-37fa62a49863",
   "metadata": {},
   "outputs": [
    {
     "data": {
      "text/plain": [
       "array([[5, 7, 3, 5],\n",
       "       [6, 9, 2, 5],\n",
       "       [3, 8, 6, 8]])"
      ]
     },
     "execution_count": 13,
     "metadata": {},
     "output_type": "execute_result"
    }
   ],
   "source": [
    "m[0:3,0:4]"
   ]
  },
  {
   "cell_type": "code",
   "execution_count": 14,
   "id": "bf1b22e4-9dda-4ce5-bfe8-f8567f5a37c4",
   "metadata": {},
   "outputs": [
    {
     "data": {
      "text/plain": [
       "array([[5, 7],\n",
       "       [6, 9],\n",
       "       [3, 8],\n",
       "       [8, 5],\n",
       "       [5, 2]])"
      ]
     },
     "execution_count": 14,
     "metadata": {},
     "output_type": "execute_result"
    }
   ],
   "source": [
    "m[::,:2]"
   ]
  },
  {
   "cell_type": "code",
   "execution_count": 3,
   "id": "f2586f54-eb5d-469e-8e67-3aba206f884b",
   "metadata": {},
   "outputs": [],
   "source": [
    "import numpy as np\n",
    "a = np.random.randint(10,size = (5,5))"
   ]
  },
  {
   "cell_type": "code",
   "execution_count": 4,
   "id": "85992379-5331-4173-9a35-15865e7c5b9c",
   "metadata": {},
   "outputs": [
    {
     "data": {
      "text/plain": [
       "array([[0, 0, 1, 0, 9],\n",
       "       [6, 0, 7, 2, 5],\n",
       "       [3, 5, 7, 7, 3],\n",
       "       [4, 1, 8, 2, 2],\n",
       "       [8, 2, 1, 7, 7]])"
      ]
     },
     "execution_count": 4,
     "metadata": {},
     "output_type": "execute_result"
    }
   ],
   "source": [
    "a"
   ]
  },
  {
   "cell_type": "code",
   "execution_count": 6,
   "id": "7ce2a5a9-51df-404e-bc63-f37c4ce70c9e",
   "metadata": {},
   "outputs": [],
   "source": [
    "alt_a = a[:3,:2]"
   ]
  },
  {
   "cell_type": "code",
   "execution_count": 7,
   "id": "6b655385-cc43-4db9-a2b3-31249df9b31a",
   "metadata": {},
   "outputs": [
    {
     "data": {
      "text/plain": [
       "array([[0, 0],\n",
       "       [6, 0],\n",
       "       [3, 5]])"
      ]
     },
     "execution_count": 7,
     "metadata": {},
     "output_type": "execute_result"
    }
   ],
   "source": [
    "alt_a"
   ]
  },
  {
   "cell_type": "code",
   "execution_count": 8,
   "id": "3ef284da-8637-4d48-ac30-9868ae1f2662",
   "metadata": {},
   "outputs": [],
   "source": [
    "alt_a[0,0] = 9999\n",
    "alt_a[1,1] = 8888"
   ]
  },
  {
   "cell_type": "code",
   "execution_count": 9,
   "id": "a7b2eaa0-852d-4a84-ab2b-3c251b8f1aab",
   "metadata": {},
   "outputs": [
    {
     "data": {
      "text/plain": [
       "array([[9999,    0],\n",
       "       [   6, 8888],\n",
       "       [   3,    5]])"
      ]
     },
     "execution_count": 9,
     "metadata": {},
     "output_type": "execute_result"
    }
   ],
   "source": [
    "alt_a"
   ]
  },
  {
   "cell_type": "code",
   "execution_count": 10,
   "id": "e4180309-9efa-43f5-9f8b-a86fff853368",
   "metadata": {},
   "outputs": [
    {
     "data": {
      "text/plain": [
       "array([[9999,    0,    1,    0,    9],\n",
       "       [   6, 8888,    7,    2,    5],\n",
       "       [   3,    5,    7,    7,    3],\n",
       "       [   4,    1,    8,    2,    2],\n",
       "       [   8,    2,    1,    7,    7]])"
      ]
     },
     "execution_count": 10,
     "metadata": {},
     "output_type": "execute_result"
    }
   ],
   "source": [
    "a"
   ]
  },
  {
   "cell_type": "code",
   "execution_count": null,
   "id": "9bdb4716-2393-46d2-9296-8461a1fceae5",
   "metadata": {},
   "outputs": [],
   "source": [
    "alt_b = "
   ]
  },
  {
   "cell_type": "code",
   "execution_count": null,
   "id": "185d3bb6-c61d-4962-a4e8-59826175795f",
   "metadata": {},
   "outputs": [],
   "source": []
  },
  {
   "cell_type": "code",
   "execution_count": null,
   "id": "598c9cd3-7a8a-48b2-8d90-f7412c3a574c",
   "metadata": {},
   "outputs": [],
   "source": []
  },
  {
   "cell_type": "code",
   "execution_count": null,
   "id": "980f0c0d-c6bd-49b5-8e9f-90bb2ef0dea4",
   "metadata": {},
   "outputs": [],
   "source": []
  }
 ],
 "metadata": {
  "kernelspec": {
   "display_name": "Python 3",
   "language": "python",
   "name": "python3"
  },
  "language_info": {
   "codemirror_mode": {
    "name": "ipython",
    "version": 3
   },
   "file_extension": ".py",
   "mimetype": "text/x-python",
   "name": "python",
   "nbconvert_exporter": "python",
   "pygments_lexer": "ipython3",
   "version": "3.8.8"
  }
 },
 "nbformat": 4,
 "nbformat_minor": 5
}
