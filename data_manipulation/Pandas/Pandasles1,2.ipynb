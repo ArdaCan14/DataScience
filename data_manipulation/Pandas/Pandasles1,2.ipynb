{
 "cells": [
  {
   "cell_type": "code",
   "execution_count": 1,
   "id": "2ee3ba82-7c1b-4a6a-b4ae-f0c1395506f1",
   "metadata": {},
   "outputs": [],
   "source": [
    "import numpy as np\n",
    "import pandas as pd"
   ]
  },
  {
   "cell_type": "code",
   "execution_count": 3,
   "id": "9d631f92-d701-4cbc-bf40-c9fb64f6bd71",
   "metadata": {},
   "outputs": [],
   "source": [
    "serie = pd.Series([1,2,3,4,5])"
   ]
  },
  {
   "cell_type": "code",
   "execution_count": 4,
   "id": "aa4eb1c0-ee15-4bf1-8f18-eb58b1d19e3e",
   "metadata": {},
   "outputs": [
    {
     "data": {
      "text/plain": [
       "pandas.core.series.Series"
      ]
     },
     "execution_count": 4,
     "metadata": {},
     "output_type": "execute_result"
    }
   ],
   "source": [
    "type(serie)"
   ]
  },
  {
   "cell_type": "code",
   "execution_count": 7,
   "id": "8201555b-c4bc-4674-bcf3-9ad34eccc427",
   "metadata": {},
   "outputs": [
    {
     "data": {
      "text/plain": [
       "[RangeIndex(start=0, stop=5, step=1)]"
      ]
     },
     "execution_count": 7,
     "metadata": {},
     "output_type": "execute_result"
    }
   ],
   "source": [
    "serie.axes"
   ]
  },
  {
   "cell_type": "code",
   "execution_count": 8,
   "id": "f79a87fe-bff4-4497-9525-883c629e1619",
   "metadata": {},
   "outputs": [
    {
     "data": {
      "text/plain": [
       "dtype('int64')"
      ]
     },
     "execution_count": 8,
     "metadata": {},
     "output_type": "execute_result"
    }
   ],
   "source": [
    "serie.dtype"
   ]
  },
  {
   "cell_type": "code",
   "execution_count": 9,
   "id": "a6118b56-1a5b-4294-91ac-6e36c85d9455",
   "metadata": {},
   "outputs": [
    {
     "data": {
      "text/plain": [
       "5"
      ]
     },
     "execution_count": 9,
     "metadata": {},
     "output_type": "execute_result"
    }
   ],
   "source": [
    "serie.size"
   ]
  },
  {
   "cell_type": "code",
   "execution_count": 10,
   "id": "3f4be29d-11d4-46ce-8043-f3223cb350aa",
   "metadata": {},
   "outputs": [
    {
     "data": {
      "text/plain": [
       "1"
      ]
     },
     "execution_count": 10,
     "metadata": {},
     "output_type": "execute_result"
    }
   ],
   "source": [
    "serie.ndim"
   ]
  },
  {
   "cell_type": "code",
   "execution_count": 11,
   "id": "96400a9d-4e4e-4a1d-ac66-fdb653991533",
   "metadata": {},
   "outputs": [
    {
     "data": {
      "text/plain": [
       "(5,)"
      ]
     },
     "execution_count": 11,
     "metadata": {},
     "output_type": "execute_result"
    }
   ],
   "source": [
    "serie.shape"
   ]
  },
  {
   "cell_type": "code",
   "execution_count": 15,
   "id": "794b838b-5eb3-4d64-9eb2-04d68e2a715a",
   "metadata": {},
   "outputs": [
    {
     "data": {
      "text/plain": [
       "array([1, 2, 3, 4, 5], dtype=int64)"
      ]
     },
     "execution_count": 15,
     "metadata": {},
     "output_type": "execute_result"
    }
   ],
   "source": [
    "serie.values"
   ]
  },
  {
   "cell_type": "code",
   "execution_count": 16,
   "id": "8c7d3ff6-f7e3-49e0-b541-5297a4063f61",
   "metadata": {},
   "outputs": [
    {
     "data": {
      "text/plain": [
       "0    1\n",
       "1    2\n",
       "dtype: int64"
      ]
     },
     "execution_count": 16,
     "metadata": {},
     "output_type": "execute_result"
    }
   ],
   "source": [
    "serie.head(2)"
   ]
  },
  {
   "cell_type": "code",
   "execution_count": 17,
   "id": "f15e83b0-28fc-42b8-8674-19faf1d59db3",
   "metadata": {},
   "outputs": [
    {
     "data": {
      "text/plain": [
       "3    4\n",
       "4    5\n",
       "dtype: int64"
      ]
     },
     "execution_count": 17,
     "metadata": {},
     "output_type": "execute_result"
    }
   ],
   "source": [
    "serie.tail(2)"
   ]
  },
  {
   "cell_type": "code",
   "execution_count": 19,
   "id": "b0aa4bac-0fbe-4490-8905-a7372daf9a82",
   "metadata": {},
   "outputs": [
    {
     "data": {
      "text/plain": [
       "1    99\n",
       "2    22\n",
       "3    44\n",
       "4    65\n",
       "5    32\n",
       "dtype: int64"
      ]
     },
     "execution_count": 19,
     "metadata": {},
     "output_type": "execute_result"
    }
   ],
   "source": [
    "pd.Series([99,22,44,65,32],index = [1,2,3,4,5])        "
   ]
  },
  {
   "cell_type": "code",
   "execution_count": 21,
   "id": "6e81f11a-b739-4ec9-a34b-5283898c1695",
   "metadata": {},
   "outputs": [],
   "source": [
    "serie = pd.Series([99,22,44,65,32],index = [\"a\",\"b\",\"c\",\"d\",\"e\"])        "
   ]
  },
  {
   "cell_type": "code",
   "execution_count": 22,
   "id": "81ddb9ad-cc17-452d-a790-740d71b146b4",
   "metadata": {},
   "outputs": [
    {
     "data": {
      "text/plain": [
       "99"
      ]
     },
     "execution_count": 22,
     "metadata": {},
     "output_type": "execute_result"
    }
   ],
   "source": [
    "serie[\"a\"]"
   ]
  },
  {
   "cell_type": "code",
   "execution_count": 23,
   "id": "b7dc7f65-9c63-473b-8b88-89ac2d8da61d",
   "metadata": {},
   "outputs": [
    {
     "data": {
      "text/plain": [
       "a    99\n",
       "b    22\n",
       "c    44\n",
       "d    65\n",
       "dtype: int64"
      ]
     },
     "execution_count": 23,
     "metadata": {},
     "output_type": "execute_result"
    }
   ],
   "source": [
    "serie[\"a\":\"d\"]"
   ]
  },
  {
   "cell_type": "code",
   "execution_count": 24,
   "id": "c0dcf244-7051-48de-b7d2-2050c0e6a95e",
   "metadata": {},
   "outputs": [],
   "source": [
    "#Creating db by using dictinoaries"
   ]
  },
  {
   "cell_type": "code",
   "execution_count": 30,
   "id": "57732987-5a3e-42ad-ac39-2d72937bb9c2",
   "metadata": {},
   "outputs": [],
   "source": [
    "dic = {\"A\":10,\"B\":12,\"C\":21,\"D\":45}\n",
    "serie = pd.Series(dic)"
   ]
  },
  {
   "cell_type": "code",
   "execution_count": 31,
   "id": "db38e373-7e08-49be-858c-394461577063",
   "metadata": {},
   "outputs": [
    {
     "data": {
      "text/plain": [
       "{'A': 10, 'B': 12, 'C': 21, 'D': 45}"
      ]
     },
     "execution_count": 31,
     "metadata": {},
     "output_type": "execute_result"
    }
   ],
   "source": [
    "dic"
   ]
  },
  {
   "cell_type": "code",
   "execution_count": 32,
   "id": "c3db115c-2850-490d-a305-b0730548e0d1",
   "metadata": {},
   "outputs": [
    {
     "data": {
      "text/plain": [
       "A    10\n",
       "B    12\n",
       "C    21\n",
       "D    45\n",
       "dtype: int64"
      ]
     },
     "execution_count": 32,
     "metadata": {},
     "output_type": "execute_result"
    }
   ],
   "source": [
    "serie"
   ]
  },
  {
   "cell_type": "code",
   "execution_count": 33,
   "id": "8fb0ce3f-6fc9-4db0-a7b6-fb34ddd86617",
   "metadata": {},
   "outputs": [
    {
     "data": {
      "text/plain": [
       "A    10\n",
       "B    12\n",
       "C    21\n",
       "dtype: int64"
      ]
     },
     "execution_count": 33,
     "metadata": {},
     "output_type": "execute_result"
    }
   ],
   "source": [
    "serie[\"A\":\"C\"]"
   ]
  },
  {
   "cell_type": "code",
   "execution_count": 34,
   "id": "827d7683-ab28-4707-9522-6d06fda73473",
   "metadata": {},
   "outputs": [],
   "source": [
    "#Creating serie by connecting 2 series"
   ]
  },
  {
   "cell_type": "code",
   "execution_count": 35,
   "id": "3316a066-a680-4c56-9a4c-38f6adff64e5",
   "metadata": {},
   "outputs": [
    {
     "data": {
      "text/plain": [
       "A    10\n",
       "B    12\n",
       "C    21\n",
       "D    45\n",
       "A    10\n",
       "B    12\n",
       "C    21\n",
       "D    45\n",
       "dtype: int64"
      ]
     },
     "execution_count": 35,
     "metadata": {},
     "output_type": "execute_result"
    }
   ],
   "source": [
    "pd.concat([serie,serie])"
   ]
  },
  {
   "cell_type": "code",
   "execution_count": 1,
   "id": "dc44356e-caa7-4450-b793-f6e2a8730269",
   "metadata": {},
   "outputs": [],
   "source": [
    "import numpy as np\n",
    "import pandas as pd"
   ]
  },
  {
   "cell_type": "raw",
   "id": "74b43da7-e306-4784-b86b-f17263a53b87",
   "metadata": {},
   "source": [
    "a = np.array([1,66,55,32,89])\n",
    "a"
   ]
  },
  {
   "cell_type": "code",
   "execution_count": 3,
   "id": "89f455e9-bc4b-425e-b562-3102a05a6f89",
   "metadata": {},
   "outputs": [
    {
     "data": {
      "text/plain": [
       "0     1\n",
       "1    66\n",
       "2    55\n",
       "3    32\n",
       "4    89\n",
       "dtype: int32"
      ]
     },
     "execution_count": 3,
     "metadata": {},
     "output_type": "execute_result"
    }
   ],
   "source": [
    "pd.Series(a)"
   ]
  },
  {
   "cell_type": "code",
   "execution_count": 12,
   "id": "48843d95-24ad-4663-91e4-4dadf6244f23",
   "metadata": {},
   "outputs": [],
   "source": [
    "serie = pd.Series([12,563,23,58,96],index = [\"ar\",\"da\",\"can\",\"lol\",\"mc\"])"
   ]
  },
  {
   "cell_type": "code",
   "execution_count": 13,
   "id": "db80f227-2113-4a58-af1d-f58634c463bd",
   "metadata": {},
   "outputs": [
    {
     "data": {
      "text/plain": [
       "ar      12\n",
       "da     563\n",
       "can     23\n",
       "lol     58\n",
       "mc      96\n",
       "dtype: int64"
      ]
     },
     "execution_count": 13,
     "metadata": {},
     "output_type": "execute_result"
    }
   ],
   "source": [
    "serie"
   ]
  },
  {
   "cell_type": "code",
   "execution_count": 14,
   "id": "0a85c6ad-efd7-41e8-8d6c-2968495297c0",
   "metadata": {},
   "outputs": [
    {
     "data": {
      "text/plain": [
       "<bound method Series.keys of ar      12\n",
       "da     563\n",
       "can     23\n",
       "lol     58\n",
       "mc      96\n",
       "dtype: int64>"
      ]
     },
     "execution_count": 14,
     "metadata": {},
     "output_type": "execute_result"
    }
   ],
   "source": [
    "serie.keys"
   ]
  },
  {
   "cell_type": "code",
   "execution_count": 15,
   "id": "8da3f99b-d34d-4c7c-9c03-0a6b225df948",
   "metadata": {},
   "outputs": [
    {
     "data": {
      "text/plain": [
       "Index(['ar', 'da', 'can', 'lol', 'mc'], dtype='object')"
      ]
     },
     "execution_count": 15,
     "metadata": {},
     "output_type": "execute_result"
    }
   ],
   "source": [
    "serie.index"
   ]
  },
  {
   "cell_type": "code",
   "execution_count": 16,
   "id": "b27c446d-56b2-4676-b088-3dcfd3b5270c",
   "metadata": {},
   "outputs": [
    {
     "data": {
      "text/plain": [
       "[('ar', 12), ('da', 563), ('can', 23), ('lol', 58), ('mc', 96)]"
      ]
     },
     "execution_count": 16,
     "metadata": {},
     "output_type": "execute_result"
    }
   ],
   "source": [
    "list(serie.items())"
   ]
  },
  {
   "cell_type": "code",
   "execution_count": 17,
   "id": "6e33b9e8-3878-418b-86ac-cf7c0d78176c",
   "metadata": {},
   "outputs": [
    {
     "data": {
      "text/plain": [
       "array([ 12, 563,  23,  58,  96], dtype=int64)"
      ]
     },
     "execution_count": 17,
     "metadata": {},
     "output_type": "execute_result"
    }
   ],
   "source": [
    "serie.values"
   ]
  },
  {
   "cell_type": "code",
   "execution_count": 18,
   "id": "85d893f1-7250-4a84-a809-fba0d1a9e8cb",
   "metadata": {},
   "outputs": [],
   "source": [
    "#element inquiry"
   ]
  },
  {
   "cell_type": "code",
   "execution_count": 21,
   "id": "aa6edfce-66ee-47aa-aded-4bece48ca17c",
   "metadata": {},
   "outputs": [
    {
     "data": {
      "text/plain": [
       "True"
      ]
     },
     "execution_count": 21,
     "metadata": {},
     "output_type": "execute_result"
    }
   ],
   "source": [
    "\"ar\" in serie"
   ]
  },
  {
   "cell_type": "code",
   "execution_count": 22,
   "id": "127b05f4-1e90-494d-b7de-80b055352e54",
   "metadata": {},
   "outputs": [],
   "source": [
    "#fancy element"
   ]
  },
  {
   "cell_type": "code",
   "execution_count": 23,
   "id": "8f7e655c-ba16-43b6-9d42-094b7589a934",
   "metadata": {},
   "outputs": [
    {
     "data": {
      "text/plain": [
       "ar     12\n",
       "da    563\n",
       "dtype: int64"
      ]
     },
     "execution_count": 23,
     "metadata": {},
     "output_type": "execute_result"
    }
   ],
   "source": [
    "serie[[\"ar\",\"da\"]]"
   ]
  },
  {
   "cell_type": "code",
   "execution_count": 24,
   "id": "ac8cee53-e4dc-421f-b3bf-2eb295f869df",
   "metadata": {},
   "outputs": [
    {
     "data": {
      "text/plain": [
       "ar      12\n",
       "da     563\n",
       "can     23\n",
       "lol     58\n",
       "mc      96\n",
       "dtype: int64"
      ]
     },
     "execution_count": 24,
     "metadata": {},
     "output_type": "execute_result"
    }
   ],
   "source": [
    "serie[\"ar\":\"mc\"]"
   ]
  },
  {
   "cell_type": "code",
   "execution_count": null,
   "id": "80f19fc3-5ae7-4d52-869f-9536b204e091",
   "metadata": {},
   "outputs": [],
   "source": []
  }
 ],
 "metadata": {
  "kernelspec": {
   "display_name": "Python 3",
   "language": "python",
   "name": "python3"
  },
  "language_info": {
   "codemirror_mode": {
    "name": "ipython",
    "version": 3
   },
   "file_extension": ".py",
   "mimetype": "text/x-python",
   "name": "python",
   "nbconvert_exporter": "python",
   "pygments_lexer": "ipython3",
   "version": "3.8.8"
  }
 },
 "nbformat": 4,
 "nbformat_minor": 5
}
