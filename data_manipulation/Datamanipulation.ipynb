{
 "cells": [
  {
   "cell_type": "code",
   "execution_count": 1,
   "id": "6b725a04-12ad-4489-aa4c-ff917827df9a",
   "metadata": {},
   "outputs": [],
   "source": [
    "#ndim : boyut sayısı\n",
    "#shape : boyut bilgisi\n",
    "#size : toplam eleman sayısı\n",
    "#dtype : array veri bilgisi\n",
    "import numpy as np"
   ]
  },
  {
   "cell_type": "code",
   "execution_count": 23,
   "id": "17772629-341b-4d51-b63a-2e7adda04fb7",
   "metadata": {},
   "outputs": [
    {
     "data": {
      "text/plain": [
       "array([1, 2, 3, 4, 5, 6, 7, 8, 9])"
      ]
     },
     "execution_count": 23,
     "metadata": {},
     "output_type": "execute_result"
    }
   ],
   "source": [
    "np.arange(1,10)"
   ]
  },
  {
   "cell_type": "code",
   "execution_count": 24,
   "id": "1f56c01e-7766-493a-ac13-4365261ed138",
   "metadata": {},
   "outputs": [
    {
     "data": {
      "text/plain": [
       "array([[1, 2, 3],\n",
       "       [4, 5, 6],\n",
       "       [7, 8, 9]])"
      ]
     },
     "execution_count": 24,
     "metadata": {},
     "output_type": "execute_result"
    }
   ],
   "source": [
    "np.arange(1,10).reshape((3,3))"
   ]
  },
  {
   "cell_type": "code",
   "execution_count": 25,
   "id": "e7ff0f85-6a2f-4c3f-8d69-08d9aa4f587f",
   "metadata": {},
   "outputs": [],
   "source": [
    "a = np.arange(1,10)"
   ]
  },
  {
   "cell_type": "code",
   "execution_count": 26,
   "id": "558f7b12-bf7b-4964-b58f-c465c16d1789",
   "metadata": {},
   "outputs": [
    {
     "data": {
      "text/plain": [
       "1"
      ]
     },
     "execution_count": 26,
     "metadata": {},
     "output_type": "execute_result"
    }
   ],
   "source": [
    "a.ndim"
   ]
  },
  {
   "cell_type": "code",
   "execution_count": 27,
   "id": "9ccf10ea-9ce6-49bb-891c-b5a49c34a7b0",
   "metadata": {},
   "outputs": [],
   "source": [
    "b = a.reshape((1,9))\n"
   ]
  },
  {
   "cell_type": "code",
   "execution_count": 28,
   "id": "55e72bd3-b56d-4835-a3ff-535a0ecc6db0",
   "metadata": {},
   "outputs": [
    {
     "data": {
      "text/plain": [
       "2"
      ]
     },
     "execution_count": 28,
     "metadata": {},
     "output_type": "execute_result"
    }
   ],
   "source": [
    "b.ndim"
   ]
  },
  {
   "cell_type": "code",
   "execution_count": null,
   "id": "1e84140c-b6ad-4500-a167-dd58cbf4c3ad",
   "metadata": {},
   "outputs": [],
   "source": []
  },
  {
   "cell_type": "code",
   "execution_count": null,
   "id": "28f3655d-37a9-44f3-b083-9e7f7ef20d4a",
   "metadata": {},
   "outputs": [],
   "source": []
  },
  {
   "cell_type": "code",
   "execution_count": null,
   "id": "799bc579-d7d1-48b9-b1de-e509c20feff4",
   "metadata": {},
   "outputs": [],
   "source": []
  },
  {
   "cell_type": "code",
   "execution_count": null,
   "id": "32adc041-e9d1-462c-a27c-3dac20d7e291",
   "metadata": {},
   "outputs": [],
   "source": []
  },
  {
   "cell_type": "code",
   "execution_count": null,
   "id": "8743f2a1-8828-489d-b78e-43a866b3fe52",
   "metadata": {},
   "outputs": [],
   "source": []
  },
  {
   "cell_type": "code",
   "execution_count": null,
   "id": "d06fa1c2-8689-4567-9feb-a39a981d8c53",
   "metadata": {},
   "outputs": [],
   "source": []
  },
  {
   "cell_type": "code",
   "execution_count": null,
   "id": "23b49e10-4a8d-491a-afab-f13f67b7a53d",
   "metadata": {},
   "outputs": [],
   "source": []
  },
  {
   "cell_type": "code",
   "execution_count": null,
   "id": "0fe25a2d-ebb9-430c-8c0c-30a2860d6496",
   "metadata": {},
   "outputs": [],
   "source": []
  }
 ],
 "metadata": {
  "kernelspec": {
   "display_name": "Python 3",
   "language": "python",
   "name": "python3"
  },
  "language_info": {
   "codemirror_mode": {
    "name": "ipython",
    "version": 3
   },
   "file_extension": ".py",
   "mimetype": "text/x-python",
   "name": "python",
   "nbconvert_exporter": "python",
   "pygments_lexer": "ipython3",
   "version": "3.8.8"
  }
 },
 "nbformat": 4,
 "nbformat_minor": 5
}
