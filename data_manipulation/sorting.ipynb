{
 "cells": [
  {
   "cell_type": "code",
   "execution_count": 1,
   "id": "7c4d9d88-497e-40be-96d9-919720c8f161",
   "metadata": {},
   "outputs": [],
   "source": [
    "import numpy as np"
   ]
  },
  {
   "cell_type": "code",
   "execution_count": 2,
   "id": "68c9bf38-34b7-4479-bc6b-bcad453b86ba",
   "metadata": {},
   "outputs": [],
   "source": [
    "v = np.array([2,1,4,5,3])\n"
   ]
  },
  {
   "cell_type": "code",
   "execution_count": 3,
   "id": "7f1317ea-bc3e-4c69-beda-d5f0466f1f38",
   "metadata": {},
   "outputs": [
    {
     "data": {
      "text/plain": [
       "array([1, 2, 3, 4, 5])"
      ]
     },
     "execution_count": 3,
     "metadata": {},
     "output_type": "execute_result"
    }
   ],
   "source": [
    "np.sort(v)"
   ]
  },
  {
   "cell_type": "code",
   "execution_count": 8,
   "id": "950efc75-5764-4549-893f-f34f1cc45443",
   "metadata": {},
   "outputs": [],
   "source": [
    "v.sort() #this function has deadly side effect"
   ]
  },
  {
   "cell_type": "code",
   "execution_count": 9,
   "id": "e4165c3b-df2b-45ae-83cc-c9fc68a48200",
   "metadata": {},
   "outputs": [
    {
     "data": {
      "text/plain": [
       "array([1, 2, 3, 4, 5])"
      ]
     },
     "execution_count": 9,
     "metadata": {},
     "output_type": "execute_result"
    }
   ],
   "source": [
    "v"
   ]
  },
  {
   "cell_type": "code",
   "execution_count": 10,
   "id": "3ec181cc-72a0-4414-ac38-0aa606351254",
   "metadata": {},
   "outputs": [],
   "source": [
    "#two dimention"
   ]
  },
  {
   "cell_type": "code",
   "execution_count": 14,
   "id": "b2748c10-d369-4b52-9bd8-ae448b5205bf",
   "metadata": {},
   "outputs": [],
   "source": [
    "m = np.random.normal(20,5,(3,3))"
   ]
  },
  {
   "cell_type": "code",
   "execution_count": 15,
   "id": "d05c0d4c-59de-491e-a2a3-086bac966dd6",
   "metadata": {},
   "outputs": [
    {
     "data": {
      "text/plain": [
       "array([[20.13404173, 17.40931914, 20.6352282 ],\n",
       "       [ 9.45284032, 18.07794557, 11.49686695],\n",
       "       [12.57392176, 26.05780216, 28.17387473]])"
      ]
     },
     "execution_count": 15,
     "metadata": {},
     "output_type": "execute_result"
    }
   ],
   "source": [
    "m"
   ]
  },
  {
   "cell_type": "code",
   "execution_count": 16,
   "id": "cefa8af8-6971-498f-abe9-8b073b0c3017",
   "metadata": {},
   "outputs": [
    {
     "data": {
      "text/plain": [
       "array([[17.40931914, 20.13404173, 20.6352282 ],\n",
       "       [ 9.45284032, 11.49686695, 18.07794557],\n",
       "       [12.57392176, 26.05780216, 28.17387473]])"
      ]
     },
     "execution_count": 16,
     "metadata": {},
     "output_type": "execute_result"
    }
   ],
   "source": [
    "np.sort(m,axis = 1)"
   ]
  },
  {
   "cell_type": "code",
   "execution_count": 18,
   "id": "c71c45ee-141a-46fb-b3bb-6ea2b552eb70",
   "metadata": {},
   "outputs": [
    {
     "data": {
      "text/plain": [
       "array([[ 9.45284032, 17.40931914, 11.49686695],\n",
       "       [12.57392176, 18.07794557, 20.6352282 ],\n",
       "       [20.13404173, 26.05780216, 28.17387473]])"
      ]
     },
     "execution_count": 18,
     "metadata": {},
     "output_type": "execute_result"
    }
   ],
   "source": [
    "np.sort(m,axis = 0)"
   ]
  },
  {
   "cell_type": "code",
   "execution_count": null,
   "id": "d1c63732-7508-4df8-bd2c-c6cfa0dd3533",
   "metadata": {},
   "outputs": [],
   "source": []
  },
  {
   "cell_type": "code",
   "execution_count": null,
   "id": "1ec01a95-0f1e-467d-9b7c-d00a5eff0802",
   "metadata": {},
   "outputs": [],
   "source": []
  }
 ],
 "metadata": {
  "kernelspec": {
   "display_name": "Python 3",
   "language": "python",
   "name": "python3"
  },
  "language_info": {
   "codemirror_mode": {
    "name": "ipython",
    "version": 3
   },
   "file_extension": ".py",
   "mimetype": "text/x-python",
   "name": "python",
   "nbconvert_exporter": "python",
   "pygments_lexer": "ipython3",
   "version": "3.8.8"
  }
 },
 "nbformat": 4,
 "nbformat_minor": 5
}
