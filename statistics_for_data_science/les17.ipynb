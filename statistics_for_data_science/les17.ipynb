{
 "cells": [
  {
   "cell_type": "markdown",
   "id": "c1a73901-a1c6-4791-9264-a8ace45ca771",
   "metadata": {},
   "source": [
    "Kolerasyon Analizi:Değişkenler arasındaki ilişki,bu ilişkinin yönü ve şiddeti ile ilgili bilgiler sağlayan istatistiksel bir yöntemdir.\n",
    "\n",
    "Kolerasyon anlamlılığı testi\n",
    "H0 : p = 0     H1 : p != 0"
   ]
  },
  {
   "cell_type": "markdown",
   "id": "5e1cdd70-2a5e-451f-9d39-4e3129d1e90e",
   "metadata": {},
   "source": [
    "Kolerasyon Analizi : Varsayımlar\n",
    "\n",
    "-İki değişken içinde normallik varsayımı\n",
    "\n",
    "-Varsayım sağlanıyorsa Pearson Korelasyon Katsayısı\n",
    "\n",
    "-Varsayım sağlanmıyorsa Spearman Kolerasyon Katsayısı"
   ]
  },
  {
   "cell_type": "raw",
   "id": "ee62e661-83b8-4a1d-bcd8-16a6dbdcb00b",
   "metadata": {},
   "source": [
    "İş Uygulması : Bahşiş ile ödenen hesap arasnıdaki ilişkiyi incelenmesi\n",
    "Bahşiş ile ödenene hesap arasında kolerasyon var mı?  H0 : p == 0    H1 : p != 0\n",
    "total_bill : Yemeğin toplan fiyatı(Bahşiş ve vergiler dahil)\n",
    "tip : bahşiş\n",
    "sex : ücreti ödeyen kişinin cinsiyeti(0 = male,1 = female)\n",
    "smoker : Grupta sigara içen var mı?(no = 0,yes = 1)\n",
    "day : gün(3=Thur,4=Fri,5=Sat,6=Sun)\n",
    "time : Ne zaman?(0 = Day,1 = Night)\n",
    "size = grupta kaç kişi var?"
   ]
  },
  {
   "cell_type": "code",
   "execution_count": 1,
   "id": "4d29e593-a89c-4048-80c1-f252678dd30c",
   "metadata": {},
   "outputs": [
    {
     "data": {
      "text/html": [
       "<div>\n",
       "<style scoped>\n",
       "    .dataframe tbody tr th:only-of-type {\n",
       "        vertical-align: middle;\n",
       "    }\n",
       "\n",
       "    .dataframe tbody tr th {\n",
       "        vertical-align: top;\n",
       "    }\n",
       "\n",
       "    .dataframe thead th {\n",
       "        text-align: right;\n",
       "    }\n",
       "</style>\n",
       "<table border=\"1\" class=\"dataframe\">\n",
       "  <thead>\n",
       "    <tr style=\"text-align: right;\">\n",
       "      <th></th>\n",
       "      <th>total_bill</th>\n",
       "      <th>tip</th>\n",
       "      <th>sex</th>\n",
       "      <th>smoker</th>\n",
       "      <th>day</th>\n",
       "      <th>time</th>\n",
       "      <th>size</th>\n",
       "    </tr>\n",
       "  </thead>\n",
       "  <tbody>\n",
       "    <tr>\n",
       "      <th>0</th>\n",
       "      <td>16.99</td>\n",
       "      <td>1.01</td>\n",
       "      <td>Female</td>\n",
       "      <td>No</td>\n",
       "      <td>Sun</td>\n",
       "      <td>Dinner</td>\n",
       "      <td>2</td>\n",
       "    </tr>\n",
       "    <tr>\n",
       "      <th>1</th>\n",
       "      <td>10.34</td>\n",
       "      <td>1.66</td>\n",
       "      <td>Male</td>\n",
       "      <td>No</td>\n",
       "      <td>Sun</td>\n",
       "      <td>Dinner</td>\n",
       "      <td>3</td>\n",
       "    </tr>\n",
       "    <tr>\n",
       "      <th>2</th>\n",
       "      <td>21.01</td>\n",
       "      <td>3.50</td>\n",
       "      <td>Male</td>\n",
       "      <td>No</td>\n",
       "      <td>Sun</td>\n",
       "      <td>Dinner</td>\n",
       "      <td>3</td>\n",
       "    </tr>\n",
       "    <tr>\n",
       "      <th>3</th>\n",
       "      <td>23.68</td>\n",
       "      <td>3.31</td>\n",
       "      <td>Male</td>\n",
       "      <td>No</td>\n",
       "      <td>Sun</td>\n",
       "      <td>Dinner</td>\n",
       "      <td>2</td>\n",
       "    </tr>\n",
       "    <tr>\n",
       "      <th>4</th>\n",
       "      <td>24.59</td>\n",
       "      <td>3.61</td>\n",
       "      <td>Female</td>\n",
       "      <td>No</td>\n",
       "      <td>Sun</td>\n",
       "      <td>Dinner</td>\n",
       "      <td>4</td>\n",
       "    </tr>\n",
       "  </tbody>\n",
       "</table>\n",
       "</div>"
      ],
      "text/plain": [
       "   total_bill   tip     sex smoker  day    time  size\n",
       "0       16.99  1.01  Female     No  Sun  Dinner     2\n",
       "1       10.34  1.66    Male     No  Sun  Dinner     3\n",
       "2       21.01  3.50    Male     No  Sun  Dinner     3\n",
       "3       23.68  3.31    Male     No  Sun  Dinner     2\n",
       "4       24.59  3.61  Female     No  Sun  Dinner     4"
      ]
     },
     "execution_count": 1,
     "metadata": {},
     "output_type": "execute_result"
    }
   ],
   "source": [
    "import seaborn as sns\n",
    "import pandas as pd\n",
    "tips = sns.load_dataset(\"tips\")\n",
    "df = tips.copy()\n",
    "df.head()"
   ]
  },
  {
   "cell_type": "code",
   "execution_count": 2,
   "id": "12779abd-4bbf-42fb-a3b2-3d54cde600d7",
   "metadata": {},
   "outputs": [],
   "source": [
    "df[\"total_bill\"] = df[\"total_bill\"] - df[\"tip\"]"
   ]
  },
  {
   "cell_type": "code",
   "execution_count": 3,
   "id": "33d0ba18-250a-4f20-b018-08199e3b2ce2",
   "metadata": {},
   "outputs": [
    {
     "data": {
      "text/html": [
       "<div>\n",
       "<style scoped>\n",
       "    .dataframe tbody tr th:only-of-type {\n",
       "        vertical-align: middle;\n",
       "    }\n",
       "\n",
       "    .dataframe tbody tr th {\n",
       "        vertical-align: top;\n",
       "    }\n",
       "\n",
       "    .dataframe thead th {\n",
       "        text-align: right;\n",
       "    }\n",
       "</style>\n",
       "<table border=\"1\" class=\"dataframe\">\n",
       "  <thead>\n",
       "    <tr style=\"text-align: right;\">\n",
       "      <th></th>\n",
       "      <th>total_bill</th>\n",
       "      <th>tip</th>\n",
       "      <th>sex</th>\n",
       "      <th>smoker</th>\n",
       "      <th>day</th>\n",
       "      <th>time</th>\n",
       "      <th>size</th>\n",
       "    </tr>\n",
       "  </thead>\n",
       "  <tbody>\n",
       "    <tr>\n",
       "      <th>0</th>\n",
       "      <td>15.98</td>\n",
       "      <td>1.01</td>\n",
       "      <td>Female</td>\n",
       "      <td>No</td>\n",
       "      <td>Sun</td>\n",
       "      <td>Dinner</td>\n",
       "      <td>2</td>\n",
       "    </tr>\n",
       "    <tr>\n",
       "      <th>1</th>\n",
       "      <td>8.68</td>\n",
       "      <td>1.66</td>\n",
       "      <td>Male</td>\n",
       "      <td>No</td>\n",
       "      <td>Sun</td>\n",
       "      <td>Dinner</td>\n",
       "      <td>3</td>\n",
       "    </tr>\n",
       "    <tr>\n",
       "      <th>2</th>\n",
       "      <td>17.51</td>\n",
       "      <td>3.50</td>\n",
       "      <td>Male</td>\n",
       "      <td>No</td>\n",
       "      <td>Sun</td>\n",
       "      <td>Dinner</td>\n",
       "      <td>3</td>\n",
       "    </tr>\n",
       "    <tr>\n",
       "      <th>3</th>\n",
       "      <td>20.37</td>\n",
       "      <td>3.31</td>\n",
       "      <td>Male</td>\n",
       "      <td>No</td>\n",
       "      <td>Sun</td>\n",
       "      <td>Dinner</td>\n",
       "      <td>2</td>\n",
       "    </tr>\n",
       "    <tr>\n",
       "      <th>4</th>\n",
       "      <td>20.98</td>\n",
       "      <td>3.61</td>\n",
       "      <td>Female</td>\n",
       "      <td>No</td>\n",
       "      <td>Sun</td>\n",
       "      <td>Dinner</td>\n",
       "      <td>4</td>\n",
       "    </tr>\n",
       "  </tbody>\n",
       "</table>\n",
       "</div>"
      ],
      "text/plain": [
       "   total_bill   tip     sex smoker  day    time  size\n",
       "0       15.98  1.01  Female     No  Sun  Dinner     2\n",
       "1        8.68  1.66    Male     No  Sun  Dinner     3\n",
       "2       17.51  3.50    Male     No  Sun  Dinner     3\n",
       "3       20.37  3.31    Male     No  Sun  Dinner     2\n",
       "4       20.98  3.61  Female     No  Sun  Dinner     4"
      ]
     },
     "execution_count": 3,
     "metadata": {},
     "output_type": "execute_result"
    }
   ],
   "source": [
    "df.head()"
   ]
  },
  {
   "cell_type": "code",
   "execution_count": 4,
   "id": "3890d612-0ce3-429c-9b48-a20742c12811",
   "metadata": {},
   "outputs": [
    {
     "data": {
      "image/png": "[encoded data removed]",
      "text/plain": [
       "<Figure size 432x288 with 1 Axes>"
      ]
     },
     "metadata": {
      "needs_background": "light"
     },
     "output_type": "display_data"
    }
   ],
   "source": [
    "df.plot.scatter(\"tip\",\"total_bill\");"
   ]
  },
  {
   "cell_type": "markdown",
   "id": "66fe608d-da09-4de4-985c-551842097990",
   "metadata": {},
   "source": [
    "Kolerasyon Varsayım Kontrolü"
   ]
  },
  {
   "cell_type": "code",
   "execution_count": 5,
   "id": "cfb1365c-5bd5-42ce-a6e1-a37782c99418",
   "metadata": {},
   "outputs": [],
   "source": [
    "from scipy.stats import shapiro"
   ]
  },
  {
   "cell_type": "code",
   "execution_count": 6,
   "id": "99b05652-0279-4e7c-9278-a349593b2c21",
   "metadata": {},
   "outputs": [
    {
     "data": {
      "text/plain": [
       "ShapiroResult(statistic=0.897811233997345, pvalue=8.20057563521992e-12)"
      ]
     },
     "execution_count": 6,
     "metadata": {},
     "output_type": "execute_result"
    }
   ],
   "source": [
    "shapiro(df[\"tip\"])"
   ]
  },
  {
   "cell_type": "code",
   "execution_count": 7,
   "id": "16b0234c-d492-4d29-8423-c0c8d88426a7",
   "metadata": {},
   "outputs": [
    {
     "data": {
      "text/plain": [
       "ShapiroResult(statistic=0.9135652184486389, pvalue=1.1060377613780759e-10)"
      ]
     },
     "execution_count": 7,
     "metadata": {},
     "output_type": "execute_result"
    }
   ],
   "source": [
    "shapiro(df[\"total_bill\"])"
   ]
  },
  {
   "cell_type": "markdown",
   "id": "9ee2a887-601a-4d1b-b54a-fcd6d56defe4",
   "metadata": {},
   "source": [
    "H0 reddedilir ama biz bu sağlanmış gibi devam edeceğiz sonra nonparametrik kolerasyon testi yapacağız."
   ]
  },
  {
   "cell_type": "markdown",
   "id": "96f91289-12be-4b9b-8caf-df3d6bbc9258",
   "metadata": {},
   "source": [
    "-----\n",
    "Kolerasyon Katsayısı Hiptez Testi"
   ]
  },
  {
   "cell_type": "markdown",
   "id": "52de1ef8-ff05-49e9-9666-d1f754dd2783",
   "metadata": {},
   "source": [
    "Kolerasyon Katsayısı"
   ]
  },
  {
   "cell_type": "code",
   "execution_count": 8,
   "id": "90864b5a-58d6-4659-9044-6a3a3391e2d1",
   "metadata": {},
   "outputs": [
    {
     "data": {
      "text/plain": [
       "0.5766634471096378"
      ]
     },
     "execution_count": 8,
     "metadata": {},
     "output_type": "execute_result"
    }
   ],
   "source": [
    "df[\"tip\"].corr(df[\"total_bill\"])"
   ]
  },
  {
   "cell_type": "code",
   "execution_count": 9,
   "id": "ec4108e7-34b1-4b76-afdd-656ca880b9b0",
   "metadata": {},
   "outputs": [
    {
     "data": {
      "text/plain": [
       "0.593691939408997"
      ]
     },
     "execution_count": 9,
     "metadata": {},
     "output_type": "execute_result"
    }
   ],
   "source": [
    "df[\"tip\"].corr(df[\"total_bill\"],method = \"spearman\") #Varsayım sağlanmadığı için method spearman giriyoruz."
   ]
  },
  {
   "cell_type": "markdown",
   "id": "17b95963-4802-4c0a-855b-a7b59a911bbe",
   "metadata": {},
   "source": [
    "Kolerasyon Anlamlılığı Testi"
   ]
  },
  {
   "cell_type": "code",
   "execution_count": 16,
   "id": "5fc181a6-d604-45be-ac4f-4ce050412f25",
   "metadata": {},
   "outputs": [
    {
     "name": "stdout",
     "output_type": "stream",
     "text": [
      "Kolerasyon katsayısı = 0.5767,pvalue = 0.0000\n"
     ]
    }
   ],
   "source": [
    "from scipy.stats.stats import pearsonr \n",
    "test_istatistigi,pvalue = pearsonr(df[\"tip\"],df[\"total_bill\"])\n",
    "print('Kolerasyon katsayısı = %.4f,pvalue = %.4f' % (test_istatistigi,pvalue))"
   ]
  },
  {
   "cell_type": "markdown",
   "id": "60ac9fcb-cbd1-4d68-b9a8-750f28bebcb8",
   "metadata": {},
   "source": [
    "Nonparametrik Hipotez Testi"
   ]
  },
  {
   "cell_type": "code",
   "execution_count": 17,
   "id": "8252041f-ad0e-4c74-98f0-bcb33a2f3167",
   "metadata": {},
   "outputs": [],
   "source": [
    "import scipy.stats as stats"
   ]
  },
  {
   "cell_type": "code",
   "execution_count": 18,
   "id": "fd5bb4e2-8ac3-46a4-aa40-cd15fc32fd7b",
   "metadata": {},
   "outputs": [
    {
     "data": {
      "text/plain": [
       "SpearmanrResult(correlation=0.593691939408997, pvalue=1.2452285137560276e-24)"
      ]
     },
     "execution_count": 18,
     "metadata": {},
     "output_type": "execute_result"
    }
   ],
   "source": [
    "stats.spearmanr(df[\"tip\"],df[\"total_bill\"])"
   ]
  },
  {
   "cell_type": "code",
   "execution_count": 19,
   "id": "925dfc81-200a-4745-afd3-2a39ae31e636",
   "metadata": {},
   "outputs": [
    {
     "name": "stdout",
     "output_type": "stream",
     "text": [
      "Kolerasyon katsayısı = 0.5937,pvalue = 0.0000\n"
     ]
    }
   ],
   "source": [
    "test_istatistigi,pvalue = stats.spearmanr(df[\"tip\"],df[\"total_bill\"])\n",
    "print('Kolerasyon katsayısı = %.4f,pvalue = %.4f' % (test_istatistigi,pvalue))"
   ]
  },
  {
   "cell_type": "markdown",
   "id": "38f96131-6242-4495-9f7b-9df9a15b1259",
   "metadata": {},
   "source": [
    "H0 : değişkenlerin arasında istatistiki olarak anlamlı bir fark yoktur.H0 reddedilir.Değişkenlerin arasında isattistiki olarak anlamlı bir fark vardır.Bu ilişki pozitif yönlüdür.Orta derecededir."
   ]
  },
  {
   "cell_type": "code",
   "execution_count": 20,
   "id": "fce30f66-fae4-4b2e-ae2a-997500c0cbbd",
   "metadata": {},
   "outputs": [
    {
     "name": "stdout",
     "output_type": "stream",
     "text": [
      "Kolerasyon katsayısı = 0.4401,pvalue = 0.0000\n"
     ]
    }
   ],
   "source": [
    "test_istatistigi,pvalue = stats.kendalltau(df[\"tip\"],df[\"total_bill\"])\n",
    "print('Kolerasyon katsayısı = %.4f,pvalue = %.4f' % (test_istatistigi,pvalue))"
   ]
  },
  {
   "cell_type": "markdown",
   "id": "f6ebf9f7-302e-4aa8-bf3f-7794d26b5f71",
   "metadata": {},
   "source": [
    "Bunuda kullanabiliriz."
   ]
  },
  {
   "cell_type": "code",
   "execution_count": null,
   "id": "5e022379-2f5b-44e2-894e-21e5ada38277",
   "metadata": {},
   "outputs": [],
   "source": []
  }
 ],
 "metadata": {
  "kernelspec": {
   "display_name": "Python 3",
   "language": "python",
   "name": "python3"
  },
  "language_info": {
   "codemirror_mode": {
    "name": "ipython",
    "version": 3
   },
   "file_extension": ".py",
   "mimetype": "text/x-python",
   "name": "python",
   "nbconvert_exporter": "python",
   "pygments_lexer": "ipython3",
   "version": "3.8.8"
  }
 },
 "nbformat": 4,
 "nbformat_minor": 5
}
