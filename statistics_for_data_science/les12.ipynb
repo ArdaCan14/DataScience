{
 "cells": [
  {
   "cell_type": "markdown",
   "id": "4cfc20fd-1019-4ec1-bf24-c0d37e2374ba",
   "metadata": {},
   "source": [
    "Bağımsız İki Örneklem T Testi(AB) : İki grup ortalaması arasında karşılaştırma yapmak istenildiğinde kullanılır."
   ]
  },
  {
   "cell_type": "raw",
   "id": "7ea85edb-9812-4856-a977-95ebd57a1795",
   "metadata": {},
   "source": [
    "İş uygulaması : ML modelinin Başarı Testi \n",
    "Problem : Bir ML projesine yatırım yapılmış.Ürettiği tahminler neticesinde oluşan gelir ile eski sistemin ürettiği gelirler karşılaştırılıp anlamlı bir fark olup olmadığı test edilmek isteniyor.\n",
    "Detaylar:\n",
    "-Model geliştirilmiş ve websitesine entegre edilmiş.\n",
    "-Site kullanıcıları belirli bir kurala göre ikiye bölünmüş olsun\n",
    "-A grubu eski B grubu yeni sistem.\n",
    "-Gelir anlamında anlamlı bir iş yapılıp yapılmadığı test edilmek isteniyor.\n",
    "\n",
    "H0 : Mü1 = Mü2     H1 = Mü1 != Mü2"
   ]
  },
  {
   "cell_type": "code",
   "execution_count": 3,
   "id": "23a50647-fda4-45be-a0a4-dead2fced8db",
   "metadata": {},
   "outputs": [
    {
     "data": {
      "text/html": [
       "<div>\n",
       "<style scoped>\n",
       "    .dataframe tbody tr th:only-of-type {\n",
       "        vertical-align: middle;\n",
       "    }\n",
       "\n",
       "    .dataframe tbody tr th {\n",
       "        vertical-align: top;\n",
       "    }\n",
       "\n",
       "    .dataframe thead th {\n",
       "        text-align: right;\n",
       "    }\n",
       "</style>\n",
       "<table border=\"1\" class=\"dataframe\">\n",
       "  <thead>\n",
       "    <tr style=\"text-align: right;\">\n",
       "      <th></th>\n",
       "      <th>A</th>\n",
       "      <th>B</th>\n",
       "    </tr>\n",
       "  </thead>\n",
       "  <tbody>\n",
       "    <tr>\n",
       "      <th>0</th>\n",
       "      <td>30</td>\n",
       "      <td>37</td>\n",
       "    </tr>\n",
       "    <tr>\n",
       "      <th>1</th>\n",
       "      <td>27</td>\n",
       "      <td>39</td>\n",
       "    </tr>\n",
       "    <tr>\n",
       "      <th>2</th>\n",
       "      <td>21</td>\n",
       "      <td>31</td>\n",
       "    </tr>\n",
       "    <tr>\n",
       "      <th>3</th>\n",
       "      <td>27</td>\n",
       "      <td>31</td>\n",
       "    </tr>\n",
       "    <tr>\n",
       "      <th>4</th>\n",
       "      <td>29</td>\n",
       "      <td>34</td>\n",
       "    </tr>\n",
       "  </tbody>\n",
       "</table>\n",
       "</div>"
      ],
      "text/plain": [
       "    A   B\n",
       "0  30  37\n",
       "1  27  39\n",
       "2  21  31\n",
       "3  27  31\n",
       "4  29  34"
      ]
     },
     "execution_count": 3,
     "metadata": {},
     "output_type": "execute_result"
    }
   ],
   "source": [
    "import pandas as pd\n",
    "import numpy as np\n",
    "#Veri Tipi 1\n",
    "A = pd.DataFrame([30,27,21,27,29,30,20,20,27,32,35,22,24,23,25,27,23,27,23,25,21,18,24,26,33,26,27,28,19,25])\n",
    "B = pd.DataFrame([37,39,31,31,34,38,30,36,29,28,38,28,37,37,30,32,31,31,27,32,33,33,33,31,32,33,26,32,33,29])\n",
    "\n",
    "A_B = pd.concat([A,B],axis = 1)\n",
    "A_B.columns = [\"A\",\"B\"]\n",
    "A_B.head()"
   ]
  },
  {
   "cell_type": "code",
   "execution_count": 4,
   "id": "a828fcd1-6263-48de-b1ba-709419b4af05",
   "metadata": {},
   "outputs": [
    {
     "name": "stdout",
     "output_type": "stream",
     "text": [
      "   gelir Grup\n",
      "0     30    A\n",
      "1     27    A\n",
      "2     21    A\n",
      "3     27    A\n",
      "4     29    A\n",
      "    gelir Grup\n",
      "25     33    B\n",
      "26     26    B\n",
      "27     32    B\n",
      "28     33    B\n",
      "29     29    B\n"
     ]
    }
   ],
   "source": [
    "#Veri Tipi 2\n",
    "A = pd.DataFrame([30,27,21,27,29,30,20,20,27,32,35,22,24,23,25,27,23,27,23,25,21,18,24,26,33,26,27,28,19,25])\n",
    "B = pd.DataFrame([37,39,31,31,34,38,30,36,29,28,38,28,37,37,30,32,31,31,27,32,33,33,33,31,32,33,26,32,33,29])\n",
    "\n",
    "Grup_A = np.arange(len(A))\n",
    "Grup_A = pd.DataFrame(Grup_A)\n",
    "Grup_A[:] = \"A\"\n",
    "A = pd.concat([A,Grup_A],axis = 1)\n",
    "\n",
    "Grup_B = np.arange(len(B))\n",
    "Grup_B = pd.DataFrame(Grup_B)\n",
    "Grup_B[:] = \"B\"\n",
    "B = pd.concat([B,Grup_B],axis = 1)\n",
    "\n",
    "#Tüm Veri\n",
    "AB = pd.concat([A,B])\n",
    "AB.columns = [\"gelir\",\"Grup\"]\n",
    "print(AB.head())\n",
    "print(AB.tail())"
   ]
  },
  {
   "cell_type": "code",
   "execution_count": 5,
   "id": "e903827f-08db-4666-8545-da357a0c16ca",
   "metadata": {},
   "outputs": [
    {
     "data": {
      "image/png": "[encoded data removed]",
      "text/plain": [
       "<Figure size 432x288 with 1 Axes>"
      ]
     },
     "metadata": {
      "needs_background": "light"
     },
     "output_type": "display_data"
    }
   ],
   "source": [
    "import seaborn as sns\n",
    "sns.boxplot(x = \"Grup\",y = \"gelir\",data = AB);"
   ]
  },
  {
   "cell_type": "code",
   "execution_count": 6,
   "id": "2e41913d-fd9d-45a4-8394-aaf72751e906",
   "metadata": {},
   "outputs": [],
   "source": [
    "#Varsayım Kontrolü"
   ]
  },
  {
   "cell_type": "code",
   "execution_count": 7,
   "id": "409b3367-1f13-412d-883b-12f8726e3d43",
   "metadata": {},
   "outputs": [
    {
     "data": {
      "text/html": [
       "<div>\n",
       "<style scoped>\n",
       "    .dataframe tbody tr th:only-of-type {\n",
       "        vertical-align: middle;\n",
       "    }\n",
       "\n",
       "    .dataframe tbody tr th {\n",
       "        vertical-align: top;\n",
       "    }\n",
       "\n",
       "    .dataframe thead th {\n",
       "        text-align: right;\n",
       "    }\n",
       "</style>\n",
       "<table border=\"1\" class=\"dataframe\">\n",
       "  <thead>\n",
       "    <tr style=\"text-align: right;\">\n",
       "      <th></th>\n",
       "      <th>A</th>\n",
       "      <th>B</th>\n",
       "    </tr>\n",
       "  </thead>\n",
       "  <tbody>\n",
       "    <tr>\n",
       "      <th>0</th>\n",
       "      <td>30</td>\n",
       "      <td>37</td>\n",
       "    </tr>\n",
       "    <tr>\n",
       "      <th>1</th>\n",
       "      <td>27</td>\n",
       "      <td>39</td>\n",
       "    </tr>\n",
       "    <tr>\n",
       "      <th>2</th>\n",
       "      <td>21</td>\n",
       "      <td>31</td>\n",
       "    </tr>\n",
       "    <tr>\n",
       "      <th>3</th>\n",
       "      <td>27</td>\n",
       "      <td>31</td>\n",
       "    </tr>\n",
       "    <tr>\n",
       "      <th>4</th>\n",
       "      <td>29</td>\n",
       "      <td>34</td>\n",
       "    </tr>\n",
       "  </tbody>\n",
       "</table>\n",
       "</div>"
      ],
      "text/plain": [
       "    A   B\n",
       "0  30  37\n",
       "1  27  39\n",
       "2  21  31\n",
       "3  27  31\n",
       "4  29  34"
      ]
     },
     "execution_count": 7,
     "metadata": {},
     "output_type": "execute_result"
    }
   ],
   "source": [
    "A_B.head()"
   ]
  },
  {
   "cell_type": "code",
   "execution_count": 8,
   "id": "f6b100ae-b677-4a4f-875e-a1b784ac2c56",
   "metadata": {},
   "outputs": [
    {
     "data": {
      "text/html": [
       "<div>\n",
       "<style scoped>\n",
       "    .dataframe tbody tr th:only-of-type {\n",
       "        vertical-align: middle;\n",
       "    }\n",
       "\n",
       "    .dataframe tbody tr th {\n",
       "        vertical-align: top;\n",
       "    }\n",
       "\n",
       "    .dataframe thead th {\n",
       "        text-align: right;\n",
       "    }\n",
       "</style>\n",
       "<table border=\"1\" class=\"dataframe\">\n",
       "  <thead>\n",
       "    <tr style=\"text-align: right;\">\n",
       "      <th></th>\n",
       "      <th>gelir</th>\n",
       "      <th>Grup</th>\n",
       "    </tr>\n",
       "  </thead>\n",
       "  <tbody>\n",
       "    <tr>\n",
       "      <th>0</th>\n",
       "      <td>30</td>\n",
       "      <td>A</td>\n",
       "    </tr>\n",
       "    <tr>\n",
       "      <th>1</th>\n",
       "      <td>27</td>\n",
       "      <td>A</td>\n",
       "    </tr>\n",
       "    <tr>\n",
       "      <th>2</th>\n",
       "      <td>21</td>\n",
       "      <td>A</td>\n",
       "    </tr>\n",
       "    <tr>\n",
       "      <th>3</th>\n",
       "      <td>27</td>\n",
       "      <td>A</td>\n",
       "    </tr>\n",
       "    <tr>\n",
       "      <th>4</th>\n",
       "      <td>29</td>\n",
       "      <td>A</td>\n",
       "    </tr>\n",
       "  </tbody>\n",
       "</table>\n",
       "</div>"
      ],
      "text/plain": [
       "   gelir Grup\n",
       "0     30    A\n",
       "1     27    A\n",
       "2     21    A\n",
       "3     27    A\n",
       "4     29    A"
      ]
     },
     "execution_count": 8,
     "metadata": {},
     "output_type": "execute_result"
    }
   ],
   "source": [
    "AB.head()"
   ]
  },
  {
   "cell_type": "code",
   "execution_count": 31,
   "id": "dde27e94-23b4-455a-8e2d-faffeda662eb",
   "metadata": {},
   "outputs": [],
   "source": [
    "#normallik varsayımı\n",
    "from scipy.stats import shapiro\n",
    "import scipy.stats as stats"
   ]
  },
  {
   "cell_type": "code",
   "execution_count": 32,
   "id": "0fcedcce-01cd-4061-909b-9dd1d547343c",
   "metadata": {},
   "outputs": [
    {
     "data": {
      "text/plain": [
       "ShapiroResult(statistic=0.9789242148399353, pvalue=0.7962799668312073)"
      ]
     },
     "execution_count": 32,
     "metadata": {},
     "output_type": "execute_result"
    }
   ],
   "source": [
    "shapiro(A_B.A)\n",
    "#p-value > alfa"
   ]
  },
  {
   "cell_type": "code",
   "execution_count": 33,
   "id": "7de78ee4-1dc9-4938-913c-1aa2fb45bbad",
   "metadata": {},
   "outputs": [
    {
     "data": {
      "text/plain": [
       "ShapiroResult(statistic=0.9561260342597961, pvalue=0.24584221839904785)"
      ]
     },
     "execution_count": 33,
     "metadata": {},
     "output_type": "execute_result"
    }
   ],
   "source": [
    "shapiro(A_B.B)\n",
    "#p_value > alfa"
   ]
  },
  {
   "cell_type": "code",
   "execution_count": 34,
   "id": "02f4fd12-558f-4d27-8b39-c6ed02b6c6ae",
   "metadata": {},
   "outputs": [],
   "source": [
    "#Varyans homojenliği varsayımı"
   ]
  },
  {
   "cell_type": "markdown",
   "id": "bee7b1f2-007e-44bc-b653-b36c1c7eb47e",
   "metadata": {},
   "source": [
    "H0 : Varyanslar homojendir\n",
    "H1 : Varyanslar homojen değildir"
   ]
  },
  {
   "cell_type": "code",
   "execution_count": 35,
   "id": "0343238e-f05c-4d6a-9bf8-97ccdd621e67",
   "metadata": {},
   "outputs": [
    {
     "data": {
      "text/plain": [
       "LeveneResult(statistic=1.1101802757158004, pvalue=0.2964124900636569)"
      ]
     },
     "execution_count": 35,
     "metadata": {},
     "output_type": "execute_result"
    }
   ],
   "source": [
    "stats.levene(A_B.A,A_B.B)"
   ]
  },
  {
   "cell_type": "markdown",
   "id": "e6ab5cf5-14cd-4f2a-a363-4c2223d275f5",
   "metadata": {},
   "source": [
    "p-value > alfa(0.05)"
   ]
  },
  {
   "cell_type": "raw",
   "id": "6ff0fbbb-4551-4ccb-b1a2-547200ba7857",
   "metadata": {},
   "source": [
    "Hipotez Testi"
   ]
  },
  {
   "cell_type": "code",
   "execution_count": 36,
   "id": "55efadb9-fd59-467b-ae84-5756a95d096b",
   "metadata": {},
   "outputs": [
    {
     "data": {
      "text/plain": [
       "Ttest_indResult(statistic=-7.028690967745927, pvalue=2.6233215605475075e-09)"
      ]
     },
     "execution_count": 36,
     "metadata": {},
     "output_type": "execute_result"
    }
   ],
   "source": [
    "stats.ttest_ind(A_B[\"A\"],A_B[\"B\"],equal_var = True)"
   ]
  },
  {
   "cell_type": "markdown",
   "id": "e3b69a84-f8e1-4e6f-9ef2-5053539d997f",
   "metadata": {},
   "source": [
    "pvalue < alfa"
   ]
  },
  {
   "cell_type": "code",
   "execution_count": 37,
   "id": "fbfd798f-6de2-4a1d-89dc-6ff1de7a4e6d",
   "metadata": {},
   "outputs": [
    {
     "name": "stdout",
     "output_type": "stream",
     "text": [
      "Test istatistiği = -7.0287,p değeri = 0.0000\n"
     ]
    }
   ],
   "source": [
    "statistic,pvalue = stats.ttest_ind(A_B[\"A\"],A_B[\"B\"],equal_var = True)\n",
    "print(\"Test istatistiği = %.4f,p değeri = %.4f\" % (statistic,pvalue))"
   ]
  },
  {
   "cell_type": "markdown",
   "id": "2a7cfb1c-682a-49ea-baab-5f0cb1614a58",
   "metadata": {},
   "source": [
    "Eski sistem ile yeni sistem arasında gelirler göz önünde bulundurulduğunda anlamlı bir fark vardır.Bu fark yeni sistem lehinedir."
   ]
  },
  {
   "cell_type": "markdown",
   "id": "c5b2973c-1f48-44b3-9e26-5d65b91c470a",
   "metadata": {},
   "source": []
  },
  {
   "cell_type": "markdown",
   "id": "75220d86-f506-445d-aba8-92941321a30d",
   "metadata": {},
   "source": [
    "Nonparametrik Bağımsız İki Örneklem Testi"
   ]
  },
  {
   "cell_type": "code",
   "execution_count": 2,
   "id": "f1d4212b-cc4e-41cc-b7e8-a2a19c4f7b5b",
   "metadata": {},
   "outputs": [
    {
     "data": {
      "text/html": [
       "<div>\n",
       "<style scoped>\n",
       "    .dataframe tbody tr th:only-of-type {\n",
       "        vertical-align: middle;\n",
       "    }\n",
       "\n",
       "    .dataframe tbody tr th {\n",
       "        vertical-align: top;\n",
       "    }\n",
       "\n",
       "    .dataframe thead th {\n",
       "        text-align: right;\n",
       "    }\n",
       "</style>\n",
       "<table border=\"1\" class=\"dataframe\">\n",
       "  <thead>\n",
       "    <tr style=\"text-align: right;\">\n",
       "      <th></th>\n",
       "      <th>A</th>\n",
       "      <th>B</th>\n",
       "    </tr>\n",
       "  </thead>\n",
       "  <tbody>\n",
       "    <tr>\n",
       "      <th>0</th>\n",
       "      <td>30</td>\n",
       "      <td>37</td>\n",
       "    </tr>\n",
       "    <tr>\n",
       "      <th>1</th>\n",
       "      <td>27</td>\n",
       "      <td>39</td>\n",
       "    </tr>\n",
       "    <tr>\n",
       "      <th>2</th>\n",
       "      <td>21</td>\n",
       "      <td>31</td>\n",
       "    </tr>\n",
       "    <tr>\n",
       "      <th>3</th>\n",
       "      <td>27</td>\n",
       "      <td>31</td>\n",
       "    </tr>\n",
       "    <tr>\n",
       "      <th>4</th>\n",
       "      <td>29</td>\n",
       "      <td>34</td>\n",
       "    </tr>\n",
       "  </tbody>\n",
       "</table>\n",
       "</div>"
      ],
      "text/plain": [
       "    A   B\n",
       "0  30  37\n",
       "1  27  39\n",
       "2  21  31\n",
       "3  27  31\n",
       "4  29  34"
      ]
     },
     "execution_count": 2,
     "metadata": {},
     "output_type": "execute_result"
    }
   ],
   "source": [
    "import pandas as pd\n",
    "import numpy as np\n",
    "import scipy.stats as stats\n",
    "\n",
    "A = pd.DataFrame([30,27,21,27,29,30,20,20,27,32,35,22,24,23,25,27,23,27,23,25,21,18,24,26,33,26,27,28,19,25])\n",
    "B = pd.DataFrame([37,39,31,31,34,38,30,36,29,28,38,28,37,37,30,32,31,31,27,32,33,33,33,31,32,33,26,32,33,29])\n",
    "\n",
    "A_B = pd.concat([A,B],axis = 1)\n",
    "A_B.columns = [\"A\",\"B\"]\n",
    "A_B.head()"
   ]
  },
  {
   "cell_type": "code",
   "execution_count": 3,
   "id": "0b05b8ba-b55c-476d-a342-af05f9646429",
   "metadata": {},
   "outputs": [
    {
     "data": {
      "text/plain": [
       "MannwhitneyuResult(statistic=89.5, pvalue=4.778975189306267e-08)"
      ]
     },
     "execution_count": 3,
     "metadata": {},
     "output_type": "execute_result"
    }
   ],
   "source": [
    "stats.mannwhitneyu(A_B[\"A\"],A_B[\"B\"])"
   ]
  },
  {
   "cell_type": "code",
   "execution_count": 4,
   "id": "33d833d4-1a5b-4413-82c9-eebc522b95c2",
   "metadata": {},
   "outputs": [
    {
     "name": "stdout",
     "output_type": "stream",
     "text": [
      "Test İstatistiği : 89.5000, p-değeri : 0.0000\n"
     ]
    }
   ],
   "source": [
    "test_istatistigi,pvalue = stats.mannwhitneyu(A_B[\"A\"],A_B[\"B\"])\n",
    "print(\"Test İstatistiği : %.4f, p-değeri : %.4f\" % (test_istatistigi,pvalue))"
   ]
  },
  {
   "cell_type": "code",
   "execution_count": null,
   "id": "d2144cf7-2248-4126-95b4-716bf161ac2f",
   "metadata": {},
   "outputs": [],
   "source": []
  }
 ],
 "metadata": {
  "kernelspec": {
   "display_name": "Python 3",
   "language": "python",
   "name": "python3"
  },
  "language_info": {
   "codemirror_mode": {
    "name": "ipython",
    "version": 3
   },
   "file_extension": ".py",
   "mimetype": "text/x-python",
   "name": "python",
   "nbconvert_exporter": "python",
   "pygments_lexer": "ipython3",
   "version": "3.8.8"
  }
 },
 "nbformat": 4,
 "nbformat_minor": 5
}
