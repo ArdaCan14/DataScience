{
 "cells": [
  {
   "cell_type": "markdown",
   "id": "a9fd6c02-dc7b-4209-a2ca-a6b11ef107e8",
   "metadata": {},
   "source": [
    "Problem : Bir yatırım/toplantı öncesinde gelecek ay ile ilgili satışların belirli değerlerde gerçekleşmesi olasılıkları belirlenmek isteniyor.\n",
    "Detaylar:\n",
    "-Dağılımın normal olduğu belirtiliyor.\n",
    "-Aylık ortalama satış sayısı 80k standart sapma : 5k\n",
    "-90k satış yapma olasılığı nedir?"
   ]
  },
  {
   "cell_type": "code",
   "execution_count": 1,
   "id": "068502e7-1ee3-4bf8-ba7c-fd39f60191b5",
   "metadata": {},
   "outputs": [],
   "source": [
    "from scipy.stats import norm\n",
    "#90k'dan fazla olması  #70k'dan fazla olması  #73k'dan fazla olması #85k-90k arası olması  "
   ]
  },
  {
   "cell_type": "code",
   "execution_count": 2,
   "id": "73aaa3b8-31bb-4ca2-8837-843c63445082",
   "metadata": {},
   "outputs": [
    {
     "data": {
      "text/plain": [
       "0.02275013194817921"
      ]
     },
     "execution_count": 2,
     "metadata": {},
     "output_type": "execute_result"
    }
   ],
   "source": [
    "1-norm.cdf(90,80,5)"
   ]
  },
  {
   "cell_type": "code",
   "execution_count": 3,
   "id": "fb0b6622-020c-4e3f-b1ee-92e4581d5417",
   "metadata": {},
   "outputs": [
    {
     "data": {
      "text/plain": [
       "0.9772498680518208"
      ]
     },
     "execution_count": 3,
     "metadata": {},
     "output_type": "execute_result"
    }
   ],
   "source": [
    "1-norm.cdf(70,80,5)"
   ]
  },
  {
   "cell_type": "code",
   "execution_count": 4,
   "id": "3df8a5ba-1e27-40f2-9846-10769ecb0cef",
   "metadata": {},
   "outputs": [
    {
     "data": {
      "text/plain": [
       "0.08075665923377107"
      ]
     },
     "execution_count": 4,
     "metadata": {},
     "output_type": "execute_result"
    }
   ],
   "source": [
    "norm.cdf(73,80,5)"
   ]
  },
  {
   "cell_type": "code",
   "execution_count": 5,
   "id": "3c265fae-fe33-4771-83ca-7cffc0fa5ff9",
   "metadata": {},
   "outputs": [
    {
     "data": {
      "text/plain": [
       "0.13590512198327787"
      ]
     },
     "execution_count": 5,
     "metadata": {},
     "output_type": "execute_result"
    }
   ],
   "source": [
    "norm.cdf(90,80,5) - norm.cdf(85,80,5)"
   ]
  },
  {
   "cell_type": "code",
   "execution_count": 1,
   "id": "1100475b-795c-41f9-850c-21c98791148a",
   "metadata": {},
   "outputs": [],
   "source": [
    "from scipy.stats import norm"
   ]
  },
  {
   "cell_type": "code",
   "execution_count": 6,
   "id": "0faca992-4186-4418-9f35-51a6c67d7678",
   "metadata": {},
   "outputs": [
    {
     "data": {
      "text/plain": [
       "0.02275013194817921"
      ]
     },
     "execution_count": 6,
     "metadata": {},
     "output_type": "execute_result"
    }
   ],
   "source": [
    "1-norm.cdf(110,90,10)"
   ]
  },
  {
   "cell_type": "code",
   "execution_count": 7,
   "id": "faaa459c-778f-400e-a6af-6c43f46c8f6c",
   "metadata": {},
   "outputs": [
    {
     "data": {
      "text/plain": [
       "0.8413447460685429"
      ]
     },
     "execution_count": 7,
     "metadata": {},
     "output_type": "execute_result"
    }
   ],
   "source": [
    "1-norm.cdf(80,90,10)"
   ]
  },
  {
   "cell_type": "code",
   "execution_count": 8,
   "id": "c6f0bc53-af40-4416-a618-858862a02f64",
   "metadata": {},
   "outputs": [
    {
     "data": {
      "text/plain": [
       "0.9772498680518208"
      ]
     },
     "execution_count": 8,
     "metadata": {},
     "output_type": "execute_result"
    }
   ],
   "source": [
    "norm.cdf(110,90,10)"
   ]
  },
  {
   "cell_type": "code",
   "execution_count": 9,
   "id": "dbc0c349-b473-4f35-be7e-b089b282cb05",
   "metadata": {},
   "outputs": [
    {
     "data": {
      "text/plain": [
       "0.021400233916549105"
      ]
     },
     "execution_count": 9,
     "metadata": {},
     "output_type": "execute_result"
    }
   ],
   "source": [
    "norm.cdf(120,90,10) - norm.cdf(110,90,10)"
   ]
  },
  {
   "cell_type": "code",
   "execution_count": null,
   "id": "0ccf3f4c-8029-4070-901b-8a4fedb80d6b",
   "metadata": {},
   "outputs": [],
   "source": []
  }
 ],
 "metadata": {
  "kernelspec": {
   "display_name": "Python 3",
   "language": "python",
   "name": "python3"
  },
  "language_info": {
   "codemirror_mode": {
    "name": "ipython",
    "version": 3
   },
   "file_extension": ".py",
   "mimetype": "text/x-python",
   "name": "python",
   "nbconvert_exporter": "python",
   "pygments_lexer": "ipython3",
   "version": "3.8.8"
  }
 },
 "nbformat": 4,
 "nbformat_minor": 5
}
