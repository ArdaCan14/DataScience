{
 "cells": [
  {
   "cell_type": "markdown",
   "id": "5fe12231-6124-46b2-8039-09e595ae5df5",
   "metadata": {},
   "source": [
    "Nonparametrik Tek Örneklem Testi"
   ]
  },
  {
   "cell_type": "code",
   "execution_count": 6,
   "id": "6baa3dde-e917-42ec-87da-8efe1ea363fb",
   "metadata": {},
   "outputs": [],
   "source": [
    "from statsmodels.stats.descriptivestats import sign_test\n",
    "import numpy as np\n",
    "olcumler = np.array([17,160,234,149,145,107,197,75,201,225,211,119,\n",
    "                    157,145,127,244,163,114,145,65,112,185,202,146,\n",
    "                    203,224,203,114,188,156,187,154,177,95,165,50,110,\n",
    "                    216,138,151,166,135,155,84,251,173,131,207,121,120])"
   ]
  },
  {
   "cell_type": "code",
   "execution_count": 8,
   "id": "efc6e8b4-25c2-446b-aae0-5d654a45dc55",
   "metadata": {},
   "outputs": [
    {
     "data": {
      "text/plain": [
       "(-7.0, 0.06490864707227219)"
      ]
     },
     "execution_count": 8,
     "metadata": {},
     "output_type": "execute_result"
    }
   ],
   "source": [
    "sign_test(olcumler,170)"
   ]
  },
  {
   "cell_type": "markdown",
   "id": "c14c0484-c616-46bc-9582-fd3f188ef175",
   "metadata": {},
   "source": [
    "İş Uygulaması :Dönüşüm Oran Testi"
   ]
  },
  {
   "cell_type": "raw",
   "id": "9dc67e33-a42e-4866-ac55-35473eb607a6",
   "metadata": {},
   "source": [
    "Problem : Bir yazılım ile bir mecrada reklam verilmiş ve bu reklama ilişkin yazılım tarafından 0.125 dönüşüm oranı elde edildiği ifade edilmiş.Fakat bu durum kontrol edilmek isteniyor.Çünkü bu yüksek bir oran ve gelirler incelendiğinde örtüşmüyor.\n",
    "Detaylar :\n",
    "-500 kişi dış mecrada reklamlara tıklamış,40 tanesi sitemize gelip alışveriş yapmış.\n",
    "-Örnek üzerinden elde edilen dönüşüm oranı :40/500 = 0,08\n",
    "Hipotez : H0 = 0.125  H1 != 0.125"
   ]
  },
  {
   "cell_type": "code",
   "execution_count": 12,
   "id": "5efdd7c5-1eae-4d26-8b9a-89ddb0dd1ea3",
   "metadata": {},
   "outputs": [],
   "source": [
    "from statsmodels.stats.proportion import proportions_ztest"
   ]
  },
  {
   "cell_type": "code",
   "execution_count": 13,
   "id": "1a9e872c-882c-424d-85f6-e1836adaa2c1",
   "metadata": {},
   "outputs": [],
   "source": [
    "count = 40\n",
    "nobs = 500\n",
    "value = 0.125"
   ]
  },
  {
   "cell_type": "code",
   "execution_count": 15,
   "id": "12ef0322-5b37-439d-86e8-bdd2e57b2946",
   "metadata": {},
   "outputs": [
    {
     "data": {
      "text/plain": [
       "(-3.7090151628513017, 0.0002080669689845979)"
      ]
     },
     "execution_count": 15,
     "metadata": {},
     "output_type": "execute_result"
    }
   ],
   "source": [
    "proportions_ztest(count,nobs,value)"
   ]
  },
  {
   "cell_type": "markdown",
   "id": "82d1ea7a-e69f-4a9a-99f5-7254dca9c9ef",
   "metadata": {},
   "source": [
    "P-value < alfa(0.05) H0 is rejected.with 95% trust"
   ]
  }
 ],
 "metadata": {
  "kernelspec": {
   "display_name": "Python 3",
   "language": "python",
   "name": "python3"
  },
  "language_info": {
   "codemirror_mode": {
    "name": "ipython",
    "version": 3
   },
   "file_extension": ".py",
   "mimetype": "text/x-python",
   "name": "python",
   "nbconvert_exporter": "python",
   "pygments_lexer": "ipython3",
   "version": "3.8.8"
  }
 },
 "nbformat": 4,
 "nbformat_minor": 5
}
