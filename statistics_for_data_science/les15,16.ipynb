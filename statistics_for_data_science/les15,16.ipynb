{
 "cells": [
  {
   "cell_type": "markdown",
   "id": "9bb3300b-5e36-4022-aa05-a693953004a6",
   "metadata": {},
   "source": [
    "İki Örneklem Oran Testi\n",
    "\n",
    "İki Oran arasında karşılaştırma yapmak için kullanılır."
   ]
  },
  {
   "cell_type": "raw",
   "id": "c797ff81-2b32-4d36-aeba-f96c702b760a",
   "metadata": {},
   "source": [
    "Varsayımlar : \n",
    "n1 > 30   n2> 30"
   ]
  },
  {
   "cell_type": "markdown",
   "id": "84bc0aba-d4f7-4ec4-b0b7-ef390503ca97",
   "metadata": {},
   "source": [
    "İş Uygulaması: Kullanıcı Arayüzü Testi(AB Testi)"
   ]
  },
  {
   "cell_type": "markdown",
   "id": "3f2eed7c-9ffc-4f9e-a85b-b67430b26ca3",
   "metadata": {},
   "source": [
    "Kırmızı Buton mu? Yeşil Buton mu ? \n",
    "\n",
    "H0 : P1 <= P2       H1 : P1 > P2"
   ]
  },
  {
   "cell_type": "code",
   "execution_count": 32,
   "id": "46b01b39-77ab-4dab-81f6-83a3b0f34706",
   "metadata": {},
   "outputs": [],
   "source": [
    "from statsmodels.stats.proportion import proportions_ztest\n",
    "import numpy as np\n",
    "import pandas as pd"
   ]
  },
  {
   "cell_type": "code",
   "execution_count": 33,
   "id": "6031d801-8864-4489-8d14-75dd6d828ce8",
   "metadata": {},
   "outputs": [],
   "source": [
    "from statsmodels.stats.proportion import proportions_ztest"
   ]
  },
  {
   "cell_type": "code",
   "execution_count": 34,
   "id": "72e3ba81-7b27-460f-91c6-beb3b01cc733",
   "metadata": {},
   "outputs": [],
   "source": [
    "basari_sayisi = np.array([300,250])\n",
    "gozlem_sayilari = np.array([1000,1100])"
   ]
  },
  {
   "cell_type": "code",
   "execution_count": 35,
   "id": "39629ea7-b7a6-4e57-b560-a4f5d574f06a",
   "metadata": {},
   "outputs": [
    {
     "data": {
      "text/plain": [
       "(3.7857863233209255, 0.0001532232957772221)"
      ]
     },
     "execution_count": 35,
     "metadata": {},
     "output_type": "execute_result"
    }
   ],
   "source": [
    "proportions_ztest(count = basari_sayisi,nobs = gozlem_sayilari)"
   ]
  },
  {
   "cell_type": "markdown",
   "id": "fb98173e-fe7a-48eb-aea6-c4a5914cae75",
   "metadata": {},
   "source": [
    "HO reddedilir HO : Websitemizde tasarlamış olduğumuz 1.buton renginin dönüşüm oranı ile 2.buton renginin dönüşüm oranı arasında fark yoktur.Yeşil buton lehindedir."
   ]
  },
  {
   "cell_type": "markdown",
   "id": "2b90cd7c-cc11-4eab-aaf0-609ab7680921",
   "metadata": {},
   "source": [
    "------------------------------------------------------------------------------------------------"
   ]
  },
  {
   "cell_type": "markdown",
   "id": "86daff8a-ddc8-44fc-97f3-f36e8b5dd08e",
   "metadata": {},
   "source": [
    "Varyans Analizi"
   ]
  },
  {
   "cell_type": "markdown",
   "id": "1c298bc2-f1d3-4dec-bb6c-fa70393f67bc",
   "metadata": {},
   "source": [
    "İki ya da daha fazla grup ortalaması arasında istatiksel olarak anlamlı bir farklılık olup olmadığını öğrenilmek istenildiğinde kullanılır.\n",
    "\n",
    "H0 : Mü1 == Mü2 == Mü3     H1 : eşit değiller(en az birisi farklı)"
   ]
  },
  {
   "cell_type": "markdown",
   "id": "176f2fc6-7394-4ba7-8d89-eabd1a202832",
   "metadata": {},
   "source": [
    "Varsayımlar : \n",
    "\n",
    "-Gözlemlerin Birbirinden farklı olması(grupların)\n",
    "\n",
    "-Normal Dağılım\n",
    "\n",
    "-Varyans Homojenliği"
   ]
  },
  {
   "cell_type": "raw",
   "id": "cbd1c5f5-7ce9-46dc-837c-b2599359f252",
   "metadata": {},
   "source": [
    "İş uygulaması : Ana sayfa İçerik Stratejisi Belirleme\n",
    "Problem : Ana sayfada geçirilen süre arttırılmak isteniyor.\n",
    "Detaylar:\n",
    "-Bir websitesi için başarı kriterleri : Ortalama ziyaret süresi,hemen çıkış oranı vb.\n",
    "-Uzun zaman geçiren kullanıcıların reklamlara daha fazla tıkladığı ve markaya olan bağlılıklarının arttığı biliniyor.\n",
    "-Buna yönelik olarak benzer haberler farklı resimler ya da farklı formatlarda hazırlanarak oluşturulan test gruplarına gösteriliyor.\n",
    "-A:Doğal şekilde  B:Yönlendirici    C: Çekici"
   ]
  },
  {
   "cell_type": "code",
   "execution_count": 36,
   "id": "54e3f266-7a7a-4052-a670-e0afecfe1f92",
   "metadata": {},
   "outputs": [
    {
     "data": {
      "text/html": [
       "<div>\n",
       "<style scoped>\n",
       "    .dataframe tbody tr th:only-of-type {\n",
       "        vertical-align: middle;\n",
       "    }\n",
       "\n",
       "    .dataframe tbody tr th {\n",
       "        vertical-align: top;\n",
       "    }\n",
       "\n",
       "    .dataframe thead th {\n",
       "        text-align: right;\n",
       "    }\n",
       "</style>\n",
       "<table border=\"1\" class=\"dataframe\">\n",
       "  <thead>\n",
       "    <tr style=\"text-align: right;\">\n",
       "      <th></th>\n",
       "      <th>A</th>\n",
       "      <th>B</th>\n",
       "      <th>C</th>\n",
       "    </tr>\n",
       "  </thead>\n",
       "  <tbody>\n",
       "    <tr>\n",
       "      <th>0</th>\n",
       "      <td>28</td>\n",
       "      <td>31</td>\n",
       "      <td>40</td>\n",
       "    </tr>\n",
       "    <tr>\n",
       "      <th>1</th>\n",
       "      <td>33</td>\n",
       "      <td>32</td>\n",
       "      <td>33</td>\n",
       "    </tr>\n",
       "    <tr>\n",
       "      <th>2</th>\n",
       "      <td>30</td>\n",
       "      <td>30</td>\n",
       "      <td>38</td>\n",
       "    </tr>\n",
       "    <tr>\n",
       "      <th>3</th>\n",
       "      <td>29</td>\n",
       "      <td>30</td>\n",
       "      <td>41</td>\n",
       "    </tr>\n",
       "    <tr>\n",
       "      <th>4</th>\n",
       "      <td>28</td>\n",
       "      <td>33</td>\n",
       "      <td>42</td>\n",
       "    </tr>\n",
       "  </tbody>\n",
       "</table>\n",
       "</div>"
      ],
      "text/plain": [
       "    A   B   C\n",
       "0  28  31  40\n",
       "1  33  32  33\n",
       "2  30  30  38\n",
       "3  29  30  41\n",
       "4  28  33  42"
      ]
     },
     "execution_count": 36,
     "metadata": {},
     "output_type": "execute_result"
    }
   ],
   "source": [
    "import numpy as np\n",
    "import pandas as pd\n",
    "A = pd.DataFrame([28,33,30,29,28,29,27,31,30,32,28,33,25,29,27,31,31,30,31,34,30,32,31])\n",
    "B = pd.DataFrame([31,32,30,30,33,32,34,27,36,30,31,30,38,29,30,34,34,31,35,35,33,30,28])\n",
    "C = pd.DataFrame([40,33,38,41,42,43,38,35,39,39,36,34,35,40,38,36,39,36,33,35,38,35,40])\n",
    "dfs = [A,B,C]\n",
    "ABC = pd.concat(dfs,axis = 1)\n",
    "ABC.columns = [\"A\",\"B\",\"C\"]\n",
    "ABC.head()"
   ]
  },
  {
   "cell_type": "markdown",
   "id": "9137a4e8-11dd-4c13-b8a7-36790d202a79",
   "metadata": {},
   "source": [
    "Varsayım Kontrolü"
   ]
  },
  {
   "cell_type": "code",
   "execution_count": 37,
   "id": "e0d368af-aef1-4abb-9131-95e7f181e7c5",
   "metadata": {},
   "outputs": [],
   "source": [
    "from scipy.stats import shapiro\n",
    "import scipy.stats as stats"
   ]
  },
  {
   "cell_type": "code",
   "execution_count": 38,
   "id": "3ba83eec-3fdc-4202-b24e-b1f40387febc",
   "metadata": {},
   "outputs": [
    {
     "data": {
      "text/plain": [
       "ShapiroResult(statistic=0.977165162563324, pvalue=0.8526773452758789)"
      ]
     },
     "execution_count": 38,
     "metadata": {},
     "output_type": "execute_result"
    }
   ],
   "source": [
    "shapiro(ABC[\"A\"])"
   ]
  },
  {
   "cell_type": "markdown",
   "id": "fd56b248-e476-4aaf-8564-57ea36850c14",
   "metadata": {},
   "source": [
    "shapiro(ABC.B)"
   ]
  },
  {
   "cell_type": "code",
   "execution_count": 39,
   "id": "71faee3a-53e5-4891-af49-64b2a8474379",
   "metadata": {},
   "outputs": [
    {
     "data": {
      "text/plain": [
       "ShapiroResult(statistic=0.9604302644729614, pvalue=0.4721103310585022)"
      ]
     },
     "execution_count": 39,
     "metadata": {},
     "output_type": "execute_result"
    }
   ],
   "source": [
    "shapiro(ABC.C)"
   ]
  },
  {
   "cell_type": "code",
   "execution_count": 40,
   "id": "f01d13e8-4ea5-4f20-9aa3-f2553561fa08",
   "metadata": {},
   "outputs": [
    {
     "data": {
      "text/plain": [
       "LeveneResult(statistic=0.9446786090621706, pvalue=0.3939978753114075)"
      ]
     },
     "execution_count": 40,
     "metadata": {},
     "output_type": "execute_result"
    }
   ],
   "source": [
    "stats.levene(ABC.A,ABC.B,ABC.C)"
   ]
  },
  {
   "cell_type": "markdown",
   "id": "48e24aa8-eeea-43ab-b293-3427094ad929",
   "metadata": {},
   "source": [
    "Varyanslar homojendir(H0) reddedilemez."
   ]
  },
  {
   "cell_type": "markdown",
   "id": "a9b8a0ae-f9b9-491f-b735-6762e4e2ec69",
   "metadata": {},
   "source": [
    "Hipotez Testinin Uygulanması"
   ]
  },
  {
   "cell_type": "code",
   "execution_count": 41,
   "id": "463beff5-154a-4fcc-8e02-72fc2c3c2a80",
   "metadata": {},
   "outputs": [],
   "source": [
    "from scipy.stats import f_oneway"
   ]
  },
  {
   "cell_type": "code",
   "execution_count": 42,
   "id": "a339b34b-c587-4cb6-8326-33edc4479496",
   "metadata": {},
   "outputs": [
    {
     "data": {
      "text/plain": [
       "F_onewayResult(statistic=53.46714172604916, pvalue=1.566295188711795e-14)"
      ]
     },
     "execution_count": 42,
     "metadata": {},
     "output_type": "execute_result"
    }
   ],
   "source": [
    "f_oneway(ABC.A,ABC.B,ABC.C)"
   ]
  },
  {
   "cell_type": "code",
   "execution_count": 43,
   "id": "cdffde01-8e37-49bf-8244-9364a278f669",
   "metadata": {},
   "outputs": [
    {
     "name": "stdout",
     "output_type": "stream",
     "text": [
      "0.00000\n"
     ]
    }
   ],
   "source": [
    "print('{:.5f}'.format(f_oneway(ABC.A,ABC.B,ABC.C)[1]))"
   ]
  },
  {
   "cell_type": "markdown",
   "id": "3371fdc5-6a35-4e8a-82f5-f922b80865d3",
   "metadata": {},
   "source": [
    "H0 : Bütün içerik oluşturma modellerinin tıklanma alma sayısı arasında istatistiki olarak anlamlı bir fark yoktur. H0 reddedilir.Anlamlı bir fark vardır."
   ]
  },
  {
   "cell_type": "code",
   "execution_count": 44,
   "id": "a87e502a-2354-4938-a233-c777c6a14072",
   "metadata": {},
   "outputs": [
    {
     "data": {
      "text/html": [
       "<div>\n",
       "<style scoped>\n",
       "    .dataframe tbody tr th:only-of-type {\n",
       "        vertical-align: middle;\n",
       "    }\n",
       "\n",
       "    .dataframe tbody tr th {\n",
       "        vertical-align: top;\n",
       "    }\n",
       "\n",
       "    .dataframe thead th {\n",
       "        text-align: right;\n",
       "    }\n",
       "</style>\n",
       "<table border=\"1\" class=\"dataframe\">\n",
       "  <thead>\n",
       "    <tr style=\"text-align: right;\">\n",
       "      <th></th>\n",
       "      <th>count</th>\n",
       "      <th>mean</th>\n",
       "      <th>std</th>\n",
       "      <th>min</th>\n",
       "      <th>25%</th>\n",
       "      <th>50%</th>\n",
       "      <th>75%</th>\n",
       "      <th>max</th>\n",
       "    </tr>\n",
       "  </thead>\n",
       "  <tbody>\n",
       "    <tr>\n",
       "      <th>A</th>\n",
       "      <td>23.0</td>\n",
       "      <td>29.956522</td>\n",
       "      <td>2.184205</td>\n",
       "      <td>25.0</td>\n",
       "      <td>28.5</td>\n",
       "      <td>30.0</td>\n",
       "      <td>31.0</td>\n",
       "      <td>34.0</td>\n",
       "    </tr>\n",
       "    <tr>\n",
       "      <th>B</th>\n",
       "      <td>23.0</td>\n",
       "      <td>31.869565</td>\n",
       "      <td>2.701924</td>\n",
       "      <td>27.0</td>\n",
       "      <td>30.0</td>\n",
       "      <td>31.0</td>\n",
       "      <td>34.0</td>\n",
       "      <td>38.0</td>\n",
       "    </tr>\n",
       "    <tr>\n",
       "      <th>C</th>\n",
       "      <td>23.0</td>\n",
       "      <td>37.521739</td>\n",
       "      <td>2.810202</td>\n",
       "      <td>33.0</td>\n",
       "      <td>35.0</td>\n",
       "      <td>38.0</td>\n",
       "      <td>39.5</td>\n",
       "      <td>43.0</td>\n",
       "    </tr>\n",
       "  </tbody>\n",
       "</table>\n",
       "</div>"
      ],
      "text/plain": [
       "   count       mean       std   min   25%   50%   75%   max\n",
       "A   23.0  29.956522  2.184205  25.0  28.5  30.0  31.0  34.0\n",
       "B   23.0  31.869565  2.701924  27.0  30.0  31.0  34.0  38.0\n",
       "C   23.0  37.521739  2.810202  33.0  35.0  38.0  39.5  43.0"
      ]
     },
     "execution_count": 44,
     "metadata": {},
     "output_type": "execute_result"
    }
   ],
   "source": [
    "ABC.describe().T"
   ]
  },
  {
   "cell_type": "code",
   "execution_count": 45,
   "id": "e17a5948-a4cf-4628-b49c-a6689fc8be3b",
   "metadata": {},
   "outputs": [],
   "source": [
    "import seaborn as sns"
   ]
  },
  {
   "cell_type": "code",
   "execution_count": 46,
   "id": "1f6a761c-0934-436a-83a2-d7ee9f047319",
   "metadata": {},
   "outputs": [
    {
     "name": "stdout",
     "output_type": "stream",
     "text": [
      "'AYRIK' Veri Seti: \n",
      "\n",
      "     A   B   C\n",
      "0  28  31  40\n",
      "1  33  32  33\n",
      "2  30  30  38\n",
      "3  29  30  41\n",
      "4  28  33  42\n",
      "'BIRLIKTE' Veri Seti \n",
      "\n",
      ",    SÜRELER A-B-C\n",
      "0       28     A\n",
      "1       33     A\n",
      "2       30     A\n",
      "3       29     A\n",
      "4       28     A \n",
      "\n"
     ]
    }
   ],
   "source": [
    "AYRIK = pd.concat([A,B,C], axis = 1)\n",
    "AYRIK.columns = [\"A\",\"B\",\"C\"]\n",
    "print(\"'AYRIK' Veri Seti: \\n\\n\", AYRIK.head())\n",
    " \n",
    "GRUPA = np.arange(len(A))\n",
    "GRUPA = pd.DataFrame(GRUPA)\n",
    "GRUPA[:] = \"A\"\n",
    "A =pd.concat([A,GRUPA],axis = 1)\n",
    " \n",
    " \n",
    " \n",
    "GRUPB = np.arange(len(B))\n",
    "GRUPB = pd.DataFrame(GRUPB)\n",
    "GRUPB[:] = \"B\"\n",
    "B = pd.concat([B,GRUPB],axis = 1)\n",
    " \n",
    " \n",
    " \n",
    "GRUPC = np.arange(len(C))\n",
    "GRUPC = pd.DataFrame(GRUPC)\n",
    "GRUPC[:] = \"C\"\n",
    "C = pd.concat([C,GRUPC],axis = 1)\n",
    " \n",
    " \n",
    "BIRLIKTE = pd.concat([A,B,C])\n",
    "BIRLIKTE\n",
    " \n",
    "BIRLIKTE.columns = [\"SÜRELER\", \"A-B-C\"]\n",
    "print(\"'BIRLIKTE' Veri Seti \\n\\n,\",BIRLIKTE.head(),\"\\n\") "
   ]
  },
  {
   "cell_type": "code",
   "execution_count": 47,
   "id": "1debd414-19bb-46a0-a005-b1a630fc5d20",
   "metadata": {},
   "outputs": [
    {
     "data": {
      "text/plain": [
       "<AxesSubplot:xlabel='A-B-C', ylabel='SÜRELER'>"
      ]
     },
     "execution_count": 47,
     "metadata": {},
     "output_type": "execute_result"
    },
    {
     "data": {
      "image/png": "[encoded data removed]",
      "text/plain": [
       "<Figure size 432x288 with 1 Axes>"
      ]
     },
     "metadata": {
      "needs_background": "light"
     },
     "output_type": "display_data"
    }
   ],
   "source": [
    "sns.boxplot(x = \"A-B-C\",y = \"SÜRELER\",data = BIRLIKTE)"
   ]
  },
  {
   "cell_type": "markdown",
   "id": "23546501-9f70-41c8-ae05-4a9c57a52a17",
   "metadata": {},
   "source": [
    "Nonparametrik Hipotez Testi"
   ]
  },
  {
   "cell_type": "code",
   "execution_count": 48,
   "id": "148ba0fb-809f-4e5b-a790-9aa0569f798b",
   "metadata": {},
   "outputs": [],
   "source": [
    "from scipy.stats import kruskal"
   ]
  },
  {
   "cell_type": "code",
   "execution_count": 49,
   "id": "2b3fcd97-c655-4793-9b79-a5f72fa1d1e1",
   "metadata": {},
   "outputs": [
    {
     "data": {
      "text/plain": [
       "KruskalResult(statistic=41.41835051661897, pvalue=1.014190318754816e-09)"
      ]
     },
     "execution_count": 49,
     "metadata": {},
     "output_type": "execute_result"
    }
   ],
   "source": [
    "kruskal(ABC.A,ABC.B,ABC.C)"
   ]
  },
  {
   "cell_type": "markdown",
   "id": "55ac2ce5-a9ad-4731-b8cc-2b72e11e967a",
   "metadata": {},
   "source": [
    "H0 reddedilir.Gruplar arasında istatistiki olarak anlamlı bir fark vardır."
   ]
  },
  {
   "cell_type": "code",
   "execution_count": null,
   "id": "1915d177-5580-439e-ab7f-49cd39e61787",
   "metadata": {},
   "outputs": [],
   "source": []
  }
 ],
 "metadata": {
  "kernelspec": {
   "display_name": "Python 3",
   "language": "python",
   "name": "python3"
  },
  "language_info": {
   "codemirror_mode": {
    "name": "ipython",
    "version": 3
   },
   "file_extension": ".py",
   "mimetype": "text/x-python",
   "name": "python",
   "nbconvert_exporter": "python",
   "pygments_lexer": "ipython3",
   "version": "3.8.8"
  }
 },
 "nbformat": 4,
 "nbformat_minor": 5
}
