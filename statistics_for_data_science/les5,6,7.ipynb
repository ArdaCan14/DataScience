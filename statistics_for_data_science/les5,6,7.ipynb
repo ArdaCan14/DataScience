{
 "cells": [
  {
   "cell_type": "code",
   "execution_count": 4,
   "id": "ba7e24db-82c8-4e9d-90a7-b5ee1ec2cd88",
   "metadata": {},
   "outputs": [
    {
     "name": "stdout",
     "output_type": "stream",
     "text": [
      "Atış sayısı: 2 --- Yazı olasılığı :50.00\n",
      "Atış sayısı: 4 --- Yazı olasılığı :0.00\n",
      "Atış sayısı: 8 --- Yazı olasılığı :62.50\n",
      "Atış sayısı: 16 --- Yazı olasılığı :43.75\n",
      "Atış sayısı: 32 --- Yazı olasılığı :46.88\n",
      "Atış sayısı: 64 --- Yazı olasılığı :56.25\n",
      "Atış sayısı: 128 --- Yazı olasılığı :50.78\n",
      "Atış sayısı: 256 --- Yazı olasılığı :52.73\n",
      "Atış sayısı: 512 --- Yazı olasılığı :52.93\n",
      "Atış sayısı: 1024 --- Yazı olasılığı :50.20\n",
      "Atış sayısı: 2048 --- Yazı olasılığı :48.58\n",
      "Atış sayısı: 4096 --- Yazı olasılığı :49.49\n",
      "Atış sayısı: 8192 --- Yazı olasılığı :49.58\n",
      "Atış sayısı: 16384 --- Yazı olasılığı :49.96\n",
      "Atış sayısı: 32768 --- Yazı olasılığı :50.00\n",
      "Atış sayısı: 65536 --- Yazı olasılığı :49.68\n",
      "Atış sayısı: 131072 --- Yazı olasılığı :49.97\n",
      "Atış sayısı: 262144 --- Yazı olasılığı :50.13\n",
      "Atış sayısı: 524288 --- Yazı olasılığı :50.01\n",
      "Atış sayısı: 1048576 --- Yazı olasılığı :50.09\n"
     ]
    }
   ],
   "source": [
    "import numpy as np\n",
    "rng = np.random.RandomState(123)\n",
    "for i in np.arange(1,21):\n",
    "    deney_sayisi = 2**i\n",
    "    yazi_turalar = rng.randint(0,2,size = deney_sayisi)\n",
    "    yazi_olasiliklari = np.mean(yazi_turalar)\n",
    "    print(\"Atış sayısı:\",deney_sayisi,\"---\",\"Yazı olasılığı :%.2f\"%(yazi_olasiliklari*100))"
   ]
  },
  {
   "cell_type": "code",
   "execution_count": 1,
   "id": "ef0c376e-fdcc-42b5-9ebc-3283319b595e",
   "metadata": {},
   "outputs": [],
   "source": [
    "#binom distrubiton"
   ]
  },
  {
   "cell_type": "markdown",
   "id": "96a7999b-f67f-4866-a089-731e10dcaa60",
   "metadata": {},
   "source": [
    "Problem:Çeşitli mecralarda reklam veriliyor.Reklamın tıklanma ve geri dönüşüm oranları optimize edilmeye çalışılıyor.Buna yönelik olarak belirli bir mecrada çeşitli senaryolara göre reklama tıklanma olasılıkları hesaplanmak isteniyor.\n",
    "Detaylar:\n",
    "-Bir mecrada reklam verilecek\n",
    "-Dağılım ve reklama tıklanma olasılığı veriliyor(0.01)\n",
    "Soru : Reklamı 100 kişi gördüğünde 1,5,10 tıklanması olasılığı nedir?"
   ]
  },
  {
   "cell_type": "code",
   "execution_count": 3,
   "id": "d42057af-5706-4a77-80be-024a9e219f6f",
   "metadata": {},
   "outputs": [],
   "source": [
    "from scipy.stats import binom"
   ]
  },
  {
   "cell_type": "code",
   "execution_count": 5,
   "id": "f7d89c75-f5e1-4dd0-ba99-d4266d0e2c1d",
   "metadata": {},
   "outputs": [
    {
     "name": "stdout",
     "output_type": "stream",
     "text": [
      "0.36972963764971983\n",
      "0.0028977871237616114\n",
      "7.006035693977161e-08\n"
     ]
    }
   ],
   "source": [
    "p = 0.01\n",
    "n = 100\n",
    "rv = binom(n,p)\n",
    "print(rv.pmf(1))\n",
    "print(rv.pmf(5))\n",
    "print(rv.pmf(10))"
   ]
  },
  {
   "cell_type": "code",
   "execution_count": 6,
   "id": "1a5b1c5c-8d65-427c-a9cf-1b6fc90b9c0d",
   "metadata": {},
   "outputs": [],
   "source": [
    "#Poisson Ditrubiton"
   ]
  },
  {
   "cell_type": "markdown",
   "id": "fe0cfc0b-db5e-4fd3-875b-f645a819e25f",
   "metadata": {},
   "source": [
    "Problem:Hatalı ilan girişi olasılıkları hesaplanmak isteniyor.\n",
    "Detaylar:\n",
    "1-Bir yıl boyunca ölçüm yapılıyor.\n",
    "2-Dağılım biliniyor(Poisson) ve Lambda 0.1(ortalama hata sayısı)\n",
    "3-Hiç hata olamaması ,3 hata olması ve 5 hata olması olasılıkları nedir?"
   ]
  },
  {
   "cell_type": "code",
   "execution_count": 7,
   "id": "27ed90f0-2754-4399-b47f-078b09006785",
   "metadata": {},
   "outputs": [],
   "source": [
    "from scipy.stats import poisson"
   ]
  },
  {
   "cell_type": "code",
   "execution_count": 9,
   "id": "a14b9baf-df42-4c6a-8429-38423add1329",
   "metadata": {},
   "outputs": [
    {
     "name": "stdout",
     "output_type": "stream",
     "text": [
      "0.9048374180359595\n",
      "0.00015080623633932676\n",
      "7.54031181696634e-08\n"
     ]
    }
   ],
   "source": [
    "lambda_ = 0.1\n",
    "rv = poisson(mu = lambda_)\n",
    "print(rv.pmf(k = 0))\n",
    "print(rv.pmf(k = 3))\n",
    "print(rv.pmf(k = 5))"
   ]
  },
  {
   "cell_type": "markdown",
   "id": "db159181-0bac-45c0-b8b8-a342c86bdc70",
   "metadata": {},
   "source": [
    "Problem:Bir tanışma uygulamasında insanların uygulamada tanıştıktan sonra gerçek hayatta buluşma olasılıkları çeşitli senaryolara göre hesaplanmak isteniyor.\n",
    "Detaylar:\n",
    "-Bir tanışma uygulaması gözlemlenecek\n",
    "-Uygulamanda tanıştıktan sonra gerçek hayatta tanışma olasılığı(0.02)\n",
    "Soru : 200 kişi uygulamada tabıştıktan sonra 5,10,15 kişinin gerçek hayatta buluşma olasılığı?"
   ]
  },
  {
   "cell_type": "code",
   "execution_count": 10,
   "id": "1da5885d-f217-46a8-92f2-caa5a3fc616d",
   "metadata": {},
   "outputs": [],
   "source": [
    "from scipy.stats import binom"
   ]
  },
  {
   "cell_type": "code",
   "execution_count": 22,
   "id": "86284218-f8ea-415c-af28-4890b587f99b",
   "metadata": {},
   "outputs": [
    {
     "name": "stdout",
     "output_type": "stream",
     "text": [
      "0.27341391156977374\n",
      "0.011421586561678673\n",
      "2.8770777658467133e-05\n"
     ]
    }
   ],
   "source": [
    "p = 0.02\n",
    "n = 100\n",
    "rv = binom(n,p)\n",
    "print(rv.pmf(2))\n",
    "print(rv.pmf(6))\n",
    "print(rv.pmf(10))"
   ]
  },
  {
   "cell_type": "markdown",
   "id": "f4bf4058-5032-4e6f-bfe9-abfb2883433c",
   "metadata": {},
   "source": [
    "Problem:Kitaplardaki hatalı harfler hesaplanmak isteniyor.\n",
    "Detaylar:\n",
    "1-Bir yıl boyunca ölçüm yapılıyor.\n",
    "2-Dağılım biliniyor(Poisson) ve Lambda 0.1(ortalama hata sayısı)\n",
    "3-Hiç hata olamaması ,3 hata olması ve 5 hata olması olasılıkları nedir?"
   ]
  },
  {
   "cell_type": "code",
   "execution_count": 23,
   "id": "7747f7b6-e88e-4221-bf37-b51d0e74b0e2",
   "metadata": {},
   "outputs": [],
   "source": [
    "from scipy.stats import poisson"
   ]
  },
  {
   "cell_type": "code",
   "execution_count": 24,
   "id": "f1a8eb38-102b-46f4-a730-eaf6707243db",
   "metadata": {},
   "outputs": [
    {
     "name": "stdout",
     "output_type": "stream",
     "text": [
      "0.8187307530779818\n",
      "2.183282008207956e-06\n",
      "2.3103513314369915e-14\n"
     ]
    }
   ],
   "source": [
    "lambda_ = 0.2\n",
    "rv = poisson(mu = lambda_)\n",
    "print(rv.pmf(k = 0))\n",
    "print(rv.pmf(k = 5))\n",
    "print(rv.pmf(k = 10))"
   ]
  },
  {
   "cell_type": "code",
   "execution_count": 1,
   "id": "440843e5-56ac-4721-a19e-eb326ff53ab1",
   "metadata": {},
   "outputs": [],
   "source": [
    "from scipy.stats import binom"
   ]
  },
  {
   "cell_type": "code",
   "execution_count": 13,
   "id": "54d16038-5b80-40de-859b-8b00fe5dce35",
   "metadata": {},
   "outputs": [
    {
     "name": "stdout",
     "output_type": "stream",
     "text": [
      "0.09375000000000003\n",
      "0.23437500000000003\n",
      "0.3125000000000002\n"
     ]
    }
   ],
   "source": [
    "p = 0.5\n",
    "n = 6\n",
    "rv = binom(n,p)\n",
    "print(rv.pmf(k = 1))\n",
    "print(rv.pmf(k = 2))\n",
    "print(rv.pmf(3))"
   ]
  },
  {
   "cell_type": "code",
   "execution_count": 14,
   "id": "818ff11c-7edf-41e2-afea-d0d85782c65c",
   "metadata": {},
   "outputs": [],
   "source": [
    "from scipy.stats import poisson"
   ]
  },
  {
   "cell_type": "code",
   "execution_count": 16,
   "id": "ed46ee20-a5a8-473e-a24c-0d6d9d36d87d",
   "metadata": {},
   "outputs": [
    {
     "name": "stdout",
     "output_type": "stream",
     "text": [
      "0.09048374180359597\n",
      "0.004524187090179801\n"
     ]
    }
   ],
   "source": [
    "lambda_ = 0.1\n",
    "rv = poisson(mu = lambda_)\n",
    "print(rv.pmf(1))\n",
    "print(rv.pmf(2))"
   ]
  },
  {
   "cell_type": "code",
   "execution_count": null,
   "id": "c30562e5-6202-4ab2-b5c0-8ef68a8a08a8",
   "metadata": {},
   "outputs": [],
   "source": []
  }
 ],
 "metadata": {
  "kernelspec": {
   "display_name": "Python 3",
   "language": "python",
   "name": "python3"
  },
  "language_info": {
   "codemirror_mode": {
    "name": "ipython",
    "version": 3
   },
   "file_extension": ".py",
   "mimetype": "text/x-python",
   "name": "python",
   "nbconvert_exporter": "python",
   "pygments_lexer": "ipython3",
   "version": "3.8.8"
  }
 },
 "nbformat": 4,
 "nbformat_minor": 5
}
