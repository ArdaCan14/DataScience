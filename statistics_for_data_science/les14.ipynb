{
 "cells": [
  {
   "cell_type": "markdown",
   "id": "d74c5bcb-ec53-4580-bc3f-84d9c0765462",
   "metadata": {},
   "source": [
    "Nonparametrik Bağımlı İki Örneklem Testi"
   ]
  },
  {
   "cell_type": "code",
   "execution_count": 2,
   "id": "c6d00c2c-0cf7-4c7b-bb87-4999c5a05943",
   "metadata": {},
   "outputs": [],
   "source": [
    "import scipy.stats as stats\n",
    "import pandas as pd\n",
    "import numpy as np\n",
    "\n",
    "oncesi = pd.DataFrame([123,119,119,116,123,123,121,120,117,118,121,121,123,119,\n",
    "                      121,118,124,121,125,115,115,119,118,121,117,117,120,120,\n",
    "                      121,117,118,117,123,118,124,121,115,118,125,115])\n",
    "\n",
    "sonrasi = pd.DataFrame([118,127,122,132,129,123,129,132,128,130,128,138,140,130,\n",
    "                       134,134,124,140,134,129,129,138,134,124,122,126,133,127,\n",
    "                       130,130,130,132,117,130,125,129,133,120,127,123])"
   ]
  },
  {
   "cell_type": "code",
   "execution_count": 3,
   "id": "52532c1d-d899-435f-9603-023433fe8b8b",
   "metadata": {},
   "outputs": [
    {
     "name": "stdout",
     "output_type": "stream",
     "text": [
      "'AYRIK' Veri Seti : \n",
      "\n",
      "     Oncesi  Sonrasi\n",
      "0     123      118\n",
      "1     119      127\n",
      "2     119      122\n",
      "3     116      132\n",
      "4     123      129 \n",
      "\n",
      "\n",
      "'BIRLIKTE' Veri Seti :\n",
      "\n",
      "    Performans Oncesi_Sonrasi\n",
      "0         123         ONCESI\n",
      "1         119         ONCESI\n",
      "2         119         ONCESI\n",
      "3         116         ONCESI\n",
      "4         123         ONCESI \n",
      "\n"
     ]
    }
   ],
   "source": [
    "#1.Veri Seti\n",
    "AYRIK = pd.concat([oncesi,sonrasi],axis = 1)\n",
    "AYRIK.columns = [\"Oncesi\",\"Sonrasi\"]\n",
    "print(\"'AYRIK' Veri Seti : \\n\\n \",AYRIK.head(),\"\\n\\n\")\n",
    "\n",
    "#2.Veri Seti\n",
    "#ONCESI Flag/TAG'ını oluşturma \n",
    "GRUP_ONCESI = np.arange(len(oncesi))\n",
    "GRUP_ONCESI = pd.DataFrame(GRUP_ONCESI)\n",
    "GRUP_ONCESI[:] = \"ONCESI\"\n",
    "#Flag ve ONCESI değelerini bir araya getirme\n",
    "A = pd.concat([oncesi,GRUP_ONCESI],axis = 1)\n",
    "#SONRASI flag tagini oluşturma\n",
    "GRUP_SONRASI = np.arange(len(sonrasi))\n",
    "GRUP_SONRASI = pd.DataFrame(GRUP_SONRASI)\n",
    "GRUP_SONRASI[:] = \"SONRASI\"\n",
    "#Flag ve SONRASII değelerini bir araya getirme\n",
    "B = pd.concat([sonrasi,GRUP_SONRASI],axis = 1)\n",
    "#Tüm veriyi bir araya getirme\n",
    "BIRLIKTE = pd.concat([A,B])\n",
    "BIRLIKTE\n",
    "#İSİMLENDİRME\n",
    "BIRLIKTE.columns = [\"Performans\",\"Oncesi_Sonrasi\"]\n",
    "print(\"'BIRLIKTE' Veri Seti :\\n\\n\",BIRLIKTE.head(),\"\\n\")"
   ]
  },
  {
   "cell_type": "code",
   "execution_count": 5,
   "id": "ea1ba193-9a4a-4cf1-826e-eb535313e479",
   "metadata": {},
   "outputs": [
    {
     "data": {
      "text/plain": [
       "WilcoxonResult(statistic=15.0, pvalue=2.491492033374464e-07)"
      ]
     },
     "execution_count": 5,
     "metadata": {},
     "output_type": "execute_result"
    }
   ],
   "source": [
    "stats.wilcoxon(AYRIK.Oncesi,AYRIK.Sonrasi)"
   ]
  },
  {
   "cell_type": "code",
   "execution_count": null,
   "id": "3bef655a-5b95-4e8f-b792-8134266213a0",
   "metadata": {},
   "outputs": [],
   "source": []
  }
 ],
 "metadata": {
  "kernelspec": {
   "display_name": "Python 3",
   "language": "python",
   "name": "python3"
  },
  "language_info": {
   "codemirror_mode": {
    "name": "ipython",
    "version": 3
   },
   "file_extension": ".py",
   "mimetype": "text/x-python",
   "name": "python",
   "nbconvert_exporter": "python",
   "pygments_lexer": "ipython3",
   "version": "3.8.8"
  }
 },
 "nbformat": 4,
 "nbformat_minor": 5
}
