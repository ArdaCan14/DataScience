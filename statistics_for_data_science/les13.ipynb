{
 "cells": [
  {
   "cell_type": "markdown",
   "id": "ef2c6183-9774-4f56-b853-35a57c06ccd3",
   "metadata": {},
   "source": [
    "Bağımlı İki Örneklem T Testi"
   ]
  },
  {
   "cell_type": "markdown",
   "id": "e02ed5c4-0c3c-4535-a7ac-ca00f51dc4d4",
   "metadata": {},
   "source": [
    "Bağımlı İki grup ortalaması arasında karşılaştırma yapılmak istenildiğinde kullanılır."
   ]
  },
  {
   "cell_type": "markdown",
   "id": "3a1c4e64-ad9c-476c-824e-e7c70187821a",
   "metadata": {},
   "source": [
    "Normallik Varsayımı\n",
    "Varyanslık Homojenliği"
   ]
  },
  {
   "cell_type": "raw",
   "id": "744f7ee7-4536-450c-842f-dc47aeedfaa1",
   "metadata": {},
   "source": [
    "İş Uygulaması : Şirket içi eğitimin performans etkisi ölçümü\n",
    "Problem : Belirli uğraşlar sonucu alınan eğitimin katma değer sağlayıp sağlamadığı ölçülmek isteniyor.\n",
    "Detaylar:\n",
    "-Bir departaman bir konuda eğitim talep ediyor.\n",
    "-Gerekli-Gereksiz değerlendirmeler neticesinde eğitim alınıyor.\n",
    "-Eğitimden önce ve sonra olmak üzere gerekli ölçümler yapılıyor.\n",
    "-Eğitim sonrasında eğitimin sağladığı katma değer test edilmek isteniyor.,\n",
    "\n",
    "Hipotez : H0 : MüÖ == MüS\n",
    "          H1 : MüÖ != MüS"
   ]
  },
  {
   "cell_type": "code",
   "execution_count": 1,
   "id": "b0ab1639-1818-46a7-abed-cc67860f5785",
   "metadata": {},
   "outputs": [],
   "source": [
    "import pandas as pd\n",
    "import numpy as np\n",
    "\n",
    "oncesi = pd.DataFrame([123,119,119,116,123,123,121,120,117,118,121,121,123,119,\n",
    "                      121,118,124,121,125,115,115,119,118,121,117,117,120,120,\n",
    "                      121,117,118,117,123,118,124,121,115,118,125,115])\n",
    "\n",
    "sonrasi = pd.DataFrame([118,127,122,132,129,123,129,132,128,130,128,138,140,130,\n",
    "                       134,134,124,140,134,129,129,138,134,124,122,126,133,127,\n",
    "                       130,130,130,132,117,130,125,129,133,120,127,123])"
   ]
  },
  {
   "cell_type": "code",
   "execution_count": 2,
   "id": "70fccbb0-b177-40e1-bfb6-454a55a94c10",
   "metadata": {},
   "outputs": [
    {
     "data": {
      "text/html": [
       "<div>\n",
       "<style scoped>\n",
       "    .dataframe tbody tr th:only-of-type {\n",
       "        vertical-align: middle;\n",
       "    }\n",
       "\n",
       "    .dataframe tbody tr th {\n",
       "        vertical-align: top;\n",
       "    }\n",
       "\n",
       "    .dataframe thead th {\n",
       "        text-align: right;\n",
       "    }\n",
       "</style>\n",
       "<table border=\"1\" class=\"dataframe\">\n",
       "  <thead>\n",
       "    <tr style=\"text-align: right;\">\n",
       "      <th></th>\n",
       "      <th>0</th>\n",
       "    </tr>\n",
       "  </thead>\n",
       "  <tbody>\n",
       "    <tr>\n",
       "      <th>0</th>\n",
       "      <td>123</td>\n",
       "    </tr>\n",
       "    <tr>\n",
       "      <th>1</th>\n",
       "      <td>119</td>\n",
       "    </tr>\n",
       "    <tr>\n",
       "      <th>2</th>\n",
       "      <td>119</td>\n",
       "    </tr>\n",
       "    <tr>\n",
       "      <th>3</th>\n",
       "      <td>116</td>\n",
       "    </tr>\n",
       "    <tr>\n",
       "      <th>4</th>\n",
       "      <td>123</td>\n",
       "    </tr>\n",
       "    <tr>\n",
       "      <th>5</th>\n",
       "      <td>123</td>\n",
       "    </tr>\n",
       "    <tr>\n",
       "      <th>6</th>\n",
       "      <td>121</td>\n",
       "    </tr>\n",
       "    <tr>\n",
       "      <th>7</th>\n",
       "      <td>120</td>\n",
       "    </tr>\n",
       "    <tr>\n",
       "      <th>8</th>\n",
       "      <td>117</td>\n",
       "    </tr>\n",
       "    <tr>\n",
       "      <th>9</th>\n",
       "      <td>118</td>\n",
       "    </tr>\n",
       "  </tbody>\n",
       "</table>\n",
       "</div>"
      ],
      "text/plain": [
       "     0\n",
       "0  123\n",
       "1  119\n",
       "2  119\n",
       "3  116\n",
       "4  123\n",
       "5  123\n",
       "6  121\n",
       "7  120\n",
       "8  117\n",
       "9  118"
      ]
     },
     "execution_count": 2,
     "metadata": {},
     "output_type": "execute_result"
    }
   ],
   "source": [
    "oncesi[:10]"
   ]
  },
  {
   "cell_type": "code",
   "execution_count": 3,
   "id": "be4bdf0e-2d7a-4c94-9922-eff3158ae0ea",
   "metadata": {},
   "outputs": [
    {
     "data": {
      "text/html": [
       "<div>\n",
       "<style scoped>\n",
       "    .dataframe tbody tr th:only-of-type {\n",
       "        vertical-align: middle;\n",
       "    }\n",
       "\n",
       "    .dataframe tbody tr th {\n",
       "        vertical-align: top;\n",
       "    }\n",
       "\n",
       "    .dataframe thead th {\n",
       "        text-align: right;\n",
       "    }\n",
       "</style>\n",
       "<table border=\"1\" class=\"dataframe\">\n",
       "  <thead>\n",
       "    <tr style=\"text-align: right;\">\n",
       "      <th></th>\n",
       "      <th>0</th>\n",
       "    </tr>\n",
       "  </thead>\n",
       "  <tbody>\n",
       "    <tr>\n",
       "      <th>0</th>\n",
       "      <td>118</td>\n",
       "    </tr>\n",
       "    <tr>\n",
       "      <th>1</th>\n",
       "      <td>127</td>\n",
       "    </tr>\n",
       "    <tr>\n",
       "      <th>2</th>\n",
       "      <td>122</td>\n",
       "    </tr>\n",
       "    <tr>\n",
       "      <th>3</th>\n",
       "      <td>132</td>\n",
       "    </tr>\n",
       "    <tr>\n",
       "      <th>4</th>\n",
       "      <td>129</td>\n",
       "    </tr>\n",
       "    <tr>\n",
       "      <th>5</th>\n",
       "      <td>123</td>\n",
       "    </tr>\n",
       "    <tr>\n",
       "      <th>6</th>\n",
       "      <td>129</td>\n",
       "    </tr>\n",
       "    <tr>\n",
       "      <th>7</th>\n",
       "      <td>132</td>\n",
       "    </tr>\n",
       "  </tbody>\n",
       "</table>\n",
       "</div>"
      ],
      "text/plain": [
       "     0\n",
       "0  118\n",
       "1  127\n",
       "2  122\n",
       "3  132\n",
       "4  129\n",
       "5  123\n",
       "6  129\n",
       "7  132"
      ]
     },
     "execution_count": 3,
     "metadata": {},
     "output_type": "execute_result"
    }
   ],
   "source": [
    "sonrasi[:8]"
   ]
  },
  {
   "cell_type": "code",
   "execution_count": 4,
   "id": "ab14d01f-cd41-46f5-9de0-4ddcc26c89d5",
   "metadata": {},
   "outputs": [
    {
     "name": "stdout",
     "output_type": "stream",
     "text": [
      "'AYRIK' Veri Seti : \n",
      "\n",
      "     Oncesi  Sonrasi\n",
      "0     123      118\n",
      "1     119      127\n",
      "2     119      122\n",
      "3     116      132\n",
      "4     123      129 \n",
      "\n",
      "\n",
      "'BIRLIKTE' Veri Seti :\n",
      "\n",
      "    Performans Oncesi_Sonrasi\n",
      "0         123         ONCESI\n",
      "1         119         ONCESI\n",
      "2         119         ONCESI\n",
      "3         116         ONCESI\n",
      "4         123         ONCESI \n",
      "\n"
     ]
    }
   ],
   "source": [
    "#1.Veri Seti\n",
    "AYRIK = pd.concat([oncesi,sonrasi],axis = 1)\n",
    "AYRIK.columns = [\"Oncesi\",\"Sonrasi\"]\n",
    "print(\"'AYRIK' Veri Seti : \\n\\n \",AYRIK.head(),\"\\n\\n\")\n",
    "\n",
    "#2.Veri Seti\n",
    "#ONCESI Flag/TAG'ını oluşturma \n",
    "GRUP_ONCESI = np.arange(len(oncesi))\n",
    "GRUP_ONCESI = pd.DataFrame(GRUP_ONCESI)\n",
    "GRUP_ONCESI[:] = \"ONCESI\"\n",
    "#Flag ve ONCESI değelerini bir araya getirme\n",
    "A = pd.concat([oncesi,GRUP_ONCESI],axis = 1)\n",
    "#SONRASI flag tagini oluşturma\n",
    "GRUP_SONRASI = np.arange(len(sonrasi))\n",
    "GRUP_SONRASI = pd.DataFrame(GRUP_SONRASI)\n",
    "GRUP_SONRASI[:] = \"SONRASI\"\n",
    "#Flag ve SONRASII değelerini bir araya getirme\n",
    "B = pd.concat([sonrasi,GRUP_SONRASI],axis = 1)\n",
    "#Tüm veriyi bir araya getirme\n",
    "BIRLIKTE = pd.concat([A,B])\n",
    "BIRLIKTE\n",
    "#İSİMLENDİRME\n",
    "BIRLIKTE.columns = [\"Performans\",\"Oncesi_Sonrasi\"]\n",
    "print(\"'BIRLIKTE' Veri Seti :\\n\\n\",BIRLIKTE.head(),\"\\n\")\n"
   ]
  },
  {
   "cell_type": "code",
   "execution_count": 5,
   "id": "6715ee01-db70-41c2-9647-311f00264475",
   "metadata": {},
   "outputs": [
    {
     "data": {
      "image/png": "[encoded data removed]",
      "text/plain": [
       "<Figure size 432x288 with 1 Axes>"
      ]
     },
     "metadata": {
      "needs_background": "light"
     },
     "output_type": "display_data"
    }
   ],
   "source": [
    "import seaborn as sns\n",
    "sns.boxplot(x = \"Oncesi_Sonrasi\",y = \"Performans\",data = BIRLIKTE);"
   ]
  },
  {
   "cell_type": "markdown",
   "id": "a6920977-dc14-44d9-9399-fafecc78e9cc",
   "metadata": {},
   "source": [
    "Varsayım Kontrolleri"
   ]
  },
  {
   "cell_type": "code",
   "execution_count": 6,
   "id": "3eab6df3-927e-46b4-8c63-90d75dd58e50",
   "metadata": {},
   "outputs": [],
   "source": [
    "from scipy.stats import shapiro\n",
    "import scipy.stats as stats"
   ]
  },
  {
   "cell_type": "code",
   "execution_count": 7,
   "id": "465fdbbd-5ec5-41cf-93c9-f7874f9f6876",
   "metadata": {},
   "outputs": [
    {
     "data": {
      "text/plain": [
       "ShapiroResult(statistic=0.9543656706809998, pvalue=0.10722451657056808)"
      ]
     },
     "execution_count": 7,
     "metadata": {},
     "output_type": "execute_result"
    }
   ],
   "source": [
    "shapiro(AYRIK.Oncesi)"
   ]
  },
  {
   "cell_type": "markdown",
   "id": "0323d2e4-42af-45fe-b1c3-cea647e57483",
   "metadata": {},
   "source": [
    "Normalliğe ilişkin HO Hipotezi : Örnek dağılım ile teorik normal dağılımı arasında istatiki anlamlı bir fark yoktur."
   ]
  },
  {
   "cell_type": "code",
   "execution_count": 8,
   "id": "0d4a3d15-31d2-4c63-bba9-8ed485767e49",
   "metadata": {},
   "outputs": [
    {
     "data": {
      "text/plain": [
       "ShapiroResult(statistic=0.9780089259147644, pvalue=0.6159515380859375)"
      ]
     },
     "execution_count": 8,
     "metadata": {},
     "output_type": "execute_result"
    }
   ],
   "source": [
    "shapiro(AYRIK.Sonrasi)"
   ]
  },
  {
   "cell_type": "code",
   "execution_count": 9,
   "id": "d646c31b-e2a9-43d9-8b1d-bf62d6727d94",
   "metadata": {},
   "outputs": [
    {
     "data": {
      "text/plain": [
       "LeveneResult(statistic=8.31303288672351, pvalue=0.0050844511807370246)"
      ]
     },
     "execution_count": 9,
     "metadata": {},
     "output_type": "execute_result"
    }
   ],
   "source": [
    "stats.levene(AYRIK.Oncesi,AYRIK.Sonrasi)"
   ]
  },
  {
   "cell_type": "markdown",
   "id": "432f2b16-5c0a-4b6a-b592-69295ccad4b5",
   "metadata": {},
   "source": [
    "HO : Varyanslar homojendir.Kontol ettiğimizde pvalue < alfa HO yanlış varyanslar homojen değildir.Bağımlı İki Örneklem T Testinde varyans homojenliği\n",
    "incelendiğinde burada bu varsayımın sağlanmaması durumunda bir miktar göz ardı edilebilen bir durumdur.Bu varyans sağlanmışçasına devam edeceğiz."
   ]
  },
  {
   "cell_type": "markdown",
   "id": "fcd97bb5-34f6-4471-8684-43c2aca54206",
   "metadata": {},
   "source": [
    "Hipotez Testi"
   ]
  },
  {
   "cell_type": "code",
   "execution_count": 10,
   "id": "5a618ca1-276d-4059-99ae-6fef0e9b6948",
   "metadata": {},
   "outputs": [
    {
     "data": {
      "text/plain": [
       "Ttest_relResult(statistic=-9.281533480429937, pvalue=2.0235251764440722e-11)"
      ]
     },
     "execution_count": 10,
     "metadata": {},
     "output_type": "execute_result"
    }
   ],
   "source": [
    "stats.ttest_rel(AYRIK.Oncesi,AYRIK.Sonrasi)"
   ]
  },
  {
   "cell_type": "markdown",
   "id": "93e4c172-4593-4ccb-8b36-5f9780111ee0",
   "metadata": {},
   "source": [
    "pvalue < alfa H0 reddedilir.Eğitim sonrası çalışanların performanası eğitim öncesi performanslarından yüksektir."
   ]
  },
  {
   "cell_type": "code",
   "execution_count": null,
   "id": "6c1cb6c1-1ea4-4b4e-83f0-0a9f4f367485",
   "metadata": {},
   "outputs": [],
   "source": []
  }
 ],
 "metadata": {
  "kernelspec": {
   "display_name": "Python 3",
   "language": "python",
   "name": "python3"
  },
  "language_info": {
   "codemirror_mode": {
    "name": "ipython",
    "version": 3
   },
   "file_extension": ".py",
   "mimetype": "text/x-python",
   "name": "python",
   "nbconvert_exporter": "python",
   "pygments_lexer": "ipython3",
   "version": "3.8.8"
  }
 },
 "nbformat": 4,
 "nbformat_minor": 5
}
