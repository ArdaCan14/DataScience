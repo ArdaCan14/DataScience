{
 "cells": [
  {
   "cell_type": "raw",
   "id": "656cf696-ac4e-4e64-a2ba-d527188ac5f0",
   "metadata": {},
   "source": [
    "Problem : Ceo wants to scientific rest and flexibilty about determining price."
   ]
  },
  {
   "cell_type": "raw",
   "id": "34a44727-6f02-4c82-8459-fa3e446555c6",
   "metadata": {},
   "source": [
    "Details:\n",
    "-There is a seller,customer and product.\n",
    "-Customers are asked how much money you would pay for product.\n",
    "-Optimum price wanted to be found as scientific and flexiable."
   ]
  },
  {
   "cell_type": "code",
   "execution_count": 1,
   "id": "17369eed-2619-41ff-97fb-5bd631ab2996",
   "metadata": {},
   "outputs": [],
   "source": [
    "import numpy as np\n",
    "prices = np.random.randint(10,111,1000)"
   ]
  },
  {
   "cell_type": "code",
   "execution_count": 2,
   "id": "cf593cd3-4fb0-4bdb-8985-1d3a70c6eebe",
   "metadata": {},
   "outputs": [
    {
     "data": {
      "text/plain": [
       "60.392"
      ]
     },
     "execution_count": 2,
     "metadata": {},
     "output_type": "execute_result"
    }
   ],
   "source": [
    "prices.mean()"
   ]
  },
  {
   "cell_type": "code",
   "execution_count": 4,
   "id": "fb6d49ac-93c7-4e3c-92ad-dec3d2868d1e",
   "metadata": {},
   "outputs": [],
   "source": [
    "import statsmodels.stats.api as sms"
   ]
  },
  {
   "cell_type": "code",
   "execution_count": 6,
   "id": "debe4866-5bbe-414a-8943-8cdb620b5e59",
   "metadata": {},
   "outputs": [
    {
     "data": {
      "text/plain": [
       "(58.58486099622379, 62.19913900377622)"
      ]
     },
     "execution_count": 6,
     "metadata": {},
     "output_type": "execute_result"
    }
   ],
   "source": [
    "sms.DescrStatsW(prices).tconfint_mean()"
   ]
  },
  {
   "cell_type": "raw",
   "id": "fb7b3eaf-2644-4af4-a008-b0756c3a787f",
   "metadata": {},
   "source": [
    "Probality Distrubutions\n",
    "Bernoulli Distrubution"
   ]
  },
  {
   "cell_type": "markdown",
   "id": "ec6fc206-a00f-495b-8361-8bab9666d727",
   "metadata": {},
   "source": [
    "${displaystyle f(k;p)=p^{k}(1-p)^{1-k}\\quad {\\text{for }}k\\in \\{0,1\\}}$"
   ]
  },
  {
   "cell_type": "code",
   "execution_count": 9,
   "id": "0f7afb78-08aa-42cc-8e46-8f55c9d66575",
   "metadata": {},
   "outputs": [],
   "source": [
    "from scipy.stats import bernoulli"
   ]
  },
  {
   "cell_type": "code",
   "execution_count": 10,
   "id": "5135cee1-97b9-474e-9f5a-83cec200753f",
   "metadata": {},
   "outputs": [],
   "source": [
    "p = 0.6"
   ]
  },
  {
   "cell_type": "code",
   "execution_count": 11,
   "id": "41a1e53e-fad4-47ce-8f2f-ca1337ed1ea1",
   "metadata": {},
   "outputs": [
    {
     "data": {
      "text/plain": [
       "0.6"
      ]
     },
     "execution_count": 11,
     "metadata": {},
     "output_type": "execute_result"
    }
   ],
   "source": [
    "rv = bernoulli(p)\n",
    "rv.pmf(k = 1)"
   ]
  },
  {
   "cell_type": "code",
   "execution_count": 12,
   "id": "b519fa99-adc1-481e-87dd-6ddf32290c8c",
   "metadata": {},
   "outputs": [
    {
     "data": {
      "text/plain": [
       "0.4"
      ]
     },
     "execution_count": 12,
     "metadata": {},
     "output_type": "execute_result"
    }
   ],
   "source": [
    "rv = bernoulli(p)\n",
    "rv.pmf(k = 0)"
   ]
  },
  {
   "cell_type": "code",
   "execution_count": 1,
   "id": "106262fd-dcb8-4b81-b162-b049a047d0bb",
   "metadata": {},
   "outputs": [],
   "source": [
    "from scipy.stats import bernoulli"
   ]
  },
  {
   "cell_type": "code",
   "execution_count": 2,
   "id": "aac8bf92-fb56-48cc-a3f4-f542fa39ce83",
   "metadata": {},
   "outputs": [],
   "source": [
    "p = 0.8547"
   ]
  },
  {
   "cell_type": "code",
   "execution_count": 3,
   "id": "6d26e2e1-96c2-4df1-a22b-1660468f3949",
   "metadata": {},
   "outputs": [
    {
     "data": {
      "text/plain": [
       "0.8547"
      ]
     },
     "execution_count": 3,
     "metadata": {},
     "output_type": "execute_result"
    }
   ],
   "source": [
    "rv = bernoulli(p)\n",
    "rv.pmf(1)"
   ]
  },
  {
   "cell_type": "code",
   "execution_count": 4,
   "id": "730f22c1-c0c7-4b56-8c80-8f1a77b2954d",
   "metadata": {},
   "outputs": [
    {
     "data": {
      "text/plain": [
       "0.14529999999999998"
      ]
     },
     "execution_count": 4,
     "metadata": {},
     "output_type": "execute_result"
    }
   ],
   "source": [
    "rv = bernoulli(p)\n",
    "rv.pmf(0)"
   ]
  },
  {
   "cell_type": "code",
   "execution_count": 5,
   "id": "00e4ccc5-b7c5-4bbb-9715-fc923a049921",
   "metadata": {},
   "outputs": [
    {
     "data": {
      "text/plain": [
       "102.07"
      ]
     },
     "execution_count": 5,
     "metadata": {},
     "output_type": "execute_result"
    }
   ],
   "source": [
    "import numpy as np\n",
    "prices = np.random.randint(50,150,100)\n",
    "prices.mean()"
   ]
  },
  {
   "cell_type": "code",
   "execution_count": 7,
   "id": "7352c192-748b-43e7-9949-a3f90ff75443",
   "metadata": {},
   "outputs": [],
   "source": [
    "import statsmodels.stats.api as sms"
   ]
  },
  {
   "cell_type": "code",
   "execution_count": 9,
   "id": "5ba8bb04-8961-427b-8e2f-7e53452f8d4c",
   "metadata": {},
   "outputs": [
    {
     "data": {
      "text/plain": [
       "(95.86730775217505, 108.27269224782493)"
      ]
     },
     "execution_count": 9,
     "metadata": {},
     "output_type": "execute_result"
    }
   ],
   "source": [
    "sms.DescrStatsW(prices).tconfint_mean()"
   ]
  },
  {
   "cell_type": "code",
   "execution_count": 1,
   "id": "978dcbca-5041-4aa0-a4ff-0722f3cd3802",
   "metadata": {},
   "outputs": [],
   "source": [
    "import numpy as np\n",
    "prices = np.random.randint(50,201,100)"
   ]
  },
  {
   "cell_type": "code",
   "execution_count": 2,
   "id": "749cce85-ae70-4df4-865e-e7f1b2638e1e",
   "metadata": {},
   "outputs": [
    {
     "data": {
      "text/plain": [
       "122.95"
      ]
     },
     "execution_count": 2,
     "metadata": {},
     "output_type": "execute_result"
    }
   ],
   "source": [
    "prices.mean()"
   ]
  },
  {
   "cell_type": "code",
   "execution_count": 4,
   "id": "1ca1ef9d-6bc4-4071-9b72-a053c2a7b24a",
   "metadata": {},
   "outputs": [],
   "source": [
    "import statsmodels.stats.api as sms"
   ]
  },
  {
   "cell_type": "code",
   "execution_count": 6,
   "id": "ffdafe37-99cd-4f3d-b367-05549a72f6c5",
   "metadata": {},
   "outputs": [
    {
     "data": {
      "text/plain": [
       "(114.42025041276013, 131.47974958723987)"
      ]
     },
     "execution_count": 6,
     "metadata": {},
     "output_type": "execute_result"
    }
   ],
   "source": [
    "sms.DescrStatsW(prices).tconfint_mean()"
   ]
  },
  {
   "cell_type": "code",
   "execution_count": 7,
   "id": "5a987b7e-4c9c-4429-94d4-7fff88d77f85",
   "metadata": {},
   "outputs": [],
   "source": [
    "from scipy.stats import bernoulli"
   ]
  },
  {
   "cell_type": "code",
   "execution_count": 8,
   "id": "69f7204a-308c-4c64-8022-91b8d3c4b228",
   "metadata": {},
   "outputs": [],
   "source": [
    "p = 0.8"
   ]
  },
  {
   "cell_type": "code",
   "execution_count": 9,
   "id": "b2e64d05-0f28-4af6-8faa-6f2f587e8fa9",
   "metadata": {},
   "outputs": [
    {
     "data": {
      "text/plain": [
       "0.8"
      ]
     },
     "execution_count": 9,
     "metadata": {},
     "output_type": "execute_result"
    }
   ],
   "source": [
    "rv = bernoulli(p)\n",
    "rv.pmf(1)"
   ]
  },
  {
   "cell_type": "code",
   "execution_count": 11,
   "id": "173b1624-6819-4b84-bd4d-13b287012a10",
   "metadata": {},
   "outputs": [
    {
     "data": {
      "text/plain": [
       "0.19999999999999998"
      ]
     },
     "execution_count": 11,
     "metadata": {},
     "output_type": "execute_result"
    }
   ],
   "source": [
    "rv = bernoulli(p)\n",
    "rv.pmf(0)"
   ]
  },
  {
   "cell_type": "code",
   "execution_count": null,
   "id": "3ddf36b5-acbd-4c06-b0ba-0f1e3437de21",
   "metadata": {},
   "outputs": [],
   "source": []
  }
 ],
 "metadata": {
  "kernelspec": {
   "display_name": "Python 3",
   "language": "python",
   "name": "python3"
  },
  "language_info": {
   "codemirror_mode": {
    "name": "ipython",
    "version": 3
   },
   "file_extension": ".py",
   "mimetype": "text/x-python",
   "name": "python",
   "nbconvert_exporter": "python",
   "pygments_lexer": "ipython3",
   "version": "3.8.8"
  }
 },
 "nbformat": 4,
 "nbformat_minor": 5
}
