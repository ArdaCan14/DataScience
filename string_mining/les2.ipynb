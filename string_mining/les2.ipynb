{
 "cells": [
  {
   "cell_type": "markdown",
   "id": "255072dd-93e9-4f81-b94e-466dc6ffb469",
   "metadata": {},
   "source": [
    "# Metin Madenciliği ve Doğral Dil İşleme"
   ]
  },
  {
   "cell_type": "markdown",
   "id": "314024fe-21ca-4533-981b-1295d9d77b87",
   "metadata": {},
   "source": [
    "## Metin Ön İşleme"
   ]
  },
  {
   "cell_type": "code",
   "execution_count": 1,
   "id": "09ff9b18-bb4a-4d55-b3ec-32ac1133de76",
   "metadata": {},
   "outputs": [],
   "source": [
    "import pandas as pd"
   ]
  },
  {
   "cell_type": "code",
   "execution_count": 2,
   "id": "c4c9d6ec-2a56-435d-b7f9-382a68463742",
   "metadata": {},
   "outputs": [
    {
     "data": {
      "text/plain": [
       "\"Esaretin Bedeli\\nThe God Father\\nBatman:The Dark Night\\nThe God Father 2\\n12 Angry Men\\nSchelinder's List\\nLord of The Rings:Back Returning The King\\nLord of The Rings:Ring Brotherhood\\nDune:Desert Planet\\n\""
      ]
     },
     "execution_count": 2,
     "metadata": {},
     "output_type": "execute_result"
    }
   ],
   "source": [
    "metin = \"\"\"Esaretin Bedeli\n",
    "The God Father\n",
    "Batman:The Dark Night\n",
    "The God Father 2\n",
    "12 Angry Men\n",
    "Schelinder's List\n",
    "Lord of The Rings:Back Returning The King\n",
    "Lord of The Rings:Ring Brotherhood\n",
    "Dune:Desert Planet\n",
    "\"\"\"\n",
    "metin"
   ]
  },
  {
   "cell_type": "code",
   "execution_count": 4,
   "id": "07cb869c-d2fc-42ee-96d9-c103c3a362bf",
   "metadata": {
    "collapsed": true,
    "jupyter": {
     "outputs_hidden": true
    },
    "tags": []
   },
   "outputs": [
    {
     "data": {
      "text/plain": [
       "['Esaretin',\n",
       " 'Bedeli',\n",
       " 'The',\n",
       " 'God',\n",
       " 'Father',\n",
       " 'Batman:The',\n",
       " 'Dark',\n",
       " 'Night',\n",
       " 'The',\n",
       " 'God',\n",
       " 'Father',\n",
       " '2',\n",
       " '12',\n",
       " 'Angry',\n",
       " 'Men',\n",
       " \"Schelinder's\",\n",
       " 'List',\n",
       " 'Lord',\n",
       " 'of',\n",
       " 'The',\n",
       " 'Rings:Back',\n",
       " 'Returning',\n",
       " 'The',\n",
       " 'King',\n",
       " 'Lord',\n",
       " 'of',\n",
       " 'The',\n",
       " 'Rings:Ring',\n",
       " 'Brotherhood',\n",
       " 'Dune:Desert',\n",
       " 'Planet']"
      ]
     },
     "execution_count": 4,
     "metadata": {},
     "output_type": "execute_result"
    }
   ],
   "source": [
    "metin.split()"
   ]
  },
  {
   "cell_type": "code",
   "execution_count": 5,
   "id": "c4cea143-e25a-45b2-89e0-24733a679c0f",
   "metadata": {},
   "outputs": [
    {
     "data": {
      "text/plain": [
       "['Esaretin Bedeli',\n",
       " 'The God Father',\n",
       " 'Batman:The Dark Night',\n",
       " 'The God Father 2',\n",
       " '12 Angry Men',\n",
       " \"Schelinder's List\",\n",
       " 'Lord of The Rings:Back Returning The King',\n",
       " 'Lord of The Rings:Ring Brotherhood',\n",
       " 'Dune:Desert Planet',\n",
       " '']"
      ]
     },
     "execution_count": 5,
     "metadata": {},
     "output_type": "execute_result"
    }
   ],
   "source": [
    "metin.split(\"\\n\")"
   ]
  },
  {
   "cell_type": "code",
   "execution_count": 6,
   "id": "760ec4b4-8bf2-48c7-bdb7-4767108d82a8",
   "metadata": {},
   "outputs": [],
   "source": [
    "v_metin = metin.split(\"\\n\")"
   ]
  },
  {
   "cell_type": "code",
   "execution_count": 8,
   "id": "f930b507-6e2b-4ebf-aa8e-2aa2c56d871f",
   "metadata": {},
   "outputs": [
    {
     "data": {
      "text/plain": [
       "0                              Esaretin Bedeli\n",
       "1                               The God Father\n",
       "2                        Batman:The Dark Night\n",
       "3                             The God Father 2\n",
       "4                                 12 Angry Men\n",
       "5                            Schelinder's List\n",
       "6    Lord of The Rings:Back Returning The King\n",
       "7           Lord of The Rings:Ring Brotherhood\n",
       "8                           Dune:Desert Planet\n",
       "9                                             \n",
       "dtype: object"
      ]
     },
     "execution_count": 8,
     "metadata": {},
     "output_type": "execute_result"
    }
   ],
   "source": [
    "v = pd.Series(v_metin)\n",
    "v"
   ]
  },
  {
   "cell_type": "code",
   "execution_count": 13,
   "id": "953abd40-ce27-40bb-bf0c-9e00567d8b0e",
   "metadata": {},
   "outputs": [],
   "source": [
    "metin_vektörü = v[1:len(v)-1]"
   ]
  },
  {
   "cell_type": "code",
   "execution_count": 14,
   "id": "c55460dd-1782-49de-84b0-8ecacbd19430",
   "metadata": {},
   "outputs": [
    {
     "data": {
      "text/plain": [
       "1                               The God Father\n",
       "2                        Batman:The Dark Night\n",
       "3                             The God Father 2\n",
       "4                                 12 Angry Men\n",
       "5                            Schelinder's List\n",
       "6    Lord of The Rings:Back Returning The King\n",
       "7           Lord of The Rings:Ring Brotherhood\n",
       "8                           Dune:Desert Planet\n",
       "dtype: object"
      ]
     },
     "execution_count": 14,
     "metadata": {},
     "output_type": "execute_result"
    }
   ],
   "source": [
    "metin_vektörü"
   ]
  },
  {
   "cell_type": "code",
   "execution_count": 15,
   "id": "eb39f8ea-d2d0-49c7-b834-a064c100eba7",
   "metadata": {},
   "outputs": [
    {
     "data": {
      "text/html": [
       "<div>\n",
       "<style scoped>\n",
       "    .dataframe tbody tr th:only-of-type {\n",
       "        vertical-align: middle;\n",
       "    }\n",
       "\n",
       "    .dataframe tbody tr th {\n",
       "        vertical-align: top;\n",
       "    }\n",
       "\n",
       "    .dataframe thead th {\n",
       "        text-align: right;\n",
       "    }\n",
       "</style>\n",
       "<table border=\"1\" class=\"dataframe\">\n",
       "  <thead>\n",
       "    <tr style=\"text-align: right;\">\n",
       "      <th></th>\n",
       "      <th>Movies</th>\n",
       "    </tr>\n",
       "  </thead>\n",
       "  <tbody>\n",
       "    <tr>\n",
       "      <th>1</th>\n",
       "      <td>The God Father</td>\n",
       "    </tr>\n",
       "    <tr>\n",
       "      <th>2</th>\n",
       "      <td>Batman:The Dark Night</td>\n",
       "    </tr>\n",
       "    <tr>\n",
       "      <th>3</th>\n",
       "      <td>The God Father 2</td>\n",
       "    </tr>\n",
       "    <tr>\n",
       "      <th>4</th>\n",
       "      <td>12 Angry Men</td>\n",
       "    </tr>\n",
       "    <tr>\n",
       "      <th>5</th>\n",
       "      <td>Schelinder's List</td>\n",
       "    </tr>\n",
       "    <tr>\n",
       "      <th>6</th>\n",
       "      <td>Lord of The Rings:Back Returning The King</td>\n",
       "    </tr>\n",
       "    <tr>\n",
       "      <th>7</th>\n",
       "      <td>Lord of The Rings:Ring Brotherhood</td>\n",
       "    </tr>\n",
       "    <tr>\n",
       "      <th>8</th>\n",
       "      <td>Dune:Desert Planet</td>\n",
       "    </tr>\n",
       "  </tbody>\n",
       "</table>\n",
       "</div>"
      ],
      "text/plain": [
       "                                      Movies\n",
       "1                             The God Father\n",
       "2                      Batman:The Dark Night\n",
       "3                           The God Father 2\n",
       "4                               12 Angry Men\n",
       "5                          Schelinder's List\n",
       "6  Lord of The Rings:Back Returning The King\n",
       "7         Lord of The Rings:Ring Brotherhood\n",
       "8                         Dune:Desert Planet"
      ]
     },
     "execution_count": 15,
     "metadata": {},
     "output_type": "execute_result"
    }
   ],
   "source": [
    "mdf = pd.DataFrame(metin_vektörü,columns = [\"Movies\"])\n",
    "mdf"
   ]
  },
  {
   "cell_type": "markdown",
   "id": "125db3f5-fda4-4639-8920-ec83eaa9af92",
   "metadata": {},
   "source": [
    "## Upper and Lower Letter"
   ]
  },
  {
   "cell_type": "code",
   "execution_count": 17,
   "id": "95b8d916-17da-4977-b594-bcffe23de597",
   "metadata": {},
   "outputs": [],
   "source": [
    "fmdf = mdf.copy()"
   ]
  },
  {
   "cell_type": "code",
   "execution_count": 18,
   "id": "48c3e692-7990-482b-9b6d-044ab87ccf87",
   "metadata": {},
   "outputs": [],
   "source": [
    "list1 = [1,2,3]"
   ]
  },
  {
   "cell_type": "code",
   "execution_count": 19,
   "id": "3e60489e-9d90-4733-9740-16b3b51c2534",
   "metadata": {},
   "outputs": [],
   "source": [
    "str1 = \" \".join(str(i) for i in list1)"
   ]
  },
  {
   "cell_type": "code",
   "execution_count": 20,
   "id": "48a750f8-18ac-4d3e-8aa3-17e70bf26fe3",
   "metadata": {},
   "outputs": [
    {
     "data": {
      "text/plain": [
       "'1 2 3'"
      ]
     },
     "execution_count": 20,
     "metadata": {},
     "output_type": "execute_result"
    }
   ],
   "source": [
    "str1"
   ]
  },
  {
   "cell_type": "code",
   "execution_count": 21,
   "id": "dda2b738-1bb4-4aef-bb85-62fb941bbf88",
   "metadata": {},
   "outputs": [
    {
     "data": {
      "text/plain": [
       "1                               the god father\n",
       "2                        batman:the dark night\n",
       "3                             the god father 2\n",
       "4                                 12 angry men\n",
       "5                            schelinder's list\n",
       "6    lord of the rings:back returning the king\n",
       "7           lord of the rings:ring brotherhood\n",
       "8                           dune:desert planet\n",
       "Name: Movies, dtype: object"
      ]
     },
     "execution_count": 21,
     "metadata": {},
     "output_type": "execute_result"
    }
   ],
   "source": [
    "fmdf[\"Movies\"].apply(lambda x: \" \".join(x.lower() for x in x.split()))"
   ]
  },
  {
   "cell_type": "code",
   "execution_count": 22,
   "id": "7ec16f46-c0da-4598-a091-5728e20939e1",
   "metadata": {},
   "outputs": [],
   "source": [
    "fmdf = fmdf[\"Movies\"].apply(lambda x: \" \".join(x.lower() for x in x.split()))"
   ]
  },
  {
   "cell_type": "code",
   "execution_count": 23,
   "id": "4d834f6e-85fd-48a1-8eff-dc21b6b3c71c",
   "metadata": {},
   "outputs": [
    {
     "data": {
      "text/plain": [
       "1                               the god father\n",
       "2                        batman:the dark night\n",
       "3                             the god father 2\n",
       "4                                 12 angry men\n",
       "5                            schelinder's list\n",
       "6    lord of the rings:back returning the king\n",
       "7           lord of the rings:ring brotherhood\n",
       "8                           dune:desert planet\n",
       "Name: Movies, dtype: object"
      ]
     },
     "execution_count": 23,
     "metadata": {},
     "output_type": "execute_result"
    }
   ],
   "source": [
    "fmdf"
   ]
  },
  {
   "cell_type": "markdown",
   "id": "1c6cd074-c8bc-4e1e-a1f8-bd1e2558c4cb",
   "metadata": {},
   "source": [
    "## Deleting the Signs"
   ]
  },
  {
   "cell_type": "code",
   "execution_count": 27,
   "id": "c5ec0730-5979-4885-88f1-8b094ebf9384",
   "metadata": {},
   "outputs": [],
   "source": [
    "mdf = pd.DataFrame(mdf,columns = [\"Movies\"])"
   ]
  },
  {
   "cell_type": "code",
   "execution_count": 28,
   "id": "565d860c-686e-4491-ae6e-b7516e1dde10",
   "metadata": {},
   "outputs": [],
   "source": [
    "smdf = mdf[\"Movies\"].str.replace(\"[^\\w\\s]\",\"\")"
   ]
  },
  {
   "cell_type": "code",
   "execution_count": 29,
   "id": "126b34d6-4392-4cb0-94f6-4c39a9f93550",
   "metadata": {},
   "outputs": [
    {
     "data": {
      "text/plain": [
       "1                               The God Father\n",
       "2                        Batman:The Dark Night\n",
       "3                             The God Father 2\n",
       "4                                 12 Angry Men\n",
       "5                            Schelinder's List\n",
       "6    Lord of The Rings:Back Returning The King\n",
       "7           Lord of The Rings:Ring Brotherhood\n",
       "8                           Dune:Desert Planet\n",
       "Name: Movies, dtype: object"
      ]
     },
     "execution_count": 29,
     "metadata": {},
     "output_type": "execute_result"
    }
   ],
   "source": [
    "smdf"
   ]
  },
  {
   "cell_type": "code",
   "execution_count": null,
   "id": "48a2a878-1753-4fff-b235-4a2718cff695",
   "metadata": {},
   "outputs": [],
   "source": []
  }
 ],
 "metadata": {
  "kernelspec": {
   "display_name": "Python 3",
   "language": "python",
   "name": "python3"
  },
  "language_info": {
   "codemirror_mode": {
    "name": "ipython",
    "version": 3
   },
   "file_extension": ".py",
   "mimetype": "text/x-python",
   "name": "python",
   "nbconvert_exporter": "python",
   "pygments_lexer": "ipython3",
   "version": "3.8.8"
  }
 },
 "nbformat": 4,
 "nbformat_minor": 5
}
